{
 "cells": [
  {
   "cell_type": "markdown",
   "metadata": {
    "id": "a4KP0Qf-N_C6"
   },
   "source": [
    "# Modelando la Pandemia\n",
    "\n",
    "  En este proyecto vamos a estudiar y analizar los datos mundiales de la pandemia COVID-19 usando países modelo de distintas políticas públicas para luego interpretar otras curvas.\n",
    "\n",
    "Puedes descargar el dataset de casos totales, divididos por país [aquí.](\n",
    "https://ourworldindata.org/coronavirus-data?country=\n",
    ") Descarga los datos  formato .csv luego podrás cargarlos en el notebook usando pandas, a partir de eso selecciona los de los países que te interesan, hay un ejemplo de cómo se hace esto en este notebook. \n",
    "\n",
    "# ¿Cómo empezó la pandemia?\n",
    "\n",
    "\n",
    "  La primer parte del trabajo consiste en estudiar cómo se empieza a propagar la pandemia, luego analizaremos las medidas tomadas y su efectividad.\n",
    "\n",
    "  Al inicio de una pandemia, se estima que los contagios siguen una ley exponencial, esa es la fase de \"crecimiento exponencial\", luego hay un decaimiento dado por la inmunidad. \n",
    "\n",
    "  Los datos de casos confirmados en función del tiempo $C(t)$, pueden aproximarse con el modelo\n",
    "\n",
    "$C(t)=e^{k(t-t_0)}$\n",
    "\n",
    "donde $t_0$ es la fecha del primer contagio, y $k$ es un parámetro propio de cada enfermedad, que habla de la contagiosidad. Cuanto mayor es $k$, más grande será el número de casos confirmados dado por la expresión. $k$ depende de el tiempo que una persona enferma contagia, el nivel de infecciosidad del virus y cuántas personas que se pueden contagiar ve una persona enferma por día. Es decir, la circulación. Haciendo cuarententa, $k$ disminuye, con la circulación $k$ aumenta.\n",
    "\n",
    "  El parámetro $k$ está directamente relacionado con el $R$ del que tanto se habla en los medios. En este proyecto haremos foco en $k$, pero puedes profundizar sobre esto si quieres, empezandó por [aquí](https://es.wikipedia.org/wiki/Ritmo_reproductivo_b%C3%A1sico). \n",
    "\n",
    "  Es posible hacer un modelo completo, pero para eso es necesario utilizar ecuaciones diferenciales. Si quieres profundizar sobre eso, busca información sobre \"modelo epidemiológico SEIR\". Si quieres ver cómo funciona este modelo, puedes empezar por [aquí](http://gabgoh.github.io/COVID/index.html). En ese link está implementado el modelo SEIR (no es necesario entender las ecuaciones en este caso) y el rol que cumplen los parámetros, puedes explorar el impacto de variar $R$ y el resto de los valores para ver cómo impactan en la cirva de contagios. Ahora utilizaremos la siguiente expresión para describir únicamente la etapa de crecimiento exponencial.\n",
    "\n",
    "\n",
    "  Comienza estudiando cómo se distribuyó el $k$ inicial de la pandemia y si es posible elaborar un intervalo de confianza razonable para este valor. Para eso \n",
    "  \n",
    "  1. Elegir diez países del norte (ahí empezó la pandemia) y puedes mide el valor de $k$ inicial de la pandemia, analizando datos del primer tramo.\n",
    "\n",
    "  2. Analiza si es posible estimar la evolución mundial de la pandemia a partir de lo que obtuviste. Para esto, puedes elaborar un intervalo de confianza para $k$ a partir de los que obtuviste y así generar un modelo nuevo, basado en la distribución de $k$. Luego compara el modelo con los datos mundiales.\n",
    "\n",
    "3. Piensa qué significa que el modelo de \"bien\" o dé \"mal\" ¿qué indicadores de esto existen?. Luego discute en el informe por qué crees que dio así. Recuerda que es importante elegir bien la población de muestra. Piensa qué criterios puedes elegir para representar bien la población mundial que se contagió al inicio de la pandemia.\n",
    " \n",
    " # Evaluando estrategias\n",
    "\n",
    " Ahora que tienes una manera de obtener información de las curvas, puedes intentar evaluar las estrategias de acción y el comportamiento de las poblaciones, construyendo un clasificador binario. \n",
    "1. Elige una categoría binaria que hable de políticas públicas elegidas por los países para enfrentar la pandemia que te interese estudiar, como pueden ser \"la población hizo cuarententa\" o \"la población se vacunó\".\n",
    "2. Piensa qué indicadores de la curva pueden hablar del éxito de la política que quieres estudiar. Por ejemplo, si se tratase de evaluar el éxito de una cuarentena podría ser porcentaje de población  que se contagió o variación del valor de $k$ a partir de que se empezó a implementar esa medida. Elige al menos 3 indicadores.\n",
    "3. Investiga sobre países que hayan aplicado o no esa política pública, para generar una base de datos. Por ejemplo, Brasil no hizo cuarentena y China hizo una muy estricta. Recuerda hacer una selección inteligente de la porción de datos de la curva de cada país que vas a analizar.\n",
    "4. Construye un clasificador binario a partir de una regresión logística o usando Naive Bayes para intentar analizar la estrategia de otros países y ver si es posible predecirla a partir de la curva de contagios y el clasificador. Un posible clasificador binario es uno que clasifique el porcentaje de contagios en función da las categorías \"la población hizo cuarentena\" y \"la población n hizo cuarentena\". Haz esto para los 3 indicadores que elegiste en el punto 3 y compara los resultados.\n",
    "5. Elabora un informe con lo que hayas aprendido a lo largo de este proyecto, donde discutas la utilidad o no de los indicadores que elegiste y del análisis estadístico propuesto.\n",
    "\n",
    "#¡Comencemos!\n",
    "\n",
    "  A continuación dejamos un ejemplo de cómo extraer el $k$ inicial de Argentina, usando un ajuste de cuadrados mínimos. Si necesitas los datos mundiales, en la columna de países aparecen como \"World\".\n",
    "\n"
   ]
  },
  {
   "cell_type": "code",
   "execution_count": 1,
   "metadata": {
    "id": "EeoJPP0uVEdB"
   },
   "outputs": [],
   "source": [
    "import numpy as np\n",
    "import pandas as pd\n",
    "import pylab as plt\n",
    "from scipy.optimize import curve_fit\n",
    "import seaborn as sbn\n",
    "import warnings\n",
    "from sklearn import linear_model\n",
    "from sklearn import model_selection\n",
    "from sklearn.metrics import classification_report\n",
    "from sklearn.metrics import confusion_matrix\n",
    "from sklearn.metrics import accuracy_score\n",
    "from sklearn.metrics import roc_auc_score\n",
    "from sklearn.metrics import roc_curve\n",
    "from sklearn.datasets import make_classification\n",
    "from sklearn.linear_model import LogisticRegression\n",
    "from sklearn.model_selection import train_test_split\n",
    "from matplotlib import pyplot"
   ]
  },
  {
   "cell_type": "markdown",
   "metadata": {},
   "source": [
    "# EXPLORACION DE DATOS Y MEDICION DE K"
   ]
  },
  {
   "cell_type": "markdown",
   "metadata": {},
   "source": [
    "Primero que nada, voy a cargar los datos, a revisar un poco los registros y columnas, analizandolas una por una para entender que significan cada una de ellas, para luego poder concluir con que datos contamos para poder transformarlos en informacion util para nuestra interpretacion y determinacion de conclusiones."
   ]
  },
  {
   "cell_type": "code",
   "execution_count": 3,
   "metadata": {
    "colab": {
     "base_uri": "https://localhost:8080/",
     "height": 424
    },
    "id": "xvuX_32HXxK0",
    "outputId": "39742517-30e2-4d78-cba0-78a57ca57a07"
   },
   "outputs": [
    {
     "data": {
      "text/html": [
       "<div>\n",
       "<style scoped>\n",
       "    .dataframe tbody tr th:only-of-type {\n",
       "        vertical-align: middle;\n",
       "    }\n",
       "\n",
       "    .dataframe tbody tr th {\n",
       "        vertical-align: top;\n",
       "    }\n",
       "\n",
       "    .dataframe thead th {\n",
       "        text-align: right;\n",
       "    }\n",
       "</style>\n",
       "<table border=\"1\" class=\"dataframe\">\n",
       "  <thead>\n",
       "    <tr style=\"text-align: right;\">\n",
       "      <th></th>\n",
       "      <th>iso_code</th>\n",
       "      <th>continent</th>\n",
       "      <th>location</th>\n",
       "      <th>date</th>\n",
       "      <th>total_cases</th>\n",
       "      <th>new_cases</th>\n",
       "      <th>new_cases_smoothed</th>\n",
       "      <th>total_deaths</th>\n",
       "      <th>new_deaths</th>\n",
       "      <th>new_deaths_smoothed</th>\n",
       "      <th>...</th>\n",
       "      <th>extreme_poverty</th>\n",
       "      <th>cardiovasc_death_rate</th>\n",
       "      <th>diabetes_prevalence</th>\n",
       "      <th>female_smokers</th>\n",
       "      <th>male_smokers</th>\n",
       "      <th>handwashing_facilities</th>\n",
       "      <th>hospital_beds_per_thousand</th>\n",
       "      <th>life_expectancy</th>\n",
       "      <th>human_development_index</th>\n",
       "      <th>excess_mortality</th>\n",
       "    </tr>\n",
       "  </thead>\n",
       "  <tbody>\n",
       "    <tr>\n",
       "      <th>0</th>\n",
       "      <td>AFG</td>\n",
       "      <td>Asia</td>\n",
       "      <td>Afghanistan</td>\n",
       "      <td>2020-02-24</td>\n",
       "      <td>5.0</td>\n",
       "      <td>5.0</td>\n",
       "      <td>NaN</td>\n",
       "      <td>NaN</td>\n",
       "      <td>NaN</td>\n",
       "      <td>NaN</td>\n",
       "      <td>...</td>\n",
       "      <td>NaN</td>\n",
       "      <td>597.029</td>\n",
       "      <td>9.59</td>\n",
       "      <td>NaN</td>\n",
       "      <td>NaN</td>\n",
       "      <td>37.746</td>\n",
       "      <td>0.5</td>\n",
       "      <td>64.83</td>\n",
       "      <td>0.511</td>\n",
       "      <td>NaN</td>\n",
       "    </tr>\n",
       "    <tr>\n",
       "      <th>1</th>\n",
       "      <td>AFG</td>\n",
       "      <td>Asia</td>\n",
       "      <td>Afghanistan</td>\n",
       "      <td>2020-02-25</td>\n",
       "      <td>5.0</td>\n",
       "      <td>0.0</td>\n",
       "      <td>NaN</td>\n",
       "      <td>NaN</td>\n",
       "      <td>NaN</td>\n",
       "      <td>NaN</td>\n",
       "      <td>...</td>\n",
       "      <td>NaN</td>\n",
       "      <td>597.029</td>\n",
       "      <td>9.59</td>\n",
       "      <td>NaN</td>\n",
       "      <td>NaN</td>\n",
       "      <td>37.746</td>\n",
       "      <td>0.5</td>\n",
       "      <td>64.83</td>\n",
       "      <td>0.511</td>\n",
       "      <td>NaN</td>\n",
       "    </tr>\n",
       "    <tr>\n",
       "      <th>2</th>\n",
       "      <td>AFG</td>\n",
       "      <td>Asia</td>\n",
       "      <td>Afghanistan</td>\n",
       "      <td>2020-02-26</td>\n",
       "      <td>5.0</td>\n",
       "      <td>0.0</td>\n",
       "      <td>NaN</td>\n",
       "      <td>NaN</td>\n",
       "      <td>NaN</td>\n",
       "      <td>NaN</td>\n",
       "      <td>...</td>\n",
       "      <td>NaN</td>\n",
       "      <td>597.029</td>\n",
       "      <td>9.59</td>\n",
       "      <td>NaN</td>\n",
       "      <td>NaN</td>\n",
       "      <td>37.746</td>\n",
       "      <td>0.5</td>\n",
       "      <td>64.83</td>\n",
       "      <td>0.511</td>\n",
       "      <td>NaN</td>\n",
       "    </tr>\n",
       "    <tr>\n",
       "      <th>3</th>\n",
       "      <td>AFG</td>\n",
       "      <td>Asia</td>\n",
       "      <td>Afghanistan</td>\n",
       "      <td>2020-02-27</td>\n",
       "      <td>5.0</td>\n",
       "      <td>0.0</td>\n",
       "      <td>NaN</td>\n",
       "      <td>NaN</td>\n",
       "      <td>NaN</td>\n",
       "      <td>NaN</td>\n",
       "      <td>...</td>\n",
       "      <td>NaN</td>\n",
       "      <td>597.029</td>\n",
       "      <td>9.59</td>\n",
       "      <td>NaN</td>\n",
       "      <td>NaN</td>\n",
       "      <td>37.746</td>\n",
       "      <td>0.5</td>\n",
       "      <td>64.83</td>\n",
       "      <td>0.511</td>\n",
       "      <td>NaN</td>\n",
       "    </tr>\n",
       "    <tr>\n",
       "      <th>4</th>\n",
       "      <td>AFG</td>\n",
       "      <td>Asia</td>\n",
       "      <td>Afghanistan</td>\n",
       "      <td>2020-02-28</td>\n",
       "      <td>5.0</td>\n",
       "      <td>0.0</td>\n",
       "      <td>NaN</td>\n",
       "      <td>NaN</td>\n",
       "      <td>NaN</td>\n",
       "      <td>NaN</td>\n",
       "      <td>...</td>\n",
       "      <td>NaN</td>\n",
       "      <td>597.029</td>\n",
       "      <td>9.59</td>\n",
       "      <td>NaN</td>\n",
       "      <td>NaN</td>\n",
       "      <td>37.746</td>\n",
       "      <td>0.5</td>\n",
       "      <td>64.83</td>\n",
       "      <td>0.511</td>\n",
       "      <td>NaN</td>\n",
       "    </tr>\n",
       "    <tr>\n",
       "      <th>...</th>\n",
       "      <td>...</td>\n",
       "      <td>...</td>\n",
       "      <td>...</td>\n",
       "      <td>...</td>\n",
       "      <td>...</td>\n",
       "      <td>...</td>\n",
       "      <td>...</td>\n",
       "      <td>...</td>\n",
       "      <td>...</td>\n",
       "      <td>...</td>\n",
       "      <td>...</td>\n",
       "      <td>...</td>\n",
       "      <td>...</td>\n",
       "      <td>...</td>\n",
       "      <td>...</td>\n",
       "      <td>...</td>\n",
       "      <td>...</td>\n",
       "      <td>...</td>\n",
       "      <td>...</td>\n",
       "      <td>...</td>\n",
       "      <td>...</td>\n",
       "    </tr>\n",
       "    <tr>\n",
       "      <th>117016</th>\n",
       "      <td>ZWE</td>\n",
       "      <td>Africa</td>\n",
       "      <td>Zimbabwe</td>\n",
       "      <td>2021-09-11</td>\n",
       "      <td>126220.0</td>\n",
       "      <td>57.0</td>\n",
       "      <td>113.571</td>\n",
       "      <td>4536.0</td>\n",
       "      <td>4.0</td>\n",
       "      <td>10.000</td>\n",
       "      <td>...</td>\n",
       "      <td>21.4</td>\n",
       "      <td>307.846</td>\n",
       "      <td>1.82</td>\n",
       "      <td>1.6</td>\n",
       "      <td>30.7</td>\n",
       "      <td>36.791</td>\n",
       "      <td>1.7</td>\n",
       "      <td>61.49</td>\n",
       "      <td>0.571</td>\n",
       "      <td>NaN</td>\n",
       "    </tr>\n",
       "    <tr>\n",
       "      <th>117017</th>\n",
       "      <td>ZWE</td>\n",
       "      <td>Africa</td>\n",
       "      <td>Zimbabwe</td>\n",
       "      <td>2021-09-12</td>\n",
       "      <td>126269.0</td>\n",
       "      <td>49.0</td>\n",
       "      <td>102.714</td>\n",
       "      <td>4538.0</td>\n",
       "      <td>2.0</td>\n",
       "      <td>8.000</td>\n",
       "      <td>...</td>\n",
       "      <td>21.4</td>\n",
       "      <td>307.846</td>\n",
       "      <td>1.82</td>\n",
       "      <td>1.6</td>\n",
       "      <td>30.7</td>\n",
       "      <td>36.791</td>\n",
       "      <td>1.7</td>\n",
       "      <td>61.49</td>\n",
       "      <td>0.571</td>\n",
       "      <td>NaN</td>\n",
       "    </tr>\n",
       "    <tr>\n",
       "      <th>117018</th>\n",
       "      <td>ZWE</td>\n",
       "      <td>Africa</td>\n",
       "      <td>Zimbabwe</td>\n",
       "      <td>2021-09-13</td>\n",
       "      <td>126399.0</td>\n",
       "      <td>130.0</td>\n",
       "      <td>104.000</td>\n",
       "      <td>4543.0</td>\n",
       "      <td>5.0</td>\n",
       "      <td>7.143</td>\n",
       "      <td>...</td>\n",
       "      <td>21.4</td>\n",
       "      <td>307.846</td>\n",
       "      <td>1.82</td>\n",
       "      <td>1.6</td>\n",
       "      <td>30.7</td>\n",
       "      <td>36.791</td>\n",
       "      <td>1.7</td>\n",
       "      <td>61.49</td>\n",
       "      <td>0.571</td>\n",
       "      <td>NaN</td>\n",
       "    </tr>\n",
       "    <tr>\n",
       "      <th>117019</th>\n",
       "      <td>ZWE</td>\n",
       "      <td>Africa</td>\n",
       "      <td>Zimbabwe</td>\n",
       "      <td>2021-09-14</td>\n",
       "      <td>126817.0</td>\n",
       "      <td>418.0</td>\n",
       "      <td>145.857</td>\n",
       "      <td>4550.0</td>\n",
       "      <td>7.0</td>\n",
       "      <td>6.714</td>\n",
       "      <td>...</td>\n",
       "      <td>21.4</td>\n",
       "      <td>307.846</td>\n",
       "      <td>1.82</td>\n",
       "      <td>1.6</td>\n",
       "      <td>30.7</td>\n",
       "      <td>36.791</td>\n",
       "      <td>1.7</td>\n",
       "      <td>61.49</td>\n",
       "      <td>0.571</td>\n",
       "      <td>NaN</td>\n",
       "    </tr>\n",
       "    <tr>\n",
       "      <th>117020</th>\n",
       "      <td>ZWE</td>\n",
       "      <td>Africa</td>\n",
       "      <td>Zimbabwe</td>\n",
       "      <td>2021-09-15</td>\n",
       "      <td>127083.0</td>\n",
       "      <td>266.0</td>\n",
       "      <td>164.571</td>\n",
       "      <td>4551.0</td>\n",
       "      <td>1.0</td>\n",
       "      <td>4.857</td>\n",
       "      <td>...</td>\n",
       "      <td>21.4</td>\n",
       "      <td>307.846</td>\n",
       "      <td>1.82</td>\n",
       "      <td>1.6</td>\n",
       "      <td>30.7</td>\n",
       "      <td>36.791</td>\n",
       "      <td>1.7</td>\n",
       "      <td>61.49</td>\n",
       "      <td>0.571</td>\n",
       "      <td>NaN</td>\n",
       "    </tr>\n",
       "  </tbody>\n",
       "</table>\n",
       "<p>117021 rows × 62 columns</p>\n",
       "</div>"
      ],
      "text/plain": [
       "       iso_code continent     location        date  total_cases  new_cases  \\\n",
       "0           AFG      Asia  Afghanistan  2020-02-24          5.0        5.0   \n",
       "1           AFG      Asia  Afghanistan  2020-02-25          5.0        0.0   \n",
       "2           AFG      Asia  Afghanistan  2020-02-26          5.0        0.0   \n",
       "3           AFG      Asia  Afghanistan  2020-02-27          5.0        0.0   \n",
       "4           AFG      Asia  Afghanistan  2020-02-28          5.0        0.0   \n",
       "...         ...       ...          ...         ...          ...        ...   \n",
       "117016      ZWE    Africa     Zimbabwe  2021-09-11     126220.0       57.0   \n",
       "117017      ZWE    Africa     Zimbabwe  2021-09-12     126269.0       49.0   \n",
       "117018      ZWE    Africa     Zimbabwe  2021-09-13     126399.0      130.0   \n",
       "117019      ZWE    Africa     Zimbabwe  2021-09-14     126817.0      418.0   \n",
       "117020      ZWE    Africa     Zimbabwe  2021-09-15     127083.0      266.0   \n",
       "\n",
       "        new_cases_smoothed  total_deaths  new_deaths  new_deaths_smoothed  \\\n",
       "0                      NaN           NaN         NaN                  NaN   \n",
       "1                      NaN           NaN         NaN                  NaN   \n",
       "2                      NaN           NaN         NaN                  NaN   \n",
       "3                      NaN           NaN         NaN                  NaN   \n",
       "4                      NaN           NaN         NaN                  NaN   \n",
       "...                    ...           ...         ...                  ...   \n",
       "117016             113.571        4536.0         4.0               10.000   \n",
       "117017             102.714        4538.0         2.0                8.000   \n",
       "117018             104.000        4543.0         5.0                7.143   \n",
       "117019             145.857        4550.0         7.0                6.714   \n",
       "117020             164.571        4551.0         1.0                4.857   \n",
       "\n",
       "        ...  extreme_poverty  cardiovasc_death_rate  diabetes_prevalence  \\\n",
       "0       ...              NaN                597.029                 9.59   \n",
       "1       ...              NaN                597.029                 9.59   \n",
       "2       ...              NaN                597.029                 9.59   \n",
       "3       ...              NaN                597.029                 9.59   \n",
       "4       ...              NaN                597.029                 9.59   \n",
       "...     ...              ...                    ...                  ...   \n",
       "117016  ...             21.4                307.846                 1.82   \n",
       "117017  ...             21.4                307.846                 1.82   \n",
       "117018  ...             21.4                307.846                 1.82   \n",
       "117019  ...             21.4                307.846                 1.82   \n",
       "117020  ...             21.4                307.846                 1.82   \n",
       "\n",
       "        female_smokers  male_smokers  handwashing_facilities  \\\n",
       "0                  NaN           NaN                  37.746   \n",
       "1                  NaN           NaN                  37.746   \n",
       "2                  NaN           NaN                  37.746   \n",
       "3                  NaN           NaN                  37.746   \n",
       "4                  NaN           NaN                  37.746   \n",
       "...                ...           ...                     ...   \n",
       "117016             1.6          30.7                  36.791   \n",
       "117017             1.6          30.7                  36.791   \n",
       "117018             1.6          30.7                  36.791   \n",
       "117019             1.6          30.7                  36.791   \n",
       "117020             1.6          30.7                  36.791   \n",
       "\n",
       "        hospital_beds_per_thousand  life_expectancy  human_development_index  \\\n",
       "0                              0.5            64.83                    0.511   \n",
       "1                              0.5            64.83                    0.511   \n",
       "2                              0.5            64.83                    0.511   \n",
       "3                              0.5            64.83                    0.511   \n",
       "4                              0.5            64.83                    0.511   \n",
       "...                            ...              ...                      ...   \n",
       "117016                         1.7            61.49                    0.571   \n",
       "117017                         1.7            61.49                    0.571   \n",
       "117018                         1.7            61.49                    0.571   \n",
       "117019                         1.7            61.49                    0.571   \n",
       "117020                         1.7            61.49                    0.571   \n",
       "\n",
       "        excess_mortality  \n",
       "0                    NaN  \n",
       "1                    NaN  \n",
       "2                    NaN  \n",
       "3                    NaN  \n",
       "4                    NaN  \n",
       "...                  ...  \n",
       "117016               NaN  \n",
       "117017               NaN  \n",
       "117018               NaN  \n",
       "117019               NaN  \n",
       "117020               NaN  \n",
       "\n",
       "[117021 rows x 62 columns]"
      ]
     },
     "execution_count": 3,
     "metadata": {},
     "output_type": "execute_result"
    }
   ],
   "source": [
    "# Vamos a comenzar cargando todo nuestro dataset en una nueva variable \"datos\"\n",
    "datos=pd.read_csv('owid-covid-data.csv')\n",
    "datos"
   ]
  },
  {
   "cell_type": "code",
   "execution_count": 5,
   "metadata": {},
   "outputs": [
    {
     "name": "stdout",
     "output_type": "stream",
     "text": [
      "<class 'pandas.core.frame.DataFrame'>\n",
      "RangeIndex: 117021 entries, 0 to 117020\n",
      "Data columns (total 62 columns):\n",
      " #   Column                                 Non-Null Count   Dtype  \n",
      "---  ------                                 --------------   -----  \n",
      " 0   iso_code                               117021 non-null  object \n",
      " 1   continent                              111668 non-null  object \n",
      " 2   location                               117021 non-null  object \n",
      " 3   date                                   117021 non-null  object \n",
      " 4   total_cases                            111277 non-null  float64\n",
      " 5   new_cases                              111274 non-null  float64\n",
      " 6   new_cases_smoothed                     110259 non-null  float64\n",
      " 7   total_deaths                           100616 non-null  float64\n",
      " 8   new_deaths                             100771 non-null  float64\n",
      " 9   new_deaths_smoothed                    110259 non-null  float64\n",
      " 10  total_cases_per_million                110690 non-null  float64\n",
      " 11  new_cases_per_million                  110687 non-null  float64\n",
      " 12  new_cases_smoothed_per_million         109677 non-null  float64\n",
      " 13  total_deaths_per_million               100042 non-null  float64\n",
      " 14  new_deaths_per_million                 100197 non-null  float64\n",
      " 15  new_deaths_smoothed_per_million        109677 non-null  float64\n",
      " 16  reproduction_rate                      94434 non-null   float64\n",
      " 17  icu_patients                           12651 non-null   float64\n",
      " 18  icu_patients_per_million               12651 non-null   float64\n",
      " 19  hosp_patients                          15113 non-null   float64\n",
      " 20  hosp_patients_per_million              15113 non-null   float64\n",
      " 21  weekly_icu_admissions                  1143 non-null    float64\n",
      " 22  weekly_icu_admissions_per_million      1143 non-null    float64\n",
      " 23  weekly_hosp_admissions                 2029 non-null    float64\n",
      " 24  weekly_hosp_admissions_per_million     2029 non-null    float64\n",
      " 25  new_tests                              50821 non-null   float64\n",
      " 26  total_tests                            50663 non-null   float64\n",
      " 27  total_tests_per_thousand               50663 non-null   float64\n",
      " 28  new_tests_per_thousand                 50821 non-null   float64\n",
      " 29  new_tests_smoothed                     60192 non-null   float64\n",
      " 30  new_tests_smoothed_per_thousand        60192 non-null   float64\n",
      " 31  positive_rate                          56924 non-null   float64\n",
      " 32  tests_per_case                         56301 non-null   float64\n",
      " 33  tests_units                            62067 non-null   object \n",
      " 34  total_vaccinations                     25557 non-null   float64\n",
      " 35  people_vaccinated                      24446 non-null   float64\n",
      " 36  people_fully_vaccinated                21436 non-null   float64\n",
      " 37  total_boosters                         1934 non-null    float64\n",
      " 38  new_vaccinations                       21146 non-null   float64\n",
      " 39  new_vaccinations_smoothed              45643 non-null   float64\n",
      " 40  total_vaccinations_per_hundred         25557 non-null   float64\n",
      " 41  people_vaccinated_per_hundred          24446 non-null   float64\n",
      " 42  people_fully_vaccinated_per_hundred    21436 non-null   float64\n",
      " 43  total_boosters_per_hundred             1934 non-null    float64\n",
      " 44  new_vaccinations_smoothed_per_million  45643 non-null   float64\n",
      " 45  stringency_index                       96622 non-null   float64\n",
      " 46  population                             116220 non-null  float64\n",
      " 47  population_density                     108204 non-null  float64\n",
      " 48  median_age                             103448 non-null  float64\n",
      " 49  aged_65_older                          102296 non-null  float64\n",
      " 50  aged_70_older                          102880 non-null  float64\n",
      " 51  gdp_per_capita                         104023 non-null  float64\n",
      " 52  extreme_poverty                        69870 non-null   float64\n",
      " 53  cardiovasc_death_rate                  103741 non-null  float64\n",
      " 54  diabetes_prevalence                    106877 non-null  float64\n",
      " 55  female_smokers                         81026 non-null   float64\n",
      " 56  male_smokers                           79848 non-null   float64\n",
      " 57  handwashing_facilities                 52116 non-null   float64\n",
      " 58  hospital_beds_per_thousand             94355 non-null   float64\n",
      " 59  life_expectancy                        111007 non-null  float64\n",
      " 60  human_development_index                103835 non-null  float64\n",
      " 61  excess_mortality                       4003 non-null    float64\n",
      "dtypes: float64(57), object(5)\n",
      "memory usage: 55.4+ MB\n"
     ]
    }
   ],
   "source": [
    "# Analizamos la informacion del dataset, la cantidad de registros y las columnas\n",
    "datos.info()"
   ]
  },
  {
   "cell_type": "markdown",
   "metadata": {},
   "source": [
    "Analizamos en profundidad el significado de cada columna, para una mayor comprension del dataset. Es muy importante comprender el significado del dato cuando lo tengamos que interpretar, de esta manera evitamos un mal analisis. Son 62 columnas y se deja a continuacion el detalle de todas para futuros usos: \n",
    "\n",
    "    1. iso_code : ISO 3166-1 alpha-3 – three-letter country codes\n",
    "    2. continent: Continent of the geographical location\n",
    "    3. location: Geographical location\n",
    "    4. date: Date of observation\n",
    "    5. total_cases: Total confirmed cases of COVID-19. Counts can include probable cases, where reported.\n",
    "    6. new_cases: New confirmed cases of COVID-19. Counts can include probable cases, where reported. In rare cases where our source reports a negative daily change due to a data correction, we set this metric to NA.\n",
    "    7. new_cases_smoothed: New confirmed cases of COVID-19 (7-day smoothed). Counts can include probable cases, where reported.\n",
    "    8. total_deaths: Total deaths attributed to COVID-19. Counts can include probable deaths, where reported.\n",
    "    9. new_deaths: New deaths attributed to COVID-19. Counts can include probable deaths, where reported. In rare cases where our source reports a negative daily change due to a data correction, we set this metric to NA.                                 \n",
    "    10. new_deaths_smoothed: New deaths attributed to COVID-19 (7-day smoothed). Counts can include probable deaths, where reported.\n",
    "    11. total_cases_per_million: Total confirmed cases of COVID-19 per 1,000,000 people. Counts can include probable cases, where reported.\n",
    "    12. new_cases_per_million: New confirmed cases of COVID-19 per 1,000,000 people. Counts can include probable cases, where reported.\n",
    "    13. new_cases_smoothed_per_million: New confirmed cases of COVID-19 (7-day smoothed) per 1,000,000 people. Counts can include probable cases, where reported.\n",
    "    14. total_deaths_per_million: Total deaths attributed to COVID-19 per 1,000,000 people. Counts can include probable deaths, where reported.\n",
    "    15. new_deaths_per_million: New deaths attributed to COVID-19 per 1,000,000 people. Counts can include probable deaths, where reported.\n",
    "    16. new_deaths_smoothed_per_million: New deaths attributed to COVID-19 (7-day smoothed) per 1,000,000 people. Counts can include probable deaths, where reported.\n",
    "    17. reproduction_rate: Real-time estimate of the effective reproduction rate (R) of COVID-19. See https://github.com/crondonm/TrackingR/tree/main/Estimates-Database\n",
    "    18. icu_patients: Number of COVID-19 patients in intensive care units (ICUs) on a given day\n",
    "    19. icu_patients_per_million: Number of COVID-19 patients in intensive care units (ICUs) on a given day per 1,000,000 people\n",
    "    20. hosp_patients: Number of COVID-19 patients in hospital on a given day\n",
    "    21. hosp_patients_per_million: Number of COVID-19 patients in hospital on a given day per 1,000,000 people \n",
    "    22. weekly_icu_admissions: Number of COVID-19 patients newly admitted to intensive care units (ICUs) in a given week\n",
    "    23. weekly_icu_admissions_per_million: Number of COVID-19 patients newly admitted to intensive care units (ICUs) in a given week per 1,000,000 people\n",
    "    24. weekly_hosp_admissions: Number of COVID-19 patients newly admitted to hospitals in a given week\n",
    "    25. weekly_hosp_admissions_per_million: Number of COVID-19 patients newly admitted to hospitals in a given week per 1,000,000 people\n",
    "    26. new_tests: New tests for COVID-19 (only calculated for consecutive days)\n",
    "    27. total_tests: Total tests for COVID-19\n",
    "    28. total_tests_per_thousand: Total tests for COVID-19 per 1,000 people\n",
    "    29. new_tests_per_thousand: New tests for COVID-19 per 1,000 people\n",
    "    30. new_tests_smoothed: New tests for COVID-19 (7-day smoothed). For countries that don't report testing data on a daily basis, we assume that testing changed equally on a daily basis over any periods in which no data was reported. This produces a complete series of daily figures, which is then averaged over a rolling 7-day window\n",
    "    31. new_tests_smoothed_per_thousand: New tests for COVID-19 (7-day smoothed) per 1,000 people\n",
    "    32. positive_rate: The share of COVID-19 tests that are positive, given as a rolling 7-day average (this is the inverse of tests_per_case)\n",
    "    33. tests_per_case: Tests conducted per new confirmed case of COVID-19, given as a rolling 7-day average (this is the inverse of positive_rate) \n",
    "    34. tests_units: Units used by the location to report its testing data \n",
    "    35. total_vaccinations: Total number of COVID-19 vaccination doses administered\n",
    "    36. people_vaccinated: Total number of people who received at least one vaccine dose\n",
    "    37. people_fully_vaccinated: Total number of people who received all doses prescribed by the initial vaccination protocol\n",
    "    38. total_boosters: Total number of COVID-19 vaccination booster doses administered (doses administered beyond the number prescribed by the vaccination protocol)\n",
    "    39. new_vaccinations: New COVID-19 vaccination doses administered (only calculated for consecutive days)\n",
    "    40. new_vaccinations_smoothed: New COVID-19 vaccination doses administered (7-day smoothed). For countries that don't report vaccination data on a daily basis, we assume that vaccination changed equally on a daily basis over any periods in which no data was reported. This produces a complete series of daily figures, which is then averaged over a rolling 7-day window\n",
    "    41. total_vaccinations_per_hundred: Total number of COVID-19 vaccination doses administered per 100 people in the total population\n",
    "    42. people_vaccinated_per_hundred: Total number of people who received at least one vaccine dose per 100 people in the total population\n",
    "    43. people_fully_vaccinated_per_hundred: Total number of people who received all doses prescribed by the initial vaccination protocol per 100 people in the total population \n",
    "    44. total_boosters_per_hundred: Total number of COVID-19 vaccination booster doses administered per 100 people in the total population\n",
    "    45. new_vaccinations_smoothed_per_million: New COVID-19 vaccination doses administered (7-day smoothed) per 1,000,000 people in the total population\n",
    "    46. stringency_index: Government Response Stringency Index: composite measure based on 9 response indicators including school closures, workplace closures, and travel bans, rescaled to a value from 0 to 100 (100 = strictest response)\n",
    "    47. population: Population (latest available values). See https://github.com/owid/covid-19-data/blob/master/scripts/input/un/population_latest.csv for full list of sources\n",
    "    48. population_density: Number of people divided by land area, measured in square kilometers, most recent year available \n",
    "    49. median_age: Median age of the population, UN projection for 2020\n",
    "    50. aged_65_older: Share of the population that is 65 years and older, most recent year available\n",
    "    51. aged_70_older: Share of the population that is 70 years and older in 2015\n",
    "    52. gdp_per_capita: Gross domestic product at purchasing power parity (constant 2011 international dollars), most recent year available\n",
    "    53. extreme_poverty: Share of the population living in extreme poverty, most recent year available since 2010\n",
    "    54. cardiovasc_death_rate: Death rate from cardiovascular disease in 2017 (annual number of deaths per 100,000 people) \n",
    "    55. diabetes_prevalence: Diabetes prevalence (% of population aged 20 to 79) in 2017\n",
    "    56. female_smokers: Share of women who smoke, most recent year available\n",
    "    57. male_smokers: Share of men who smoke, most recent year available\n",
    "    58. handwashing_facilities: Share of the population with basic handwashing facilities on premises, most recent year available \n",
    "    59. hospital_beds_per_thousand: Hospital beds per 1,000 people, most recent year available since 2010\n",
    "    60. life_expectancy: Life expectancy at birth in 2019\n",
    "    61. human_development_index: human_development_index\tA composite index measuring average achievement in three basic dimensions of human development—a long and healthy life, knowledge and a decent standard of living. Values for 2019, imported from http://hdr.undp.org/en/indicators/137506\n",
    "    62. excess_mortality: Percentage difference between the reported number of weekly or monthly deaths in 2020–2021 and the projected number of deaths for the same period based on previous years. For more information, see https://github.com/owid/covid-19-data/tree/master/public/data/excess_mortality"
   ]
  },
  {
   "cell_type": "code",
   "execution_count": 6,
   "metadata": {},
   "outputs": [
    {
     "data": {
      "text/html": [
       "<div>\n",
       "<style scoped>\n",
       "    .dataframe tbody tr th:only-of-type {\n",
       "        vertical-align: middle;\n",
       "    }\n",
       "\n",
       "    .dataframe tbody tr th {\n",
       "        vertical-align: top;\n",
       "    }\n",
       "\n",
       "    .dataframe thead th {\n",
       "        text-align: right;\n",
       "    }\n",
       "</style>\n",
       "<table border=\"1\" class=\"dataframe\">\n",
       "  <thead>\n",
       "    <tr style=\"text-align: right;\">\n",
       "      <th></th>\n",
       "      <th>iso_code</th>\n",
       "      <th>continent</th>\n",
       "      <th>location</th>\n",
       "      <th>date</th>\n",
       "      <th>total_cases</th>\n",
       "      <th>new_cases</th>\n",
       "      <th>new_cases_smoothed</th>\n",
       "      <th>total_deaths</th>\n",
       "      <th>new_deaths</th>\n",
       "      <th>new_deaths_smoothed</th>\n",
       "      <th>...</th>\n",
       "      <th>extreme_poverty</th>\n",
       "      <th>cardiovasc_death_rate</th>\n",
       "      <th>diabetes_prevalence</th>\n",
       "      <th>female_smokers</th>\n",
       "      <th>male_smokers</th>\n",
       "      <th>handwashing_facilities</th>\n",
       "      <th>hospital_beds_per_thousand</th>\n",
       "      <th>life_expectancy</th>\n",
       "      <th>human_development_index</th>\n",
       "      <th>excess_mortality</th>\n",
       "    </tr>\n",
       "  </thead>\n",
       "  <tbody>\n",
       "    <tr>\n",
       "      <th>0</th>\n",
       "      <td>AFG</td>\n",
       "      <td>Asia</td>\n",
       "      <td>Afghanistan</td>\n",
       "      <td>2020-02-24</td>\n",
       "      <td>5.0</td>\n",
       "      <td>5.0</td>\n",
       "      <td>NaN</td>\n",
       "      <td>NaN</td>\n",
       "      <td>NaN</td>\n",
       "      <td>NaN</td>\n",
       "      <td>...</td>\n",
       "      <td>NaN</td>\n",
       "      <td>597.029</td>\n",
       "      <td>9.59</td>\n",
       "      <td>NaN</td>\n",
       "      <td>NaN</td>\n",
       "      <td>37.746</td>\n",
       "      <td>0.5</td>\n",
       "      <td>64.83</td>\n",
       "      <td>0.511</td>\n",
       "      <td>NaN</td>\n",
       "    </tr>\n",
       "    <tr>\n",
       "      <th>1</th>\n",
       "      <td>AFG</td>\n",
       "      <td>Asia</td>\n",
       "      <td>Afghanistan</td>\n",
       "      <td>2020-02-25</td>\n",
       "      <td>5.0</td>\n",
       "      <td>0.0</td>\n",
       "      <td>NaN</td>\n",
       "      <td>NaN</td>\n",
       "      <td>NaN</td>\n",
       "      <td>NaN</td>\n",
       "      <td>...</td>\n",
       "      <td>NaN</td>\n",
       "      <td>597.029</td>\n",
       "      <td>9.59</td>\n",
       "      <td>NaN</td>\n",
       "      <td>NaN</td>\n",
       "      <td>37.746</td>\n",
       "      <td>0.5</td>\n",
       "      <td>64.83</td>\n",
       "      <td>0.511</td>\n",
       "      <td>NaN</td>\n",
       "    </tr>\n",
       "    <tr>\n",
       "      <th>2</th>\n",
       "      <td>AFG</td>\n",
       "      <td>Asia</td>\n",
       "      <td>Afghanistan</td>\n",
       "      <td>2020-02-26</td>\n",
       "      <td>5.0</td>\n",
       "      <td>0.0</td>\n",
       "      <td>NaN</td>\n",
       "      <td>NaN</td>\n",
       "      <td>NaN</td>\n",
       "      <td>NaN</td>\n",
       "      <td>...</td>\n",
       "      <td>NaN</td>\n",
       "      <td>597.029</td>\n",
       "      <td>9.59</td>\n",
       "      <td>NaN</td>\n",
       "      <td>NaN</td>\n",
       "      <td>37.746</td>\n",
       "      <td>0.5</td>\n",
       "      <td>64.83</td>\n",
       "      <td>0.511</td>\n",
       "      <td>NaN</td>\n",
       "    </tr>\n",
       "    <tr>\n",
       "      <th>3</th>\n",
       "      <td>AFG</td>\n",
       "      <td>Asia</td>\n",
       "      <td>Afghanistan</td>\n",
       "      <td>2020-02-27</td>\n",
       "      <td>5.0</td>\n",
       "      <td>0.0</td>\n",
       "      <td>NaN</td>\n",
       "      <td>NaN</td>\n",
       "      <td>NaN</td>\n",
       "      <td>NaN</td>\n",
       "      <td>...</td>\n",
       "      <td>NaN</td>\n",
       "      <td>597.029</td>\n",
       "      <td>9.59</td>\n",
       "      <td>NaN</td>\n",
       "      <td>NaN</td>\n",
       "      <td>37.746</td>\n",
       "      <td>0.5</td>\n",
       "      <td>64.83</td>\n",
       "      <td>0.511</td>\n",
       "      <td>NaN</td>\n",
       "    </tr>\n",
       "    <tr>\n",
       "      <th>4</th>\n",
       "      <td>AFG</td>\n",
       "      <td>Asia</td>\n",
       "      <td>Afghanistan</td>\n",
       "      <td>2020-02-28</td>\n",
       "      <td>5.0</td>\n",
       "      <td>0.0</td>\n",
       "      <td>NaN</td>\n",
       "      <td>NaN</td>\n",
       "      <td>NaN</td>\n",
       "      <td>NaN</td>\n",
       "      <td>...</td>\n",
       "      <td>NaN</td>\n",
       "      <td>597.029</td>\n",
       "      <td>9.59</td>\n",
       "      <td>NaN</td>\n",
       "      <td>NaN</td>\n",
       "      <td>37.746</td>\n",
       "      <td>0.5</td>\n",
       "      <td>64.83</td>\n",
       "      <td>0.511</td>\n",
       "      <td>NaN</td>\n",
       "    </tr>\n",
       "  </tbody>\n",
       "</table>\n",
       "<p>5 rows × 62 columns</p>\n",
       "</div>"
      ],
      "text/plain": [
       "  iso_code continent     location        date  total_cases  new_cases  \\\n",
       "0      AFG      Asia  Afghanistan  2020-02-24          5.0        5.0   \n",
       "1      AFG      Asia  Afghanistan  2020-02-25          5.0        0.0   \n",
       "2      AFG      Asia  Afghanistan  2020-02-26          5.0        0.0   \n",
       "3      AFG      Asia  Afghanistan  2020-02-27          5.0        0.0   \n",
       "4      AFG      Asia  Afghanistan  2020-02-28          5.0        0.0   \n",
       "\n",
       "   new_cases_smoothed  total_deaths  new_deaths  new_deaths_smoothed  ...  \\\n",
       "0                 NaN           NaN         NaN                  NaN  ...   \n",
       "1                 NaN           NaN         NaN                  NaN  ...   \n",
       "2                 NaN           NaN         NaN                  NaN  ...   \n",
       "3                 NaN           NaN         NaN                  NaN  ...   \n",
       "4                 NaN           NaN         NaN                  NaN  ...   \n",
       "\n",
       "   extreme_poverty  cardiovasc_death_rate  diabetes_prevalence  \\\n",
       "0              NaN                597.029                 9.59   \n",
       "1              NaN                597.029                 9.59   \n",
       "2              NaN                597.029                 9.59   \n",
       "3              NaN                597.029                 9.59   \n",
       "4              NaN                597.029                 9.59   \n",
       "\n",
       "   female_smokers  male_smokers  handwashing_facilities  \\\n",
       "0             NaN           NaN                  37.746   \n",
       "1             NaN           NaN                  37.746   \n",
       "2             NaN           NaN                  37.746   \n",
       "3             NaN           NaN                  37.746   \n",
       "4             NaN           NaN                  37.746   \n",
       "\n",
       "   hospital_beds_per_thousand  life_expectancy  human_development_index  \\\n",
       "0                         0.5            64.83                    0.511   \n",
       "1                         0.5            64.83                    0.511   \n",
       "2                         0.5            64.83                    0.511   \n",
       "3                         0.5            64.83                    0.511   \n",
       "4                         0.5            64.83                    0.511   \n",
       "\n",
       "   excess_mortality  \n",
       "0               NaN  \n",
       "1               NaN  \n",
       "2               NaN  \n",
       "3               NaN  \n",
       "4               NaN  \n",
       "\n",
       "[5 rows x 62 columns]"
      ]
     },
     "execution_count": 6,
     "metadata": {},
     "output_type": "execute_result"
    }
   ],
   "source": [
    "# Visualizamos los primeros 5 registros\n",
    "datos.head()"
   ]
  },
  {
   "cell_type": "code",
   "execution_count": 7,
   "metadata": {},
   "outputs": [
    {
     "data": {
      "text/plain": [
       "array(['Afghanistan', 'Africa', 'Albania', 'Algeria', 'Andorra', 'Angola',\n",
       "       'Anguilla', 'Antigua and Barbuda', 'Argentina', 'Armenia', 'Aruba',\n",
       "       'Asia', 'Australia', 'Austria', 'Azerbaijan', 'Bahamas', 'Bahrain',\n",
       "       'Bangladesh', 'Barbados', 'Belarus', 'Belgium', 'Belize', 'Benin',\n",
       "       'Bermuda', 'Bhutan', 'Bolivia', 'Bonaire Sint Eustatius and Saba',\n",
       "       'Bosnia and Herzegovina', 'Botswana', 'Brazil',\n",
       "       'British Virgin Islands', 'Brunei', 'Bulgaria', 'Burkina Faso',\n",
       "       'Burundi', 'Cambodia', 'Cameroon', 'Canada', 'Cape Verde',\n",
       "       'Cayman Islands', 'Central African Republic', 'Chad', 'Chile',\n",
       "       'China', 'Colombia', 'Comoros', 'Congo', 'Cook Islands',\n",
       "       'Costa Rica', \"Cote d'Ivoire\", 'Croatia', 'Cuba', 'Curacao',\n",
       "       'Cyprus', 'Czechia', 'Democratic Republic of Congo', 'Denmark',\n",
       "       'Djibouti', 'Dominica', 'Dominican Republic', 'Ecuador', 'Egypt',\n",
       "       'El Salvador', 'Equatorial Guinea', 'Eritrea', 'Estonia',\n",
       "       'Eswatini', 'Ethiopia', 'Europe', 'European Union',\n",
       "       'Faeroe Islands', 'Falkland Islands', 'Fiji', 'Finland', 'France',\n",
       "       'French Polynesia', 'Gabon', 'Gambia', 'Georgia', 'Germany',\n",
       "       'Ghana', 'Gibraltar', 'Greece', 'Greenland', 'Grenada',\n",
       "       'Guatemala', 'Guernsey', 'Guinea', 'Guinea-Bissau', 'Guyana',\n",
       "       'Haiti', 'Honduras', 'Hong Kong', 'Hungary', 'Iceland', 'India',\n",
       "       'Indonesia', 'International', 'Iran', 'Iraq', 'Ireland',\n",
       "       'Isle of Man', 'Israel', 'Italy', 'Jamaica', 'Japan', 'Jersey',\n",
       "       'Jordan', 'Kazakhstan', 'Kenya', 'Kiribati', 'Kosovo', 'Kuwait',\n",
       "       'Kyrgyzstan', 'Laos', 'Latvia', 'Lebanon', 'Lesotho', 'Liberia',\n",
       "       'Libya', 'Liechtenstein', 'Lithuania', 'Luxembourg', 'Macao',\n",
       "       'Madagascar', 'Malawi', 'Malaysia', 'Maldives', 'Mali', 'Malta',\n",
       "       'Marshall Islands', 'Mauritania', 'Mauritius', 'Mexico',\n",
       "       'Micronesia (country)', 'Moldova', 'Monaco', 'Mongolia',\n",
       "       'Montenegro', 'Montserrat', 'Morocco', 'Mozambique', 'Myanmar',\n",
       "       'Namibia', 'Nauru', 'Nepal', 'Netherlands', 'New Caledonia',\n",
       "       'New Zealand', 'Nicaragua', 'Niger', 'Nigeria', 'Niue',\n",
       "       'North America', 'North Macedonia', 'Northern Cyprus', 'Norway',\n",
       "       'Oceania', 'Oman', 'Pakistan', 'Palau', 'Palestine', 'Panama',\n",
       "       'Papua New Guinea', 'Paraguay', 'Peru', 'Philippines', 'Pitcairn',\n",
       "       'Poland', 'Portugal', 'Qatar', 'Romania', 'Russia', 'Rwanda',\n",
       "       'Saint Helena', 'Saint Kitts and Nevis', 'Saint Lucia',\n",
       "       'Saint Vincent and the Grenadines', 'Samoa', 'San Marino',\n",
       "       'Sao Tome and Principe', 'Saudi Arabia', 'Senegal', 'Serbia',\n",
       "       'Seychelles', 'Sierra Leone', 'Singapore',\n",
       "       'Sint Maarten (Dutch part)', 'Slovakia', 'Slovenia',\n",
       "       'Solomon Islands', 'Somalia', 'South Africa', 'South America',\n",
       "       'South Korea', 'South Sudan', 'Spain', 'Sri Lanka', 'Sudan',\n",
       "       'Suriname', 'Sweden', 'Switzerland', 'Syria', 'Taiwan',\n",
       "       'Tajikistan', 'Tanzania', 'Thailand', 'Timor', 'Togo', 'Tokelau',\n",
       "       'Tonga', 'Trinidad and Tobago', 'Tunisia', 'Turkey',\n",
       "       'Turkmenistan', 'Turks and Caicos Islands', 'Tuvalu', 'Uganda',\n",
       "       'Ukraine', 'United Arab Emirates', 'United Kingdom',\n",
       "       'United States', 'Uruguay', 'Uzbekistan', 'Vanuatu', 'Vatican',\n",
       "       'Venezuela', 'Vietnam', 'Wallis and Futuna', 'World', 'Yemen',\n",
       "       'Zambia', 'Zimbabwe'], dtype=object)"
      ]
     },
     "execution_count": 7,
     "metadata": {},
     "output_type": "execute_result"
    }
   ],
   "source": [
    "‹# Filtramos paises con valores unicos\n",
    "# Para comenzar a entender cuales son los paises con lo que contamos informacion sobre covid y conocer mas sobre nuestro dataset. \n",
    "datos['location'].unique()"
   ]
  },
  {
   "cell_type": "code",
   "execution_count": 8,
   "metadata": {},
   "outputs": [
    {
     "data": {
      "text/plain": [
       "(233,)"
      ]
     },
     "execution_count": 8,
     "metadata": {},
     "output_type": "execute_result"
    }
   ],
   "source": [
    "# Total de paises\n",
    "datos['location'].unique().shape"
   ]
  },
  {
   "cell_type": "code",
   "execution_count": 10,
   "metadata": {},
   "outputs": [
    {
     "name": "stdout",
     "output_type": "stream",
     "text": [
      "iso_code                                          ZWE\n",
      "location                                     Zimbabwe\n",
      "date                                       2021-09-15\n",
      "total_cases                               226478640.0\n",
      "new_cases                                    906034.0\n",
      "new_cases_smoothed                         826428.571\n",
      "total_deaths                                4659842.0\n",
      "new_deaths                                    17976.0\n",
      "new_deaths_smoothed                         14722.714\n",
      "total_cases_per_million                    208199.373\n",
      "new_cases_per_million                         8620.69\n",
      "new_cases_smoothed_per_million               3385.473\n",
      "total_deaths_per_million                     5961.136\n",
      "new_deaths_per_million                        215.334\n",
      "new_deaths_smoothed_per_million                63.007\n",
      "reproduction_rate                                5.92\n",
      "icu_patients                                  28889.0\n",
      "icu_patients_per_million                      192.269\n",
      "hosp_patients                                133210.0\n",
      "hosp_patients_per_million                    1544.082\n",
      "weekly_icu_admissions                        4002.456\n",
      "weekly_icu_admissions_per_million             279.224\n",
      "weekly_hosp_admissions                       116325.0\n",
      "weekly_hosp_admissions_per_million           2656.911\n",
      "new_tests                                   3740296.0\n",
      "total_tests                               547281120.0\n",
      "total_tests_per_thousand                    13926.437\n",
      "new_tests_per_thousand                         325.76\n",
      "new_tests_smoothed                          3080396.0\n",
      "new_tests_smoothed_per_thousand                90.849\n",
      "positive_rate                                    0.97\n",
      "tests_per_case                                50000.0\n",
      "total_vaccinations                       5815245479.0\n",
      "people_vaccinated                        3351340728.0\n",
      "people_fully_vaccinated                  2392583360.0\n",
      "total_boosters                             20372382.0\n",
      "new_vaccinations                           56230598.0\n",
      "new_vaccinations_smoothed                  43375452.0\n",
      "total_vaccinations_per_hundred                 235.05\n",
      "people_vaccinated_per_hundred                  118.16\n",
      "people_fully_vaccinated_per_hundred            116.89\n",
      "total_boosters_per_hundred                       33.9\n",
      "new_vaccinations_smoothed_per_million        117497.0\n",
      "stringency_index                                100.0\n",
      "population                               7874965732.0\n",
      "population_density                          20546.766\n",
      "median_age                                       48.2\n",
      "aged_65_older                                  27.049\n",
      "aged_70_older                                  18.493\n",
      "gdp_per_capita                               116935.6\n",
      "extreme_poverty                                  77.6\n",
      "cardiovasc_death_rate                         724.417\n",
      "diabetes_prevalence                             30.53\n",
      "female_smokers                                   44.0\n",
      "male_smokers                                     78.1\n",
      "handwashing_facilities                          100.0\n",
      "hospital_beds_per_thousand                       13.8\n",
      "life_expectancy                                 86.75\n",
      "human_development_index                         0.957\n",
      "excess_mortality                                410.9\n",
      "dtype: object\n"
     ]
    },
    {
     "name": "stderr",
     "output_type": "stream",
     "text": [
      "/var/folders/kr/9brdb4h16pjd4qnpb192jpb00000gn/T/ipykernel_1850/1132557456.py:6: FutureWarning: Dropping of nuisance columns in DataFrame reductions (with 'numeric_only=None') is deprecated; in a future version this will raise TypeError.  Select only valid columns before calling the reduction.\n",
      "  print(datos.max())\n"
     ]
    }
   ],
   "source": [
    "# Analizamos valores maximos de cada columna. \n",
    "# (en caso de valores numericos como \"new_cases\" o \"total_cases\" veremos cual es el mayor numero registrado)\n",
    "pd.set_option('display.max_rows', 100)\n",
    "pd.set_option('display.max_columns', 100)\n",
    "pd.set_option('display.width', 1000)\n",
    "print(datos.max())"
   ]
  },
  {
   "cell_type": "code",
   "execution_count": 12,
   "metadata": {},
   "outputs": [],
   "source": [
    "# Cargamos vectores\n",
    "paises=datos['location'] #cargo el vector de paises\n",
    "confirmados=datos['total_cases'] #carga vector todos los casos confirmados"
   ]
  },
  {
   "cell_type": "markdown",
   "metadata": {},
   "source": [
    "## Análisis exploratorio de ARGENTINA"
   ]
  },
  {
   "cell_type": "code",
   "execution_count": 13,
   "metadata": {
    "colab": {
     "base_uri": "https://localhost:8080/",
     "height": 308
    },
    "id": "GZt3IeBaa8pz",
    "outputId": "e53e9d96-639f-4c5f-cb89-9c05d6c5ea63"
   },
   "outputs": [
    {
     "data": {
      "text/plain": [
       "Text(0, 0.5, 'cantidad de casos')"
      ]
     },
     "execution_count": 13,
     "metadata": {},
     "output_type": "execute_result"
    },
    {
     "data": {
      "image/png": "[encoded data removed]",
      "text/plain": [
       "<Figure size 432x288 with 1 Axes>"
      ]
     },
     "metadata": {
      "needs_background": "light"
     },
     "output_type": "display_data"
    }
   ],
   "source": [
    "# Luego del rapido analisis de dataset comenzamos a profundizar en un pais.\n",
    "# Elegimos como primer pais Argentina y lo analisamos:\n",
    "\n",
    "ind_arg=np.where(paises=='Argentina')\n",
    "ind_arg=ind_arg[0]\n",
    "casos_arg=confirmados[ind_arg]\n",
    "dias=np.arange(0,len(casos_arg))\n",
    "plt.plot(dias,casos_arg)\n",
    "plt.xlabel('dias')\n",
    "plt.ylabel('cantidad de casos')"
   ]
  },
  {
   "cell_type": "markdown",
   "metadata": {
    "id": "Hz1nUBfxcxOP"
   },
   "source": [
    "Esta es la curva de **casos totales** de la Argentina. Aquí no se ven las olas, ya que estas se ven en la curva de casos confirmados por día, es decir, de casos nuevos. Esta habla de los acumulados, entonces siempre se agregan.\n",
    "\n",
    "Para ver mejor la curva, podemos tomar el logartimo de los datos. Una curva exponencial se ve lineal en escala logarítmica\n"
   ]
  },
  {
   "cell_type": "code",
   "execution_count": 14,
   "metadata": {
    "colab": {
     "base_uri": "https://localhost:8080/",
     "height": 297
    },
    "id": "F1oMHfLlbpld",
    "outputId": "10131ce1-5737-4690-db36-b26756d0776a"
   },
   "outputs": [
    {
     "data": {
      "text/plain": [
       "Text(0, 0.5, 'log cantidad de casos')"
      ]
     },
     "execution_count": 14,
     "metadata": {},
     "output_type": "execute_result"
    },
    {
     "data": {
      "image/png": "[encoded data removed]",
      "text/plain": [
       "<Figure size 432x288 with 1 Axes>"
      ]
     },
     "metadata": {
      "needs_background": "light"
     },
     "output_type": "display_data"
    }
   ],
   "source": [
    "plt.plot(dias,np.log(casos_arg))\n",
    "plt.xlabel('dias')\n",
    "plt.ylabel('log cantidad de casos')"
   ]
  },
  {
   "cell_type": "markdown",
   "metadata": {
    "id": "GQjQUh9QeKZl"
   },
   "source": [
    "Veamos lo que pasa en los primeros 160 días desde que se detectó el primer caso en Argentina, para ver cómo fue el $k$ inicial"
   ]
  },
  {
   "cell_type": "code",
   "execution_count": 15,
   "metadata": {
    "colab": {
     "base_uri": "https://localhost:8080/",
     "height": 297
    },
    "id": "p0MBIAOldeSs",
    "outputId": "6a196767-3eee-4ddc-9e22-f5487b599843"
   },
   "outputs": [
    {
     "data": {
      "text/plain": [
       "Text(0, 0.5, 'cantidad de casos')"
      ]
     },
     "execution_count": 15,
     "metadata": {},
     "output_type": "execute_result"
    },
    {
     "data": {
      "image/png": "[encoded data removed]",
      "text/plain": [
       "<Figure size 432x288 with 1 Axes>"
      ]
     },
     "metadata": {
      "needs_background": "light"
     },
     "output_type": "display_data"
    }
   ],
   "source": [
    "casos_principio=casos_arg[0:160]\n",
    "dias_principio=dias[0:160]\n",
    "\n",
    "plt.plot(dias_principio,casos_principio)\n",
    "plt.xlabel('dias')\n",
    "plt.ylabel('cantidad de casos')"
   ]
  },
  {
   "cell_type": "markdown",
   "metadata": {
    "id": "u2b-yQziemV1"
   },
   "source": [
    "Es difícil determinar si esta parte es exponencial. Analicemos qué pasa en escala logarítmica."
   ]
  },
  {
   "cell_type": "code",
   "execution_count": 16,
   "metadata": {
    "colab": {
     "base_uri": "https://localhost:8080/",
     "height": 297
    },
    "id": "ibBhO71Vehld",
    "outputId": "bd35de8b-b7de-4c35-c4e6-f8a408ece3b7"
   },
   "outputs": [
    {
     "data": {
      "text/plain": [
       "Text(0, 0.5, 'log cantidad de casos')"
      ]
     },
     "execution_count": 16,
     "metadata": {},
     "output_type": "execute_result"
    },
    {
     "data": {
      "image/png": "[encoded data removed]",
      "text/plain": [
       "<Figure size 432x288 with 1 Axes>"
      ]
     },
     "metadata": {
      "needs_background": "light"
     },
     "output_type": "display_data"
    }
   ],
   "source": [
    "\n",
    "plt.plot(dias_principio,np.log(casos_principio))\n",
    "plt.xlabel('dias')\n",
    "plt.ylabel('log cantidad de casos')"
   ]
  },
  {
   "cell_type": "markdown",
   "metadata": {
    "id": "tagPxpI4e228"
   },
   "source": [
    "Mejor nos quedamos con lo que sucede entre los días 60 y 100, ya que ese fue el comportamiento más sostenido."
   ]
  },
  {
   "cell_type": "code",
   "execution_count": 17,
   "metadata": {
    "colab": {
     "base_uri": "https://localhost:8080/",
     "height": 297
    },
    "id": "QoSvN6UPe0Sx",
    "outputId": "def57826-40d8-4925-8f06-0324d1fefe47"
   },
   "outputs": [
    {
     "data": {
      "text/plain": [
       "Text(0, 0.5, 'cantidad de casos')"
      ]
     },
     "execution_count": 17,
     "metadata": {},
     "output_type": "execute_result"
    },
    {
     "data": {
      "image/png": "[encoded data removed]",
      "text/plain": [
       "<Figure size 432x288 with 1 Axes>"
      ]
     },
     "metadata": {
      "needs_background": "light"
     },
     "output_type": "display_data"
    }
   ],
   "source": [
    "casos_principio=casos_arg[60:100]\n",
    "dias_principio=dias[60:100]\n",
    "\n",
    "plt.plot(dias_principio,casos_principio)\n",
    "plt.xlabel('dias')\n",
    "plt.ylabel('cantidad de casos')"
   ]
  },
  {
   "cell_type": "code",
   "execution_count": 18,
   "metadata": {
    "colab": {
     "base_uri": "https://localhost:8080/",
     "height": 297
    },
    "id": "jocr_PfQfDB5",
    "outputId": "2eae8236-c0ad-484c-c4e3-52328838139d"
   },
   "outputs": [
    {
     "data": {
      "text/plain": [
       "Text(0, 0.5, 'log cantidad de casos')"
      ]
     },
     "execution_count": 18,
     "metadata": {},
     "output_type": "execute_result"
    },
    {
     "data": {
      "image/png": "[encoded data removed]",
      "text/plain": [
       "<Figure size 432x288 with 1 Axes>"
      ]
     },
     "metadata": {
      "needs_background": "light"
     },
     "output_type": "display_data"
    }
   ],
   "source": [
    "plt.plot(dias_principio,np.log(casos_principio))\n",
    "plt.xlabel('dias')\n",
    "plt.ylabel('log cantidad de casos')"
   ]
  },
  {
   "cell_type": "markdown",
   "metadata": {
    "id": "CV3RQ4L1f95c"
   },
   "source": [
    "¡Se ve bastante lineal! Aprovechemos esto para averiguar el $k$ utilizando un ajuste hecho con el método de cuadrados mínimos, ajustando los datos al modelo \n",
    "\n",
    "$Confirmados=e^{k(t-t_0)}$\n",
    "\n"
   ]
  },
  {
   "cell_type": "code",
   "execution_count": 19,
   "metadata": {},
   "outputs": [
    {
     "data": {
      "text/html": [
       "<div>\n",
       "<style scoped>\n",
       "    .dataframe tbody tr th:only-of-type {\n",
       "        vertical-align: middle;\n",
       "    }\n",
       "\n",
       "    .dataframe tbody tr th {\n",
       "        vertical-align: top;\n",
       "    }\n",
       "\n",
       "    .dataframe thead th {\n",
       "        text-align: right;\n",
       "    }\n",
       "</style>\n",
       "<table border=\"1\" class=\"dataframe\">\n",
       "  <thead>\n",
       "    <tr style=\"text-align: right;\">\n",
       "      <th></th>\n",
       "      <th>iso_code</th>\n",
       "      <th>continent</th>\n",
       "      <th>location</th>\n",
       "      <th>date</th>\n",
       "      <th>total_cases</th>\n",
       "      <th>new_cases</th>\n",
       "      <th>new_cases_smoothed</th>\n",
       "      <th>total_deaths</th>\n",
       "      <th>new_deaths</th>\n",
       "      <th>new_deaths_smoothed</th>\n",
       "      <th>total_cases_per_million</th>\n",
       "      <th>new_cases_per_million</th>\n",
       "      <th>new_cases_smoothed_per_million</th>\n",
       "      <th>total_deaths_per_million</th>\n",
       "      <th>new_deaths_per_million</th>\n",
       "      <th>new_deaths_smoothed_per_million</th>\n",
       "      <th>reproduction_rate</th>\n",
       "      <th>icu_patients</th>\n",
       "      <th>icu_patients_per_million</th>\n",
       "      <th>hosp_patients</th>\n",
       "      <th>hosp_patients_per_million</th>\n",
       "      <th>weekly_icu_admissions</th>\n",
       "      <th>weekly_icu_admissions_per_million</th>\n",
       "      <th>weekly_hosp_admissions</th>\n",
       "      <th>weekly_hosp_admissions_per_million</th>\n",
       "      <th>new_tests</th>\n",
       "      <th>total_tests</th>\n",
       "      <th>total_tests_per_thousand</th>\n",
       "      <th>new_tests_per_thousand</th>\n",
       "      <th>new_tests_smoothed</th>\n",
       "      <th>new_tests_smoothed_per_thousand</th>\n",
       "      <th>positive_rate</th>\n",
       "      <th>tests_per_case</th>\n",
       "      <th>tests_units</th>\n",
       "      <th>total_vaccinations</th>\n",
       "      <th>people_vaccinated</th>\n",
       "      <th>people_fully_vaccinated</th>\n",
       "      <th>total_boosters</th>\n",
       "      <th>new_vaccinations</th>\n",
       "      <th>new_vaccinations_smoothed</th>\n",
       "      <th>total_vaccinations_per_hundred</th>\n",
       "      <th>people_vaccinated_per_hundred</th>\n",
       "      <th>people_fully_vaccinated_per_hundred</th>\n",
       "      <th>total_boosters_per_hundred</th>\n",
       "      <th>new_vaccinations_smoothed_per_million</th>\n",
       "      <th>stringency_index</th>\n",
       "      <th>population</th>\n",
       "      <th>population_density</th>\n",
       "      <th>median_age</th>\n",
       "      <th>aged_65_older</th>\n",
       "      <th>aged_70_older</th>\n",
       "      <th>gdp_per_capita</th>\n",
       "      <th>extreme_poverty</th>\n",
       "      <th>cardiovasc_death_rate</th>\n",
       "      <th>diabetes_prevalence</th>\n",
       "      <th>female_smokers</th>\n",
       "      <th>male_smokers</th>\n",
       "      <th>handwashing_facilities</th>\n",
       "      <th>hospital_beds_per_thousand</th>\n",
       "      <th>life_expectancy</th>\n",
       "      <th>human_development_index</th>\n",
       "      <th>excess_mortality</th>\n",
       "    </tr>\n",
       "  </thead>\n",
       "  <tbody>\n",
       "    <tr>\n",
       "      <th>0</th>\n",
       "      <td>ARG</td>\n",
       "      <td>South America</td>\n",
       "      <td>Argentina</td>\n",
       "      <td>2020-01-01</td>\n",
       "      <td>NaN</td>\n",
       "      <td>NaN</td>\n",
       "      <td>NaN</td>\n",
       "      <td>NaN</td>\n",
       "      <td>NaN</td>\n",
       "      <td>NaN</td>\n",
       "      <td>NaN</td>\n",
       "      <td>NaN</td>\n",
       "      <td>NaN</td>\n",
       "      <td>NaN</td>\n",
       "      <td>NaN</td>\n",
       "      <td>NaN</td>\n",
       "      <td>NaN</td>\n",
       "      <td>NaN</td>\n",
       "      <td>NaN</td>\n",
       "      <td>NaN</td>\n",
       "      <td>NaN</td>\n",
       "      <td>NaN</td>\n",
       "      <td>NaN</td>\n",
       "      <td>NaN</td>\n",
       "      <td>NaN</td>\n",
       "      <td>1.0</td>\n",
       "      <td>1.0</td>\n",
       "      <td>0.000</td>\n",
       "      <td>0.000</td>\n",
       "      <td>NaN</td>\n",
       "      <td>NaN</td>\n",
       "      <td>NaN</td>\n",
       "      <td>NaN</td>\n",
       "      <td>tests performed</td>\n",
       "      <td>NaN</td>\n",
       "      <td>NaN</td>\n",
       "      <td>NaN</td>\n",
       "      <td>NaN</td>\n",
       "      <td>NaN</td>\n",
       "      <td>NaN</td>\n",
       "      <td>NaN</td>\n",
       "      <td>NaN</td>\n",
       "      <td>NaN</td>\n",
       "      <td>NaN</td>\n",
       "      <td>NaN</td>\n",
       "      <td>0.0</td>\n",
       "      <td>45605823.0</td>\n",
       "      <td>16.177</td>\n",
       "      <td>31.9</td>\n",
       "      <td>11.198</td>\n",
       "      <td>7.441</td>\n",
       "      <td>18933.907</td>\n",
       "      <td>0.6</td>\n",
       "      <td>191.032</td>\n",
       "      <td>5.5</td>\n",
       "      <td>16.2</td>\n",
       "      <td>27.7</td>\n",
       "      <td>NaN</td>\n",
       "      <td>5.0</td>\n",
       "      <td>76.67</td>\n",
       "      <td>0.845</td>\n",
       "      <td>NaN</td>\n",
       "    </tr>\n",
       "    <tr>\n",
       "      <th>1</th>\n",
       "      <td>ARG</td>\n",
       "      <td>South America</td>\n",
       "      <td>Argentina</td>\n",
       "      <td>2020-01-02</td>\n",
       "      <td>NaN</td>\n",
       "      <td>NaN</td>\n",
       "      <td>NaN</td>\n",
       "      <td>NaN</td>\n",
       "      <td>NaN</td>\n",
       "      <td>NaN</td>\n",
       "      <td>NaN</td>\n",
       "      <td>NaN</td>\n",
       "      <td>NaN</td>\n",
       "      <td>NaN</td>\n",
       "      <td>NaN</td>\n",
       "      <td>NaN</td>\n",
       "      <td>NaN</td>\n",
       "      <td>NaN</td>\n",
       "      <td>NaN</td>\n",
       "      <td>NaN</td>\n",
       "      <td>NaN</td>\n",
       "      <td>NaN</td>\n",
       "      <td>NaN</td>\n",
       "      <td>NaN</td>\n",
       "      <td>NaN</td>\n",
       "      <td>36.0</td>\n",
       "      <td>37.0</td>\n",
       "      <td>0.001</td>\n",
       "      <td>0.001</td>\n",
       "      <td>NaN</td>\n",
       "      <td>NaN</td>\n",
       "      <td>NaN</td>\n",
       "      <td>NaN</td>\n",
       "      <td>tests performed</td>\n",
       "      <td>NaN</td>\n",
       "      <td>NaN</td>\n",
       "      <td>NaN</td>\n",
       "      <td>NaN</td>\n",
       "      <td>NaN</td>\n",
       "      <td>NaN</td>\n",
       "      <td>NaN</td>\n",
       "      <td>NaN</td>\n",
       "      <td>NaN</td>\n",
       "      <td>NaN</td>\n",
       "      <td>NaN</td>\n",
       "      <td>0.0</td>\n",
       "      <td>45605823.0</td>\n",
       "      <td>16.177</td>\n",
       "      <td>31.9</td>\n",
       "      <td>11.198</td>\n",
       "      <td>7.441</td>\n",
       "      <td>18933.907</td>\n",
       "      <td>0.6</td>\n",
       "      <td>191.032</td>\n",
       "      <td>5.5</td>\n",
       "      <td>16.2</td>\n",
       "      <td>27.7</td>\n",
       "      <td>NaN</td>\n",
       "      <td>5.0</td>\n",
       "      <td>76.67</td>\n",
       "      <td>0.845</td>\n",
       "      <td>NaN</td>\n",
       "    </tr>\n",
       "    <tr>\n",
       "      <th>2</th>\n",
       "      <td>ARG</td>\n",
       "      <td>South America</td>\n",
       "      <td>Argentina</td>\n",
       "      <td>2020-01-03</td>\n",
       "      <td>NaN</td>\n",
       "      <td>NaN</td>\n",
       "      <td>NaN</td>\n",
       "      <td>NaN</td>\n",
       "      <td>NaN</td>\n",
       "      <td>NaN</td>\n",
       "      <td>NaN</td>\n",
       "      <td>NaN</td>\n",
       "      <td>NaN</td>\n",
       "      <td>NaN</td>\n",
       "      <td>NaN</td>\n",
       "      <td>NaN</td>\n",
       "      <td>NaN</td>\n",
       "      <td>NaN</td>\n",
       "      <td>NaN</td>\n",
       "      <td>NaN</td>\n",
       "      <td>NaN</td>\n",
       "      <td>NaN</td>\n",
       "      <td>NaN</td>\n",
       "      <td>NaN</td>\n",
       "      <td>NaN</td>\n",
       "      <td>4.0</td>\n",
       "      <td>41.0</td>\n",
       "      <td>0.001</td>\n",
       "      <td>0.000</td>\n",
       "      <td>NaN</td>\n",
       "      <td>NaN</td>\n",
       "      <td>NaN</td>\n",
       "      <td>NaN</td>\n",
       "      <td>tests performed</td>\n",
       "      <td>NaN</td>\n",
       "      <td>NaN</td>\n",
       "      <td>NaN</td>\n",
       "      <td>NaN</td>\n",
       "      <td>NaN</td>\n",
       "      <td>NaN</td>\n",
       "      <td>NaN</td>\n",
       "      <td>NaN</td>\n",
       "      <td>NaN</td>\n",
       "      <td>NaN</td>\n",
       "      <td>NaN</td>\n",
       "      <td>0.0</td>\n",
       "      <td>45605823.0</td>\n",
       "      <td>16.177</td>\n",
       "      <td>31.9</td>\n",
       "      <td>11.198</td>\n",
       "      <td>7.441</td>\n",
       "      <td>18933.907</td>\n",
       "      <td>0.6</td>\n",
       "      <td>191.032</td>\n",
       "      <td>5.5</td>\n",
       "      <td>16.2</td>\n",
       "      <td>27.7</td>\n",
       "      <td>NaN</td>\n",
       "      <td>5.0</td>\n",
       "      <td>76.67</td>\n",
       "      <td>0.845</td>\n",
       "      <td>NaN</td>\n",
       "    </tr>\n",
       "  </tbody>\n",
       "</table>\n",
       "</div>"
      ],
      "text/plain": [
       "  iso_code      continent   location        date  total_cases  new_cases  new_cases_smoothed  total_deaths  new_deaths  new_deaths_smoothed  total_cases_per_million  new_cases_per_million  new_cases_smoothed_per_million  total_deaths_per_million  new_deaths_per_million  new_deaths_smoothed_per_million  reproduction_rate  icu_patients  icu_patients_per_million  hosp_patients  hosp_patients_per_million  weekly_icu_admissions  weekly_icu_admissions_per_million  weekly_hosp_admissions  weekly_hosp_admissions_per_million  new_tests  total_tests  total_tests_per_thousand  new_tests_per_thousand  new_tests_smoothed  new_tests_smoothed_per_thousand  positive_rate  tests_per_case      tests_units  total_vaccinations  people_vaccinated  people_fully_vaccinated  total_boosters  new_vaccinations  new_vaccinations_smoothed  total_vaccinations_per_hundred  people_vaccinated_per_hundred  people_fully_vaccinated_per_hundred  total_boosters_per_hundred  new_vaccinations_smoothed_per_million  \\\n",
       "0      ARG  South America  Argentina  2020-01-01          NaN        NaN                 NaN           NaN         NaN                  NaN                      NaN                    NaN                             NaN                       NaN                     NaN                              NaN                NaN           NaN                       NaN            NaN                        NaN                    NaN                                NaN                     NaN                                 NaN        1.0          1.0                     0.000                   0.000                 NaN                              NaN            NaN             NaN  tests performed                 NaN                NaN                      NaN             NaN               NaN                        NaN                             NaN                            NaN                                  NaN                         NaN                                    NaN   \n",
       "1      ARG  South America  Argentina  2020-01-02          NaN        NaN                 NaN           NaN         NaN                  NaN                      NaN                    NaN                             NaN                       NaN                     NaN                              NaN                NaN           NaN                       NaN            NaN                        NaN                    NaN                                NaN                     NaN                                 NaN       36.0         37.0                     0.001                   0.001                 NaN                              NaN            NaN             NaN  tests performed                 NaN                NaN                      NaN             NaN               NaN                        NaN                             NaN                            NaN                                  NaN                         NaN                                    NaN   \n",
       "2      ARG  South America  Argentina  2020-01-03          NaN        NaN                 NaN           NaN         NaN                  NaN                      NaN                    NaN                             NaN                       NaN                     NaN                              NaN                NaN           NaN                       NaN            NaN                        NaN                    NaN                                NaN                     NaN                                 NaN        4.0         41.0                     0.001                   0.000                 NaN                              NaN            NaN             NaN  tests performed                 NaN                NaN                      NaN             NaN               NaN                        NaN                             NaN                            NaN                                  NaN                         NaN                                    NaN   \n",
       "\n",
       "   stringency_index  population  population_density  median_age  aged_65_older  aged_70_older  gdp_per_capita  extreme_poverty  cardiovasc_death_rate  diabetes_prevalence  female_smokers  male_smokers  handwashing_facilities  hospital_beds_per_thousand  life_expectancy  human_development_index  excess_mortality  \n",
       "0               0.0  45605823.0              16.177        31.9         11.198          7.441       18933.907              0.6                191.032                  5.5            16.2          27.7                     NaN                         5.0            76.67                    0.845               NaN  \n",
       "1               0.0  45605823.0              16.177        31.9         11.198          7.441       18933.907              0.6                191.032                  5.5            16.2          27.7                     NaN                         5.0            76.67                    0.845               NaN  \n",
       "2               0.0  45605823.0              16.177        31.9         11.198          7.441       18933.907              0.6                191.032                  5.5            16.2          27.7                     NaN                         5.0            76.67                    0.845               NaN  "
      ]
     },
     "execution_count": 19,
     "metadata": {},
     "output_type": "execute_result"
    }
   ],
   "source": [
    "# Nos quedamos unicamente con los datos de argentina\n",
    "# Reseteamos los indices para obtener una tabla limpia de resultados.\n",
    "arg = datos[datos['location'] == 'Argentina']\n",
    "arg = arg.reset_index(drop=True)\n",
    "arg.head(3)"
   ]
  },
  {
   "cell_type": "code",
   "execution_count": 20,
   "metadata": {},
   "outputs": [],
   "source": [
    "# Eliminamos valores nulos en las columnas: location, date y total_cases porque no aportan informacion relevante\n",
    "# E intentamos averiguar el K usando el ajuste, donde los arreglos no pueden contener valores nulos.\n",
    "arg = arg[['location','date','total_cases']].dropna()\n",
    "casos_principio = arg.total_cases[10:45]\n",
    "dias_principio = np.arange(0,len(casos_principio))"
   ]
  },
  {
   "cell_type": "code",
   "execution_count": 21,
   "metadata": {
    "id": "L4b5BB9lfyTQ"
   },
   "outputs": [],
   "source": [
    "#definimos función para ajustar modelo\n",
    "def exponencial(t,k,t0):\n",
    "  C=np.exp(k*(t-t0))\n",
    "  return C"
   ]
  },
  {
   "cell_type": "code",
   "execution_count": 22,
   "metadata": {
    "colab": {
     "base_uri": "https://localhost:8080/"
    },
    "id": "qJF6X5lHh6_K",
    "outputId": "edbc55cb-a496-4006-c533-bc325d67cbc9"
   },
   "outputs": [
    {
     "data": {
      "text/plain": [
       "array([  0.07521594, -71.69874405])"
      ]
     },
     "execution_count": 22,
     "metadata": {},
     "output_type": "execute_result"
    }
   ],
   "source": [
    "#ajustamos\n",
    "popt, pcov = curve_fit(exponencial, dias_principio, casos_principio)\n",
    "popt"
   ]
  },
  {
   "cell_type": "markdown",
   "metadata": {
    "id": "Or4MYGHtiZzR"
   },
   "source": [
    "Veamos cómo se ajusta lo que obtuvimos a los datos reales"
   ]
  },
  {
   "cell_type": "code",
   "execution_count": 23,
   "metadata": {
    "colab": {
     "base_uri": "https://localhost:8080/",
     "height": 283
    },
    "id": "wzBgxnf4iQqq",
    "outputId": "06821748-c800-4f0c-c3b0-76000cc28f2e"
   },
   "outputs": [
    {
     "data": {
      "text/plain": [
       "[<matplotlib.lines.Line2D at 0x7fe283f08880>]"
      ]
     },
     "execution_count": 23,
     "metadata": {},
     "output_type": "execute_result"
    },
    {
     "data": {
      "image/png": "[encoded data removed]",
      "text/plain": [
       "<Figure size 432x288 with 1 Axes>"
      ]
     },
     "metadata": {
      "needs_background": "light"
     },
     "output_type": "display_data"
    }
   ],
   "source": [
    "k=popt[0]\n",
    "t0=popt[1]\n",
    "casos_simu=exponencial(dias_principio,k,t0)\n",
    "plt.plot(dias_principio,casos_principio,'.')\n",
    "plt.plot(dias_principio,casos_simu)"
   ]
  },
  {
   "cell_type": "markdown",
   "metadata": {
    "id": "zt24DRvS2fg2"
   },
   "source": [
    "Como última pista, hagamos una función que determine los casos nuevos por día a partir de estas curvas. Puede ser útil para tu análisis."
   ]
  },
  {
   "cell_type": "code",
   "execution_count": 24,
   "metadata": {
    "id": "losUiyh6iw-N"
   },
   "outputs": [],
   "source": [
    "def casos_nuevos(casos):\n",
    "  nuevos=np.zeros(len(casos))\n",
    "  i=0\n",
    "  while i<len(nuevos)-1:\n",
    "    nuevos[i]=casos[i+1]-casos[i]\n",
    "    i=i+1\n",
    "\n",
    "  return nuevos   "
   ]
  },
  {
   "cell_type": "code",
   "execution_count": 25,
   "metadata": {
    "colab": {
     "base_uri": "https://localhost:8080/",
     "height": 283
    },
    "id": "9a7ZdG652-uC",
    "outputId": "9fde423a-5c04-4197-a596-0808954f12f6"
   },
   "outputs": [
    {
     "data": {
      "text/plain": [
       "[<matplotlib.lines.Line2D at 0x7fe284046490>]"
      ]
     },
     "execution_count": 25,
     "metadata": {},
     "output_type": "execute_result"
    },
    {
     "data": {
      "image/png": "[encoded data removed]",
      "text/plain": [
       "<Figure size 432x288 with 1 Axes>"
      ]
     },
     "metadata": {
      "needs_background": "light"
     },
     "output_type": "display_data"
    }
   ],
   "source": [
    "casos_arg=np.array(casos_arg)\n",
    "nuevos_arg=casos_nuevos(casos_arg)\n",
    "plt.plot(nuevos_arg)"
   ]
  },
  {
   "cell_type": "markdown",
   "metadata": {
    "id": "eHJ2ZF_Y3O6A"
   },
   "source": [
    "## Elegimos diez paises para realizar la medicion de K"
   ]
  },
  {
   "cell_type": "markdown",
   "metadata": {},
   "source": [
    "El analisis que hicimos anteriormente con Argentina, lo vamos a realizar a continuacion pero con otros 10 paises, para ver si podemos entender el k mundial a partir del analiss de una poblicacion de paises seleccionados.\n",
    "A partir del estudio de estos paises bien seleccionados y usando las herramientas estudiadas en el sprint, vamos a intentar comprender si es posible la prediccion del comportamiento global de la pandemia.\n",
    "Me centrare en los proximos 10 paises:\n",
    "\n",
    "1.\tAlemania\n",
    "2.\tChina\n",
    "3.\tItalia\n",
    "4.\tPeru\n",
    "5.\tMexico\n",
    "6.\tReino unido\n",
    "7.\tSudafrica \n",
    "8.\tFrancia\n",
    "9.\tBrasil\n",
    "10.\tEstados unidos\n",
    "\n",
    "Fueron elegidos los paises principalemnte que fueran potencia mundial como China (pais origen de pandemia), EEUU (pais con mas casos de covid a nivel mundial), Reino Unido, Francia y Alemania.\n",
    "Luego se elige a Brasil (pais que tomo medidas conocidas mundialmente por su flexibilidad) y Sudafrica (pais de africa).\n",
    "Tambien a pasis de america como Mexico y Peru (pais de america del norte y sur) y tambien a Italia de Europa.\n",
    "Con la eleccion de estos paises vamos a tener un gran vistazo de los resultados a nivel global."
   ]
  },
  {
   "cell_type": "code",
   "execution_count": 26,
   "metadata": {},
   "outputs": [],
   "source": [
    "# Determinamos nuestra muestra, incluyendo solamente a los diez paises seleccionados.\n",
    "Muestra=['United States','China','Italy','Peru','Mexico','United Kingdom','South Africa','France','Brazil','Germany']"
   ]
  },
  {
   "cell_type": "code",
   "execution_count": 27,
   "metadata": {},
   "outputs": [
    {
     "data": {
      "text/plain": [
       "array(['Brazil', 'China', 'France', 'Germany', 'Italy', 'Mexico', 'Peru',\n",
       "       'South Africa', 'United Kingdom', 'United States'], dtype=object)"
      ]
     },
     "execution_count": 27,
     "metadata": {},
     "output_type": "execute_result"
    }
   ],
   "source": [
    "# Utilizamos como filtro a la muestra de paises que definimos\n",
    "datos_muestra=datos[datos.location.isin(Muestra)]\n",
    "# Comprobamos que se haya realizado bien el filtrado:\n",
    "datos_muestra['location'].unique()"
   ]
  },
  {
   "cell_type": "markdown",
   "metadata": {},
   "source": [
    "### 1. Alemania"
   ]
  },
  {
   "cell_type": "code",
   "execution_count": 35,
   "metadata": {},
   "outputs": [
    {
     "data": {
      "text/html": [
       "<div>\n",
       "<style scoped>\n",
       "    .dataframe tbody tr th:only-of-type {\n",
       "        vertical-align: middle;\n",
       "    }\n",
       "\n",
       "    .dataframe tbody tr th {\n",
       "        vertical-align: top;\n",
       "    }\n",
       "\n",
       "    .dataframe thead th {\n",
       "        text-align: right;\n",
       "    }\n",
       "</style>\n",
       "<table border=\"1\" class=\"dataframe\">\n",
       "  <thead>\n",
       "    <tr style=\"text-align: right;\">\n",
       "      <th></th>\n",
       "      <th>iso_code</th>\n",
       "      <th>continent</th>\n",
       "      <th>location</th>\n",
       "      <th>date</th>\n",
       "      <th>total_cases</th>\n",
       "      <th>new_cases</th>\n",
       "      <th>new_cases_smoothed</th>\n",
       "      <th>total_deaths</th>\n",
       "      <th>new_deaths</th>\n",
       "      <th>new_deaths_smoothed</th>\n",
       "      <th>total_cases_per_million</th>\n",
       "      <th>new_cases_per_million</th>\n",
       "      <th>new_cases_smoothed_per_million</th>\n",
       "      <th>total_deaths_per_million</th>\n",
       "      <th>new_deaths_per_million</th>\n",
       "      <th>new_deaths_smoothed_per_million</th>\n",
       "      <th>reproduction_rate</th>\n",
       "      <th>icu_patients</th>\n",
       "      <th>icu_patients_per_million</th>\n",
       "      <th>hosp_patients</th>\n",
       "      <th>hosp_patients_per_million</th>\n",
       "      <th>weekly_icu_admissions</th>\n",
       "      <th>weekly_icu_admissions_per_million</th>\n",
       "      <th>weekly_hosp_admissions</th>\n",
       "      <th>weekly_hosp_admissions_per_million</th>\n",
       "      <th>new_tests</th>\n",
       "      <th>total_tests</th>\n",
       "      <th>total_tests_per_thousand</th>\n",
       "      <th>new_tests_per_thousand</th>\n",
       "      <th>new_tests_smoothed</th>\n",
       "      <th>new_tests_smoothed_per_thousand</th>\n",
       "      <th>positive_rate</th>\n",
       "      <th>tests_per_case</th>\n",
       "      <th>tests_units</th>\n",
       "      <th>total_vaccinations</th>\n",
       "      <th>people_vaccinated</th>\n",
       "      <th>people_fully_vaccinated</th>\n",
       "      <th>total_boosters</th>\n",
       "      <th>new_vaccinations</th>\n",
       "      <th>new_vaccinations_smoothed</th>\n",
       "      <th>total_vaccinations_per_hundred</th>\n",
       "      <th>people_vaccinated_per_hundred</th>\n",
       "      <th>people_fully_vaccinated_per_hundred</th>\n",
       "      <th>total_boosters_per_hundred</th>\n",
       "      <th>new_vaccinations_smoothed_per_million</th>\n",
       "      <th>stringency_index</th>\n",
       "      <th>population</th>\n",
       "      <th>population_density</th>\n",
       "      <th>median_age</th>\n",
       "      <th>aged_65_older</th>\n",
       "      <th>aged_70_older</th>\n",
       "      <th>gdp_per_capita</th>\n",
       "      <th>extreme_poverty</th>\n",
       "      <th>cardiovasc_death_rate</th>\n",
       "      <th>diabetes_prevalence</th>\n",
       "      <th>female_smokers</th>\n",
       "      <th>male_smokers</th>\n",
       "      <th>handwashing_facilities</th>\n",
       "      <th>hospital_beds_per_thousand</th>\n",
       "      <th>life_expectancy</th>\n",
       "      <th>human_development_index</th>\n",
       "      <th>excess_mortality</th>\n",
       "    </tr>\n",
       "  </thead>\n",
       "  <tbody>\n",
       "    <tr>\n",
       "      <th>0</th>\n",
       "      <td>DEU</td>\n",
       "      <td>Europe</td>\n",
       "      <td>Germany</td>\n",
       "      <td>2020-01-06</td>\n",
       "      <td>NaN</td>\n",
       "      <td>NaN</td>\n",
       "      <td>NaN</td>\n",
       "      <td>NaN</td>\n",
       "      <td>NaN</td>\n",
       "      <td>NaN</td>\n",
       "      <td>NaN</td>\n",
       "      <td>NaN</td>\n",
       "      <td>NaN</td>\n",
       "      <td>NaN</td>\n",
       "      <td>NaN</td>\n",
       "      <td>NaN</td>\n",
       "      <td>NaN</td>\n",
       "      <td>NaN</td>\n",
       "      <td>NaN</td>\n",
       "      <td>NaN</td>\n",
       "      <td>NaN</td>\n",
       "      <td>NaN</td>\n",
       "      <td>NaN</td>\n",
       "      <td>40.353</td>\n",
       "      <td>0.481</td>\n",
       "      <td>NaN</td>\n",
       "      <td>NaN</td>\n",
       "      <td>NaN</td>\n",
       "      <td>NaN</td>\n",
       "      <td>NaN</td>\n",
       "      <td>NaN</td>\n",
       "      <td>NaN</td>\n",
       "      <td>NaN</td>\n",
       "      <td>NaN</td>\n",
       "      <td>NaN</td>\n",
       "      <td>NaN</td>\n",
       "      <td>NaN</td>\n",
       "      <td>NaN</td>\n",
       "      <td>NaN</td>\n",
       "      <td>NaN</td>\n",
       "      <td>NaN</td>\n",
       "      <td>NaN</td>\n",
       "      <td>NaN</td>\n",
       "      <td>NaN</td>\n",
       "      <td>NaN</td>\n",
       "      <td>0.00</td>\n",
       "      <td>83900471.0</td>\n",
       "      <td>237.016</td>\n",
       "      <td>46.6</td>\n",
       "      <td>21.453</td>\n",
       "      <td>15.957</td>\n",
       "      <td>45229.245</td>\n",
       "      <td>NaN</td>\n",
       "      <td>156.139</td>\n",
       "      <td>8.31</td>\n",
       "      <td>28.2</td>\n",
       "      <td>33.1</td>\n",
       "      <td>NaN</td>\n",
       "      <td>8.0</td>\n",
       "      <td>81.33</td>\n",
       "      <td>0.947</td>\n",
       "      <td>NaN</td>\n",
       "    </tr>\n",
       "    <tr>\n",
       "      <th>1</th>\n",
       "      <td>DEU</td>\n",
       "      <td>Europe</td>\n",
       "      <td>Germany</td>\n",
       "      <td>2020-01-18</td>\n",
       "      <td>NaN</td>\n",
       "      <td>NaN</td>\n",
       "      <td>NaN</td>\n",
       "      <td>NaN</td>\n",
       "      <td>NaN</td>\n",
       "      <td>NaN</td>\n",
       "      <td>NaN</td>\n",
       "      <td>NaN</td>\n",
       "      <td>NaN</td>\n",
       "      <td>NaN</td>\n",
       "      <td>NaN</td>\n",
       "      <td>NaN</td>\n",
       "      <td>NaN</td>\n",
       "      <td>NaN</td>\n",
       "      <td>NaN</td>\n",
       "      <td>NaN</td>\n",
       "      <td>NaN</td>\n",
       "      <td>NaN</td>\n",
       "      <td>NaN</td>\n",
       "      <td>21.185</td>\n",
       "      <td>0.253</td>\n",
       "      <td>NaN</td>\n",
       "      <td>NaN</td>\n",
       "      <td>NaN</td>\n",
       "      <td>NaN</td>\n",
       "      <td>NaN</td>\n",
       "      <td>NaN</td>\n",
       "      <td>NaN</td>\n",
       "      <td>NaN</td>\n",
       "      <td>NaN</td>\n",
       "      <td>NaN</td>\n",
       "      <td>NaN</td>\n",
       "      <td>NaN</td>\n",
       "      <td>NaN</td>\n",
       "      <td>NaN</td>\n",
       "      <td>NaN</td>\n",
       "      <td>NaN</td>\n",
       "      <td>NaN</td>\n",
       "      <td>NaN</td>\n",
       "      <td>NaN</td>\n",
       "      <td>NaN</td>\n",
       "      <td>0.00</td>\n",
       "      <td>83900471.0</td>\n",
       "      <td>237.016</td>\n",
       "      <td>46.6</td>\n",
       "      <td>21.453</td>\n",
       "      <td>15.957</td>\n",
       "      <td>45229.245</td>\n",
       "      <td>NaN</td>\n",
       "      <td>156.139</td>\n",
       "      <td>8.31</td>\n",
       "      <td>28.2</td>\n",
       "      <td>33.1</td>\n",
       "      <td>NaN</td>\n",
       "      <td>8.0</td>\n",
       "      <td>81.33</td>\n",
       "      <td>0.947</td>\n",
       "      <td>NaN</td>\n",
       "    </tr>\n",
       "    <tr>\n",
       "      <th>2</th>\n",
       "      <td>DEU</td>\n",
       "      <td>Europe</td>\n",
       "      <td>Germany</td>\n",
       "      <td>2020-01-24</td>\n",
       "      <td>NaN</td>\n",
       "      <td>NaN</td>\n",
       "      <td>NaN</td>\n",
       "      <td>NaN</td>\n",
       "      <td>NaN</td>\n",
       "      <td>NaN</td>\n",
       "      <td>NaN</td>\n",
       "      <td>NaN</td>\n",
       "      <td>NaN</td>\n",
       "      <td>NaN</td>\n",
       "      <td>NaN</td>\n",
       "      <td>NaN</td>\n",
       "      <td>NaN</td>\n",
       "      <td>NaN</td>\n",
       "      <td>NaN</td>\n",
       "      <td>NaN</td>\n",
       "      <td>NaN</td>\n",
       "      <td>NaN</td>\n",
       "      <td>NaN</td>\n",
       "      <td>28.247</td>\n",
       "      <td>0.337</td>\n",
       "      <td>NaN</td>\n",
       "      <td>NaN</td>\n",
       "      <td>NaN</td>\n",
       "      <td>NaN</td>\n",
       "      <td>NaN</td>\n",
       "      <td>NaN</td>\n",
       "      <td>NaN</td>\n",
       "      <td>NaN</td>\n",
       "      <td>NaN</td>\n",
       "      <td>NaN</td>\n",
       "      <td>NaN</td>\n",
       "      <td>NaN</td>\n",
       "      <td>NaN</td>\n",
       "      <td>NaN</td>\n",
       "      <td>NaN</td>\n",
       "      <td>NaN</td>\n",
       "      <td>NaN</td>\n",
       "      <td>NaN</td>\n",
       "      <td>NaN</td>\n",
       "      <td>NaN</td>\n",
       "      <td>5.56</td>\n",
       "      <td>83900471.0</td>\n",
       "      <td>237.016</td>\n",
       "      <td>46.6</td>\n",
       "      <td>21.453</td>\n",
       "      <td>15.957</td>\n",
       "      <td>45229.245</td>\n",
       "      <td>NaN</td>\n",
       "      <td>156.139</td>\n",
       "      <td>8.31</td>\n",
       "      <td>28.2</td>\n",
       "      <td>33.1</td>\n",
       "      <td>NaN</td>\n",
       "      <td>8.0</td>\n",
       "      <td>81.33</td>\n",
       "      <td>0.947</td>\n",
       "      <td>NaN</td>\n",
       "    </tr>\n",
       "  </tbody>\n",
       "</table>\n",
       "</div>"
      ],
      "text/plain": [
       "  iso_code continent location        date  total_cases  new_cases  new_cases_smoothed  total_deaths  new_deaths  new_deaths_smoothed  total_cases_per_million  new_cases_per_million  new_cases_smoothed_per_million  total_deaths_per_million  new_deaths_per_million  new_deaths_smoothed_per_million  reproduction_rate  icu_patients  icu_patients_per_million  hosp_patients  hosp_patients_per_million  weekly_icu_admissions  weekly_icu_admissions_per_million  weekly_hosp_admissions  weekly_hosp_admissions_per_million  new_tests  total_tests  total_tests_per_thousand  new_tests_per_thousand  new_tests_smoothed  new_tests_smoothed_per_thousand  positive_rate  tests_per_case tests_units  total_vaccinations  people_vaccinated  people_fully_vaccinated  total_boosters  new_vaccinations  new_vaccinations_smoothed  total_vaccinations_per_hundred  people_vaccinated_per_hundred  people_fully_vaccinated_per_hundred  total_boosters_per_hundred  new_vaccinations_smoothed_per_million  stringency_index  \\\n",
       "0      DEU    Europe  Germany  2020-01-06          NaN        NaN                 NaN           NaN         NaN                  NaN                      NaN                    NaN                             NaN                       NaN                     NaN                              NaN                NaN           NaN                       NaN            NaN                        NaN                    NaN                                NaN                  40.353                               0.481        NaN          NaN                       NaN                     NaN                 NaN                              NaN            NaN             NaN         NaN                 NaN                NaN                      NaN             NaN               NaN                        NaN                             NaN                            NaN                                  NaN                         NaN                                    NaN              0.00   \n",
       "1      DEU    Europe  Germany  2020-01-18          NaN        NaN                 NaN           NaN         NaN                  NaN                      NaN                    NaN                             NaN                       NaN                     NaN                              NaN                NaN           NaN                       NaN            NaN                        NaN                    NaN                                NaN                  21.185                               0.253        NaN          NaN                       NaN                     NaN                 NaN                              NaN            NaN             NaN         NaN                 NaN                NaN                      NaN             NaN               NaN                        NaN                             NaN                            NaN                                  NaN                         NaN                                    NaN              0.00   \n",
       "2      DEU    Europe  Germany  2020-01-24          NaN        NaN                 NaN           NaN         NaN                  NaN                      NaN                    NaN                             NaN                       NaN                     NaN                              NaN                NaN           NaN                       NaN            NaN                        NaN                    NaN                                NaN                  28.247                               0.337        NaN          NaN                       NaN                     NaN                 NaN                              NaN            NaN             NaN         NaN                 NaN                NaN                      NaN             NaN               NaN                        NaN                             NaN                            NaN                                  NaN                         NaN                                    NaN              5.56   \n",
       "\n",
       "   population  population_density  median_age  aged_65_older  aged_70_older  gdp_per_capita  extreme_poverty  cardiovasc_death_rate  diabetes_prevalence  female_smokers  male_smokers  handwashing_facilities  hospital_beds_per_thousand  life_expectancy  human_development_index  excess_mortality  \n",
       "0  83900471.0             237.016        46.6         21.453         15.957       45229.245              NaN                156.139                 8.31            28.2          33.1                     NaN                         8.0            81.33                    0.947               NaN  \n",
       "1  83900471.0             237.016        46.6         21.453         15.957       45229.245              NaN                156.139                 8.31            28.2          33.1                     NaN                         8.0            81.33                    0.947               NaN  \n",
       "2  83900471.0             237.016        46.6         21.453         15.957       45229.245              NaN                156.139                 8.31            28.2          33.1                     NaN                         8.0            81.33                    0.947               NaN  "
      ]
     },
     "execution_count": 35,
     "metadata": {},
     "output_type": "execute_result"
    }
   ],
   "source": [
    "alemania = datos_muestra[datos_muestra['location'] == 'Germany']\n",
    "alemania = alemania.reset_index(drop=True)\n",
    "alemania.head(3)"
   ]
  },
  {
   "cell_type": "code",
   "execution_count": 36,
   "metadata": {},
   "outputs": [],
   "source": [
    "alemania = alemania[['location','date','total_cases']].dropna()"
   ]
  },
  {
   "cell_type": "code",
   "execution_count": 37,
   "metadata": {},
   "outputs": [],
   "source": [
    "casos_principio = alemania.total_cases[25:35]\n",
    "dias_principio = np.arange(0,len(casos_principio))"
   ]
  },
  {
   "cell_type": "code",
   "execution_count": 40,
   "metadata": {},
   "outputs": [
    {
     "data": {
      "text/plain": [
       "array([ 0.36780444, -4.0861916 ])"
      ]
     },
     "execution_count": 40,
     "metadata": {},
     "output_type": "execute_result"
    }
   ],
   "source": [
    "#ajustamos utilizando la funcion exponencial definida mas arriba dentro del proyecto\n",
    "popt_ger, pcov_ger = curve_fit(exponencial, dias_principio, casos_principio)\n",
    "popt_ger #valor de k"
   ]
  },
  {
   "cell_type": "code",
   "execution_count": 41,
   "metadata": {},
   "outputs": [
    {
     "data": {
      "text/plain": [
       "[<matplotlib.lines.Line2D at 0x7fe2844b9700>]"
      ]
     },
     "execution_count": 41,
     "metadata": {},
     "output_type": "execute_result"
    },
    {
     "data": {
      "image/png": "[encoded data removed]",
      "text/plain": [
       "<Figure size 432x288 with 1 Axes>"
      ]
     },
     "metadata": {
      "needs_background": "light"
     },
     "output_type": "display_data"
    }
   ],
   "source": [
    "# Vemos como se ajusta lo que obtuvimos en relacion a los datos reales\n",
    "k=popt_ger[0]\n",
    "t0=popt_ger[1]\n",
    "casos_simu=exponencial(dias_principio,k,t0)\n",
    "plt.plot(dias_principio,casos_principio,'.')\n",
    "plt.plot(dias_principio,casos_simu)\n"
   ]
  },
  {
   "cell_type": "code",
   "execution_count": 43,
   "metadata": {},
   "outputs": [
    {
     "data": {
      "text/plain": [
       "Text(0, 0.5, 'cantidad de casos')"
      ]
     },
     "execution_count": 43,
     "metadata": {},
     "output_type": "execute_result"
    },
    {
     "data": {
      "image/png": "[encoded data removed]",
      "text/plain": [
       "<Figure size 432x288 with 1 Axes>"
      ]
     },
     "metadata": {
      "needs_background": "light"
     },
     "output_type": "display_data"
    }
   ],
   "source": [
    "# Graficamos Alemania\n",
    "ind_germany=np.where(paises=='Germany')\n",
    "ind_germany=ind_germany[0]\n",
    "casos_alemania=confirmados[ind_germany]\n",
    "dias=np.arange(0,len(casos_alemania))\n",
    "plt.plot(dias,casos_alemania)\n",
    "plt.xlabel('dias')\n",
    "plt.ylabel('cantidad de casos')"
   ]
  },
  {
   "cell_type": "code",
   "execution_count": 48,
   "metadata": {},
   "outputs": [
    {
     "data": {
      "text/plain": [
       "[<matplotlib.lines.Line2D at 0x7fe285d7a190>]"
      ]
     },
     "execution_count": 48,
     "metadata": {},
     "output_type": "execute_result"
    },
    {
     "data": {
      "image/png": "[encoded data removed]",
      "text/plain": [
       "<Figure size 432x288 with 1 Axes>"
      ]
     },
     "metadata": {
      "needs_background": "light"
     },
     "output_type": "display_data"
    }
   ],
   "source": [
    "# Utilizamos la funcion \"casos_nuevos\" para analizar Alemania (la que definimos anteriormente cuando analizamos Argentina)\n",
    "casos_alemania=np.array(casos_alemania)\n",
    "nuevos_alemania=casos_nuevos(casos_alemania)\n",
    "plt.plot(nuevos_alemania)"
   ]
  },
  {
   "cell_type": "markdown",
   "metadata": {},
   "source": [
    "A continuacion se realizara para el resto de los paises lo que hicimos anteriormente. Comenzando con China:"
   ]
  },
  {
   "cell_type": "markdown",
   "metadata": {},
   "source": [
    "### 2. China"
   ]
  },
  {
   "cell_type": "code",
   "execution_count": 49,
   "metadata": {},
   "outputs": [
    {
     "data": {
      "text/html": [
       "<div>\n",
       "<style scoped>\n",
       "    .dataframe tbody tr th:only-of-type {\n",
       "        vertical-align: middle;\n",
       "    }\n",
       "\n",
       "    .dataframe tbody tr th {\n",
       "        vertical-align: top;\n",
       "    }\n",
       "\n",
       "    .dataframe thead th {\n",
       "        text-align: right;\n",
       "    }\n",
       "</style>\n",
       "<table border=\"1\" class=\"dataframe\">\n",
       "  <thead>\n",
       "    <tr style=\"text-align: right;\">\n",
       "      <th></th>\n",
       "      <th>iso_code</th>\n",
       "      <th>continent</th>\n",
       "      <th>location</th>\n",
       "      <th>date</th>\n",
       "      <th>total_cases</th>\n",
       "      <th>new_cases</th>\n",
       "      <th>new_cases_smoothed</th>\n",
       "      <th>total_deaths</th>\n",
       "      <th>new_deaths</th>\n",
       "      <th>new_deaths_smoothed</th>\n",
       "      <th>total_cases_per_million</th>\n",
       "      <th>new_cases_per_million</th>\n",
       "      <th>new_cases_smoothed_per_million</th>\n",
       "      <th>total_deaths_per_million</th>\n",
       "      <th>new_deaths_per_million</th>\n",
       "      <th>new_deaths_smoothed_per_million</th>\n",
       "      <th>reproduction_rate</th>\n",
       "      <th>icu_patients</th>\n",
       "      <th>icu_patients_per_million</th>\n",
       "      <th>hosp_patients</th>\n",
       "      <th>hosp_patients_per_million</th>\n",
       "      <th>weekly_icu_admissions</th>\n",
       "      <th>weekly_icu_admissions_per_million</th>\n",
       "      <th>weekly_hosp_admissions</th>\n",
       "      <th>weekly_hosp_admissions_per_million</th>\n",
       "      <th>new_tests</th>\n",
       "      <th>total_tests</th>\n",
       "      <th>total_tests_per_thousand</th>\n",
       "      <th>new_tests_per_thousand</th>\n",
       "      <th>new_tests_smoothed</th>\n",
       "      <th>new_tests_smoothed_per_thousand</th>\n",
       "      <th>positive_rate</th>\n",
       "      <th>tests_per_case</th>\n",
       "      <th>tests_units</th>\n",
       "      <th>total_vaccinations</th>\n",
       "      <th>people_vaccinated</th>\n",
       "      <th>people_fully_vaccinated</th>\n",
       "      <th>total_boosters</th>\n",
       "      <th>new_vaccinations</th>\n",
       "      <th>new_vaccinations_smoothed</th>\n",
       "      <th>total_vaccinations_per_hundred</th>\n",
       "      <th>people_vaccinated_per_hundred</th>\n",
       "      <th>people_fully_vaccinated_per_hundred</th>\n",
       "      <th>total_boosters_per_hundred</th>\n",
       "      <th>new_vaccinations_smoothed_per_million</th>\n",
       "      <th>stringency_index</th>\n",
       "      <th>population</th>\n",
       "      <th>population_density</th>\n",
       "      <th>median_age</th>\n",
       "      <th>aged_65_older</th>\n",
       "      <th>aged_70_older</th>\n",
       "      <th>gdp_per_capita</th>\n",
       "      <th>extreme_poverty</th>\n",
       "      <th>cardiovasc_death_rate</th>\n",
       "      <th>diabetes_prevalence</th>\n",
       "      <th>female_smokers</th>\n",
       "      <th>male_smokers</th>\n",
       "      <th>handwashing_facilities</th>\n",
       "      <th>hospital_beds_per_thousand</th>\n",
       "      <th>life_expectancy</th>\n",
       "      <th>human_development_index</th>\n",
       "      <th>excess_mortality</th>\n",
       "    </tr>\n",
       "  </thead>\n",
       "  <tbody>\n",
       "    <tr>\n",
       "      <th>0</th>\n",
       "      <td>CHN</td>\n",
       "      <td>Asia</td>\n",
       "      <td>China</td>\n",
       "      <td>2020-01-22</td>\n",
       "      <td>548.0</td>\n",
       "      <td>NaN</td>\n",
       "      <td>NaN</td>\n",
       "      <td>17.0</td>\n",
       "      <td>NaN</td>\n",
       "      <td>NaN</td>\n",
       "      <td>0.379</td>\n",
       "      <td>NaN</td>\n",
       "      <td>NaN</td>\n",
       "      <td>0.012</td>\n",
       "      <td>NaN</td>\n",
       "      <td>NaN</td>\n",
       "      <td>NaN</td>\n",
       "      <td>NaN</td>\n",
       "      <td>NaN</td>\n",
       "      <td>NaN</td>\n",
       "      <td>NaN</td>\n",
       "      <td>NaN</td>\n",
       "      <td>NaN</td>\n",
       "      <td>NaN</td>\n",
       "      <td>NaN</td>\n",
       "      <td>NaN</td>\n",
       "      <td>NaN</td>\n",
       "      <td>NaN</td>\n",
       "      <td>NaN</td>\n",
       "      <td>NaN</td>\n",
       "      <td>NaN</td>\n",
       "      <td>NaN</td>\n",
       "      <td>NaN</td>\n",
       "      <td>NaN</td>\n",
       "      <td>NaN</td>\n",
       "      <td>NaN</td>\n",
       "      <td>NaN</td>\n",
       "      <td>NaN</td>\n",
       "      <td>NaN</td>\n",
       "      <td>NaN</td>\n",
       "      <td>NaN</td>\n",
       "      <td>NaN</td>\n",
       "      <td>NaN</td>\n",
       "      <td>NaN</td>\n",
       "      <td>NaN</td>\n",
       "      <td>26.39</td>\n",
       "      <td>1.444216e+09</td>\n",
       "      <td>147.674</td>\n",
       "      <td>38.7</td>\n",
       "      <td>10.641</td>\n",
       "      <td>5.929</td>\n",
       "      <td>15308.712</td>\n",
       "      <td>0.7</td>\n",
       "      <td>261.899</td>\n",
       "      <td>9.74</td>\n",
       "      <td>1.9</td>\n",
       "      <td>48.4</td>\n",
       "      <td>NaN</td>\n",
       "      <td>4.34</td>\n",
       "      <td>76.91</td>\n",
       "      <td>0.761</td>\n",
       "      <td>NaN</td>\n",
       "    </tr>\n",
       "    <tr>\n",
       "      <th>1</th>\n",
       "      <td>CHN</td>\n",
       "      <td>Asia</td>\n",
       "      <td>China</td>\n",
       "      <td>2020-01-23</td>\n",
       "      <td>641.0</td>\n",
       "      <td>93.0</td>\n",
       "      <td>NaN</td>\n",
       "      <td>18.0</td>\n",
       "      <td>1.0</td>\n",
       "      <td>NaN</td>\n",
       "      <td>0.444</td>\n",
       "      <td>0.064</td>\n",
       "      <td>NaN</td>\n",
       "      <td>0.012</td>\n",
       "      <td>0.001</td>\n",
       "      <td>NaN</td>\n",
       "      <td>3.07</td>\n",
       "      <td>NaN</td>\n",
       "      <td>NaN</td>\n",
       "      <td>NaN</td>\n",
       "      <td>NaN</td>\n",
       "      <td>NaN</td>\n",
       "      <td>NaN</td>\n",
       "      <td>NaN</td>\n",
       "      <td>NaN</td>\n",
       "      <td>NaN</td>\n",
       "      <td>NaN</td>\n",
       "      <td>NaN</td>\n",
       "      <td>NaN</td>\n",
       "      <td>NaN</td>\n",
       "      <td>NaN</td>\n",
       "      <td>NaN</td>\n",
       "      <td>NaN</td>\n",
       "      <td>NaN</td>\n",
       "      <td>NaN</td>\n",
       "      <td>NaN</td>\n",
       "      <td>NaN</td>\n",
       "      <td>NaN</td>\n",
       "      <td>NaN</td>\n",
       "      <td>NaN</td>\n",
       "      <td>NaN</td>\n",
       "      <td>NaN</td>\n",
       "      <td>NaN</td>\n",
       "      <td>NaN</td>\n",
       "      <td>NaN</td>\n",
       "      <td>44.91</td>\n",
       "      <td>1.444216e+09</td>\n",
       "      <td>147.674</td>\n",
       "      <td>38.7</td>\n",
       "      <td>10.641</td>\n",
       "      <td>5.929</td>\n",
       "      <td>15308.712</td>\n",
       "      <td>0.7</td>\n",
       "      <td>261.899</td>\n",
       "      <td>9.74</td>\n",
       "      <td>1.9</td>\n",
       "      <td>48.4</td>\n",
       "      <td>NaN</td>\n",
       "      <td>4.34</td>\n",
       "      <td>76.91</td>\n",
       "      <td>0.761</td>\n",
       "      <td>NaN</td>\n",
       "    </tr>\n",
       "    <tr>\n",
       "      <th>2</th>\n",
       "      <td>CHN</td>\n",
       "      <td>Asia</td>\n",
       "      <td>China</td>\n",
       "      <td>2020-01-24</td>\n",
       "      <td>918.0</td>\n",
       "      <td>277.0</td>\n",
       "      <td>NaN</td>\n",
       "      <td>26.0</td>\n",
       "      <td>8.0</td>\n",
       "      <td>NaN</td>\n",
       "      <td>0.636</td>\n",
       "      <td>0.192</td>\n",
       "      <td>NaN</td>\n",
       "      <td>0.018</td>\n",
       "      <td>0.006</td>\n",
       "      <td>NaN</td>\n",
       "      <td>3.22</td>\n",
       "      <td>NaN</td>\n",
       "      <td>NaN</td>\n",
       "      <td>NaN</td>\n",
       "      <td>NaN</td>\n",
       "      <td>NaN</td>\n",
       "      <td>NaN</td>\n",
       "      <td>NaN</td>\n",
       "      <td>NaN</td>\n",
       "      <td>NaN</td>\n",
       "      <td>NaN</td>\n",
       "      <td>NaN</td>\n",
       "      <td>NaN</td>\n",
       "      <td>NaN</td>\n",
       "      <td>NaN</td>\n",
       "      <td>NaN</td>\n",
       "      <td>NaN</td>\n",
       "      <td>NaN</td>\n",
       "      <td>NaN</td>\n",
       "      <td>NaN</td>\n",
       "      <td>NaN</td>\n",
       "      <td>NaN</td>\n",
       "      <td>NaN</td>\n",
       "      <td>NaN</td>\n",
       "      <td>NaN</td>\n",
       "      <td>NaN</td>\n",
       "      <td>NaN</td>\n",
       "      <td>NaN</td>\n",
       "      <td>NaN</td>\n",
       "      <td>44.91</td>\n",
       "      <td>1.444216e+09</td>\n",
       "      <td>147.674</td>\n",
       "      <td>38.7</td>\n",
       "      <td>10.641</td>\n",
       "      <td>5.929</td>\n",
       "      <td>15308.712</td>\n",
       "      <td>0.7</td>\n",
       "      <td>261.899</td>\n",
       "      <td>9.74</td>\n",
       "      <td>1.9</td>\n",
       "      <td>48.4</td>\n",
       "      <td>NaN</td>\n",
       "      <td>4.34</td>\n",
       "      <td>76.91</td>\n",
       "      <td>0.761</td>\n",
       "      <td>NaN</td>\n",
       "    </tr>\n",
       "  </tbody>\n",
       "</table>\n",
       "</div>"
      ],
      "text/plain": [
       "  iso_code continent location        date  total_cases  new_cases  new_cases_smoothed  total_deaths  new_deaths  new_deaths_smoothed  total_cases_per_million  new_cases_per_million  new_cases_smoothed_per_million  total_deaths_per_million  new_deaths_per_million  new_deaths_smoothed_per_million  reproduction_rate  icu_patients  icu_patients_per_million  hosp_patients  hosp_patients_per_million  weekly_icu_admissions  weekly_icu_admissions_per_million  weekly_hosp_admissions  weekly_hosp_admissions_per_million  new_tests  total_tests  total_tests_per_thousand  new_tests_per_thousand  new_tests_smoothed  new_tests_smoothed_per_thousand  positive_rate  tests_per_case tests_units  total_vaccinations  people_vaccinated  people_fully_vaccinated  total_boosters  new_vaccinations  new_vaccinations_smoothed  total_vaccinations_per_hundred  people_vaccinated_per_hundred  people_fully_vaccinated_per_hundred  total_boosters_per_hundred  new_vaccinations_smoothed_per_million  stringency_index  \\\n",
       "0      CHN      Asia    China  2020-01-22        548.0        NaN                 NaN          17.0         NaN                  NaN                    0.379                    NaN                             NaN                     0.012                     NaN                              NaN                NaN           NaN                       NaN            NaN                        NaN                    NaN                                NaN                     NaN                                 NaN        NaN          NaN                       NaN                     NaN                 NaN                              NaN            NaN             NaN         NaN                 NaN                NaN                      NaN             NaN               NaN                        NaN                             NaN                            NaN                                  NaN                         NaN                                    NaN             26.39   \n",
       "1      CHN      Asia    China  2020-01-23        641.0       93.0                 NaN          18.0         1.0                  NaN                    0.444                  0.064                             NaN                     0.012                   0.001                              NaN               3.07           NaN                       NaN            NaN                        NaN                    NaN                                NaN                     NaN                                 NaN        NaN          NaN                       NaN                     NaN                 NaN                              NaN            NaN             NaN         NaN                 NaN                NaN                      NaN             NaN               NaN                        NaN                             NaN                            NaN                                  NaN                         NaN                                    NaN             44.91   \n",
       "2      CHN      Asia    China  2020-01-24        918.0      277.0                 NaN          26.0         8.0                  NaN                    0.636                  0.192                             NaN                     0.018                   0.006                              NaN               3.22           NaN                       NaN            NaN                        NaN                    NaN                                NaN                     NaN                                 NaN        NaN          NaN                       NaN                     NaN                 NaN                              NaN            NaN             NaN         NaN                 NaN                NaN                      NaN             NaN               NaN                        NaN                             NaN                            NaN                                  NaN                         NaN                                    NaN             44.91   \n",
       "\n",
       "     population  population_density  median_age  aged_65_older  aged_70_older  gdp_per_capita  extreme_poverty  cardiovasc_death_rate  diabetes_prevalence  female_smokers  male_smokers  handwashing_facilities  hospital_beds_per_thousand  life_expectancy  human_development_index  excess_mortality  \n",
       "0  1.444216e+09             147.674        38.7         10.641          5.929       15308.712              0.7                261.899                 9.74             1.9          48.4                     NaN                        4.34            76.91                    0.761               NaN  \n",
       "1  1.444216e+09             147.674        38.7         10.641          5.929       15308.712              0.7                261.899                 9.74             1.9          48.4                     NaN                        4.34            76.91                    0.761               NaN  \n",
       "2  1.444216e+09             147.674        38.7         10.641          5.929       15308.712              0.7                261.899                 9.74             1.9          48.4                     NaN                        4.34            76.91                    0.761               NaN  "
      ]
     },
     "execution_count": 49,
     "metadata": {},
     "output_type": "execute_result"
    }
   ],
   "source": [
    "china = datos_muestra[datos_muestra['location'] == 'China']\n",
    "china = china.reset_index(drop=True)\n",
    "china.head(3)"
   ]
  },
  {
   "cell_type": "code",
   "execution_count": 50,
   "metadata": {},
   "outputs": [],
   "source": [
    "china = china[['location','date','total_cases']].dropna()"
   ]
  },
  {
   "cell_type": "code",
   "execution_count": 51,
   "metadata": {},
   "outputs": [],
   "source": [
    "casos_principio = china.total_cases[10:25]\n",
    "dias_principio = np.arange(0,len(casos_principio))"
   ]
  },
  {
   "cell_type": "code",
   "execution_count": 52,
   "metadata": {},
   "outputs": [
    {
     "data": {
      "text/plain": [
       "10    11878.0\n",
       "11    16615.0\n",
       "12    19701.0\n",
       "13    23690.0\n",
       "14    27419.0\n",
       "15    30563.0\n",
       "16    34085.0\n",
       "17    36788.0\n",
       "18    39800.0\n",
       "19    42316.0\n",
       "20    44337.0\n",
       "21    44709.0\n",
       "22    59842.0\n",
       "23    66302.0\n",
       "24    68357.0\n",
       "Name: total_cases, dtype: float64"
      ]
     },
     "execution_count": 52,
     "metadata": {},
     "output_type": "execute_result"
    }
   ],
   "source": [
    "casos_principio"
   ]
  },
  {
   "cell_type": "code",
   "execution_count": 53,
   "metadata": {},
   "outputs": [
    {
     "data": {
      "text/plain": [
       "array([  0.10116717, -96.26778783])"
      ]
     },
     "execution_count": 53,
     "metadata": {},
     "output_type": "execute_result"
    }
   ],
   "source": [
    "# Ajustamos\n",
    "popt_china, pcov_china = curve_fit(exponencial, dias_principio, casos_principio)\n",
    "popt_china # Valor de k"
   ]
  },
  {
   "cell_type": "code",
   "execution_count": 54,
   "metadata": {},
   "outputs": [
    {
     "data": {
      "text/plain": [
       "[<matplotlib.lines.Line2D at 0x7fe285eca400>]"
      ]
     },
     "execution_count": 54,
     "metadata": {},
     "output_type": "execute_result"
    },
    {
     "data": {
      "image/png": "[encoded data removed]",
      "text/plain": [
       "<Figure size 432x288 with 1 Axes>"
      ]
     },
     "metadata": {
      "needs_background": "light"
     },
     "output_type": "display_data"
    }
   ],
   "source": [
    "k=popt_china[0]\n",
    "t0=popt_china[1]\n",
    "casos_simu=exponencial(dias_principio,k,t0)\n",
    "plt.plot(dias_principio,casos_principio,'.')\n",
    "plt.plot(dias_principio,casos_simu)"
   ]
  },
  {
   "cell_type": "code",
   "execution_count": 55,
   "metadata": {},
   "outputs": [
    {
     "data": {
      "text/plain": [
       "Text(0, 0.5, 'cantidad de casos')"
      ]
     },
     "execution_count": 55,
     "metadata": {},
     "output_type": "execute_result"
    },
    {
     "data": {
      "image/png": "[encoded data removed]",
      "text/plain": [
       "<Figure size 432x288 with 1 Axes>"
      ]
     },
     "metadata": {
      "needs_background": "light"
     },
     "output_type": "display_data"
    }
   ],
   "source": [
    "ind_china=np.where(paises=='China')\n",
    "ind_china=ind_china[0]\n",
    "casos_china=confirmados[ind_china]\n",
    "dias=np.arange(0,len(casos_china))\n",
    "plt.plot(dias,casos_china)\n",
    "plt.xlabel('dias')\n",
    "plt.ylabel('cantidad de casos')"
   ]
  },
  {
   "cell_type": "markdown",
   "metadata": {},
   "source": [
    "### 3. Italia"
   ]
  },
  {
   "cell_type": "code",
   "execution_count": 56,
   "metadata": {},
   "outputs": [
    {
     "data": {
      "text/html": [
       "<div>\n",
       "<style scoped>\n",
       "    .dataframe tbody tr th:only-of-type {\n",
       "        vertical-align: middle;\n",
       "    }\n",
       "\n",
       "    .dataframe tbody tr th {\n",
       "        vertical-align: top;\n",
       "    }\n",
       "\n",
       "    .dataframe thead th {\n",
       "        text-align: right;\n",
       "    }\n",
       "</style>\n",
       "<table border=\"1\" class=\"dataframe\">\n",
       "  <thead>\n",
       "    <tr style=\"text-align: right;\">\n",
       "      <th></th>\n",
       "      <th>iso_code</th>\n",
       "      <th>continent</th>\n",
       "      <th>location</th>\n",
       "      <th>date</th>\n",
       "      <th>total_cases</th>\n",
       "      <th>new_cases</th>\n",
       "      <th>new_cases_smoothed</th>\n",
       "      <th>total_deaths</th>\n",
       "      <th>new_deaths</th>\n",
       "      <th>new_deaths_smoothed</th>\n",
       "      <th>total_cases_per_million</th>\n",
       "      <th>new_cases_per_million</th>\n",
       "      <th>new_cases_smoothed_per_million</th>\n",
       "      <th>total_deaths_per_million</th>\n",
       "      <th>new_deaths_per_million</th>\n",
       "      <th>new_deaths_smoothed_per_million</th>\n",
       "      <th>reproduction_rate</th>\n",
       "      <th>icu_patients</th>\n",
       "      <th>icu_patients_per_million</th>\n",
       "      <th>hosp_patients</th>\n",
       "      <th>hosp_patients_per_million</th>\n",
       "      <th>weekly_icu_admissions</th>\n",
       "      <th>weekly_icu_admissions_per_million</th>\n",
       "      <th>weekly_hosp_admissions</th>\n",
       "      <th>weekly_hosp_admissions_per_million</th>\n",
       "      <th>new_tests</th>\n",
       "      <th>total_tests</th>\n",
       "      <th>total_tests_per_thousand</th>\n",
       "      <th>new_tests_per_thousand</th>\n",
       "      <th>new_tests_smoothed</th>\n",
       "      <th>new_tests_smoothed_per_thousand</th>\n",
       "      <th>positive_rate</th>\n",
       "      <th>tests_per_case</th>\n",
       "      <th>tests_units</th>\n",
       "      <th>total_vaccinations</th>\n",
       "      <th>people_vaccinated</th>\n",
       "      <th>people_fully_vaccinated</th>\n",
       "      <th>total_boosters</th>\n",
       "      <th>new_vaccinations</th>\n",
       "      <th>new_vaccinations_smoothed</th>\n",
       "      <th>total_vaccinations_per_hundred</th>\n",
       "      <th>people_vaccinated_per_hundred</th>\n",
       "      <th>people_fully_vaccinated_per_hundred</th>\n",
       "      <th>total_boosters_per_hundred</th>\n",
       "      <th>new_vaccinations_smoothed_per_million</th>\n",
       "      <th>stringency_index</th>\n",
       "      <th>population</th>\n",
       "      <th>population_density</th>\n",
       "      <th>median_age</th>\n",
       "      <th>aged_65_older</th>\n",
       "      <th>aged_70_older</th>\n",
       "      <th>gdp_per_capita</th>\n",
       "      <th>extreme_poverty</th>\n",
       "      <th>cardiovasc_death_rate</th>\n",
       "      <th>diabetes_prevalence</th>\n",
       "      <th>female_smokers</th>\n",
       "      <th>male_smokers</th>\n",
       "      <th>handwashing_facilities</th>\n",
       "      <th>hospital_beds_per_thousand</th>\n",
       "      <th>life_expectancy</th>\n",
       "      <th>human_development_index</th>\n",
       "      <th>excess_mortality</th>\n",
       "    </tr>\n",
       "  </thead>\n",
       "  <tbody>\n",
       "    <tr>\n",
       "      <th>0</th>\n",
       "      <td>ITA</td>\n",
       "      <td>Europe</td>\n",
       "      <td>Italy</td>\n",
       "      <td>2020-01-31</td>\n",
       "      <td>2.0</td>\n",
       "      <td>2.0</td>\n",
       "      <td>NaN</td>\n",
       "      <td>NaN</td>\n",
       "      <td>NaN</td>\n",
       "      <td>NaN</td>\n",
       "      <td>0.033</td>\n",
       "      <td>0.033</td>\n",
       "      <td>NaN</td>\n",
       "      <td>NaN</td>\n",
       "      <td>NaN</td>\n",
       "      <td>NaN</td>\n",
       "      <td>NaN</td>\n",
       "      <td>NaN</td>\n",
       "      <td>NaN</td>\n",
       "      <td>NaN</td>\n",
       "      <td>NaN</td>\n",
       "      <td>NaN</td>\n",
       "      <td>NaN</td>\n",
       "      <td>NaN</td>\n",
       "      <td>NaN</td>\n",
       "      <td>NaN</td>\n",
       "      <td>NaN</td>\n",
       "      <td>NaN</td>\n",
       "      <td>NaN</td>\n",
       "      <td>NaN</td>\n",
       "      <td>NaN</td>\n",
       "      <td>NaN</td>\n",
       "      <td>NaN</td>\n",
       "      <td>NaN</td>\n",
       "      <td>NaN</td>\n",
       "      <td>NaN</td>\n",
       "      <td>NaN</td>\n",
       "      <td>NaN</td>\n",
       "      <td>NaN</td>\n",
       "      <td>NaN</td>\n",
       "      <td>NaN</td>\n",
       "      <td>NaN</td>\n",
       "      <td>NaN</td>\n",
       "      <td>NaN</td>\n",
       "      <td>NaN</td>\n",
       "      <td>19.44</td>\n",
       "      <td>60367471.0</td>\n",
       "      <td>205.859</td>\n",
       "      <td>47.9</td>\n",
       "      <td>23.021</td>\n",
       "      <td>16.24</td>\n",
       "      <td>35220.084</td>\n",
       "      <td>2.0</td>\n",
       "      <td>113.151</td>\n",
       "      <td>4.78</td>\n",
       "      <td>19.8</td>\n",
       "      <td>27.8</td>\n",
       "      <td>NaN</td>\n",
       "      <td>3.18</td>\n",
       "      <td>83.51</td>\n",
       "      <td>0.892</td>\n",
       "      <td>NaN</td>\n",
       "    </tr>\n",
       "    <tr>\n",
       "      <th>1</th>\n",
       "      <td>ITA</td>\n",
       "      <td>Europe</td>\n",
       "      <td>Italy</td>\n",
       "      <td>2020-02-01</td>\n",
       "      <td>2.0</td>\n",
       "      <td>0.0</td>\n",
       "      <td>NaN</td>\n",
       "      <td>NaN</td>\n",
       "      <td>NaN</td>\n",
       "      <td>NaN</td>\n",
       "      <td>0.033</td>\n",
       "      <td>0.000</td>\n",
       "      <td>NaN</td>\n",
       "      <td>NaN</td>\n",
       "      <td>NaN</td>\n",
       "      <td>NaN</td>\n",
       "      <td>NaN</td>\n",
       "      <td>NaN</td>\n",
       "      <td>NaN</td>\n",
       "      <td>NaN</td>\n",
       "      <td>NaN</td>\n",
       "      <td>NaN</td>\n",
       "      <td>NaN</td>\n",
       "      <td>NaN</td>\n",
       "      <td>NaN</td>\n",
       "      <td>NaN</td>\n",
       "      <td>NaN</td>\n",
       "      <td>NaN</td>\n",
       "      <td>NaN</td>\n",
       "      <td>NaN</td>\n",
       "      <td>NaN</td>\n",
       "      <td>NaN</td>\n",
       "      <td>NaN</td>\n",
       "      <td>NaN</td>\n",
       "      <td>NaN</td>\n",
       "      <td>NaN</td>\n",
       "      <td>NaN</td>\n",
       "      <td>NaN</td>\n",
       "      <td>NaN</td>\n",
       "      <td>NaN</td>\n",
       "      <td>NaN</td>\n",
       "      <td>NaN</td>\n",
       "      <td>NaN</td>\n",
       "      <td>NaN</td>\n",
       "      <td>NaN</td>\n",
       "      <td>19.44</td>\n",
       "      <td>60367471.0</td>\n",
       "      <td>205.859</td>\n",
       "      <td>47.9</td>\n",
       "      <td>23.021</td>\n",
       "      <td>16.24</td>\n",
       "      <td>35220.084</td>\n",
       "      <td>2.0</td>\n",
       "      <td>113.151</td>\n",
       "      <td>4.78</td>\n",
       "      <td>19.8</td>\n",
       "      <td>27.8</td>\n",
       "      <td>NaN</td>\n",
       "      <td>3.18</td>\n",
       "      <td>83.51</td>\n",
       "      <td>0.892</td>\n",
       "      <td>NaN</td>\n",
       "    </tr>\n",
       "    <tr>\n",
       "      <th>2</th>\n",
       "      <td>ITA</td>\n",
       "      <td>Europe</td>\n",
       "      <td>Italy</td>\n",
       "      <td>2020-02-02</td>\n",
       "      <td>2.0</td>\n",
       "      <td>0.0</td>\n",
       "      <td>NaN</td>\n",
       "      <td>NaN</td>\n",
       "      <td>NaN</td>\n",
       "      <td>NaN</td>\n",
       "      <td>0.033</td>\n",
       "      <td>0.000</td>\n",
       "      <td>NaN</td>\n",
       "      <td>NaN</td>\n",
       "      <td>NaN</td>\n",
       "      <td>NaN</td>\n",
       "      <td>NaN</td>\n",
       "      <td>NaN</td>\n",
       "      <td>NaN</td>\n",
       "      <td>NaN</td>\n",
       "      <td>NaN</td>\n",
       "      <td>NaN</td>\n",
       "      <td>NaN</td>\n",
       "      <td>NaN</td>\n",
       "      <td>NaN</td>\n",
       "      <td>NaN</td>\n",
       "      <td>NaN</td>\n",
       "      <td>NaN</td>\n",
       "      <td>NaN</td>\n",
       "      <td>NaN</td>\n",
       "      <td>NaN</td>\n",
       "      <td>NaN</td>\n",
       "      <td>NaN</td>\n",
       "      <td>NaN</td>\n",
       "      <td>NaN</td>\n",
       "      <td>NaN</td>\n",
       "      <td>NaN</td>\n",
       "      <td>NaN</td>\n",
       "      <td>NaN</td>\n",
       "      <td>NaN</td>\n",
       "      <td>NaN</td>\n",
       "      <td>NaN</td>\n",
       "      <td>NaN</td>\n",
       "      <td>NaN</td>\n",
       "      <td>NaN</td>\n",
       "      <td>19.44</td>\n",
       "      <td>60367471.0</td>\n",
       "      <td>205.859</td>\n",
       "      <td>47.9</td>\n",
       "      <td>23.021</td>\n",
       "      <td>16.24</td>\n",
       "      <td>35220.084</td>\n",
       "      <td>2.0</td>\n",
       "      <td>113.151</td>\n",
       "      <td>4.78</td>\n",
       "      <td>19.8</td>\n",
       "      <td>27.8</td>\n",
       "      <td>NaN</td>\n",
       "      <td>3.18</td>\n",
       "      <td>83.51</td>\n",
       "      <td>0.892</td>\n",
       "      <td>-6.5</td>\n",
       "    </tr>\n",
       "  </tbody>\n",
       "</table>\n",
       "</div>"
      ],
      "text/plain": [
       "  iso_code continent location        date  total_cases  new_cases  new_cases_smoothed  total_deaths  new_deaths  new_deaths_smoothed  total_cases_per_million  new_cases_per_million  new_cases_smoothed_per_million  total_deaths_per_million  new_deaths_per_million  new_deaths_smoothed_per_million  reproduction_rate  icu_patients  icu_patients_per_million  hosp_patients  hosp_patients_per_million  weekly_icu_admissions  weekly_icu_admissions_per_million  weekly_hosp_admissions  weekly_hosp_admissions_per_million  new_tests  total_tests  total_tests_per_thousand  new_tests_per_thousand  new_tests_smoothed  new_tests_smoothed_per_thousand  positive_rate  tests_per_case tests_units  total_vaccinations  people_vaccinated  people_fully_vaccinated  total_boosters  new_vaccinations  new_vaccinations_smoothed  total_vaccinations_per_hundred  people_vaccinated_per_hundred  people_fully_vaccinated_per_hundred  total_boosters_per_hundred  new_vaccinations_smoothed_per_million  stringency_index  \\\n",
       "0      ITA    Europe    Italy  2020-01-31          2.0        2.0                 NaN           NaN         NaN                  NaN                    0.033                  0.033                             NaN                       NaN                     NaN                              NaN                NaN           NaN                       NaN            NaN                        NaN                    NaN                                NaN                     NaN                                 NaN        NaN          NaN                       NaN                     NaN                 NaN                              NaN            NaN             NaN         NaN                 NaN                NaN                      NaN             NaN               NaN                        NaN                             NaN                            NaN                                  NaN                         NaN                                    NaN             19.44   \n",
       "1      ITA    Europe    Italy  2020-02-01          2.0        0.0                 NaN           NaN         NaN                  NaN                    0.033                  0.000                             NaN                       NaN                     NaN                              NaN                NaN           NaN                       NaN            NaN                        NaN                    NaN                                NaN                     NaN                                 NaN        NaN          NaN                       NaN                     NaN                 NaN                              NaN            NaN             NaN         NaN                 NaN                NaN                      NaN             NaN               NaN                        NaN                             NaN                            NaN                                  NaN                         NaN                                    NaN             19.44   \n",
       "2      ITA    Europe    Italy  2020-02-02          2.0        0.0                 NaN           NaN         NaN                  NaN                    0.033                  0.000                             NaN                       NaN                     NaN                              NaN                NaN           NaN                       NaN            NaN                        NaN                    NaN                                NaN                     NaN                                 NaN        NaN          NaN                       NaN                     NaN                 NaN                              NaN            NaN             NaN         NaN                 NaN                NaN                      NaN             NaN               NaN                        NaN                             NaN                            NaN                                  NaN                         NaN                                    NaN             19.44   \n",
       "\n",
       "   population  population_density  median_age  aged_65_older  aged_70_older  gdp_per_capita  extreme_poverty  cardiovasc_death_rate  diabetes_prevalence  female_smokers  male_smokers  handwashing_facilities  hospital_beds_per_thousand  life_expectancy  human_development_index  excess_mortality  \n",
       "0  60367471.0             205.859        47.9         23.021          16.24       35220.084              2.0                113.151                 4.78            19.8          27.8                     NaN                        3.18            83.51                    0.892               NaN  \n",
       "1  60367471.0             205.859        47.9         23.021          16.24       35220.084              2.0                113.151                 4.78            19.8          27.8                     NaN                        3.18            83.51                    0.892               NaN  \n",
       "2  60367471.0             205.859        47.9         23.021          16.24       35220.084              2.0                113.151                 4.78            19.8          27.8                     NaN                        3.18            83.51                    0.892              -6.5  "
      ]
     },
     "execution_count": 56,
     "metadata": {},
     "output_type": "execute_result"
    }
   ],
   "source": [
    "italia = datos_muestra[datos_muestra['location'] == 'Italy']\n",
    "italia = italia.reset_index(drop=True)\n",
    "italia.head(3)"
   ]
  },
  {
   "cell_type": "code",
   "execution_count": 57,
   "metadata": {},
   "outputs": [],
   "source": [
    "italia = italia[['location','date','total_cases']].dropna()"
   ]
  },
  {
   "cell_type": "code",
   "execution_count": 58,
   "metadata": {},
   "outputs": [],
   "source": [
    "casos_principio = italia.total_cases[10:25]\n",
    "dias_principio = np.arange(0,len(casos_principio))"
   ]
  },
  {
   "cell_type": "code",
   "execution_count": 59,
   "metadata": {},
   "outputs": [
    {
     "data": {
      "text/plain": [
       "10      3.0\n",
       "11      3.0\n",
       "12      3.0\n",
       "13      3.0\n",
       "14      3.0\n",
       "15      3.0\n",
       "16      3.0\n",
       "17      3.0\n",
       "18      3.0\n",
       "19      3.0\n",
       "20      3.0\n",
       "21     20.0\n",
       "22     62.0\n",
       "23    155.0\n",
       "24    229.0\n",
       "Name: total_cases, dtype: float64"
      ]
     },
     "execution_count": 59,
     "metadata": {},
     "output_type": "execute_result"
    }
   ],
   "source": [
    "casos_principio"
   ]
  },
  {
   "cell_type": "code",
   "execution_count": 60,
   "metadata": {},
   "outputs": [
    {
     "data": {
      "text/plain": [
       "array([0.64055398, 5.44844854])"
      ]
     },
     "execution_count": 60,
     "metadata": {},
     "output_type": "execute_result"
    }
   ],
   "source": [
    "# Ajustamos\n",
    "popt_italia, pcov_italia = curve_fit(exponencial, dias_principio, casos_principio)\n",
    "popt_italia # Valor de k"
   ]
  },
  {
   "cell_type": "code",
   "execution_count": 61,
   "metadata": {},
   "outputs": [
    {
     "data": {
      "text/plain": [
       "[<matplotlib.lines.Line2D at 0x7fe286244f10>]"
      ]
     },
     "execution_count": 61,
     "metadata": {},
     "output_type": "execute_result"
    },
    {
     "data": {
      "image/png": "[encoded data removed]",
      "text/plain": [
       "<Figure size 432x288 with 1 Axes>"
      ]
     },
     "metadata": {
      "needs_background": "light"
     },
     "output_type": "display_data"
    }
   ],
   "source": [
    "k=popt_italia[0]\n",
    "t0=popt_italia[1]\n",
    "casos_simu=exponencial(dias_principio,k,t0)\n",
    "plt.plot(dias_principio,casos_principio,'.')\n",
    "plt.plot(dias_principio,casos_simu)"
   ]
  },
  {
   "cell_type": "code",
   "execution_count": 62,
   "metadata": {},
   "outputs": [
    {
     "data": {
      "text/plain": [
       "Text(0, 0.5, 'cantidad de casos')"
      ]
     },
     "execution_count": 62,
     "metadata": {},
     "output_type": "execute_result"
    },
    {
     "data": {
      "image/png": "[encoded data removed]",
      "text/plain": [
       "<Figure size 432x288 with 1 Axes>"
      ]
     },
     "metadata": {
      "needs_background": "light"
     },
     "output_type": "display_data"
    }
   ],
   "source": [
    "ind_italia=np.where(paises=='Italy')\n",
    "ind_italia=ind_italia[0]\n",
    "casos_italia=confirmados[ind_italia]\n",
    "dias=np.arange(0,len(casos_italia))\n",
    "plt.plot(dias,casos_italia)\n",
    "plt.xlabel('dias')\n",
    "plt.ylabel('cantidad de casos')"
   ]
  },
  {
   "cell_type": "markdown",
   "metadata": {},
   "source": [
    "### 4. Peru"
   ]
  },
  {
   "cell_type": "code",
   "execution_count": 63,
   "metadata": {},
   "outputs": [
    {
     "data": {
      "text/html": [
       "<div>\n",
       "<style scoped>\n",
       "    .dataframe tbody tr th:only-of-type {\n",
       "        vertical-align: middle;\n",
       "    }\n",
       "\n",
       "    .dataframe tbody tr th {\n",
       "        vertical-align: top;\n",
       "    }\n",
       "\n",
       "    .dataframe thead th {\n",
       "        text-align: right;\n",
       "    }\n",
       "</style>\n",
       "<table border=\"1\" class=\"dataframe\">\n",
       "  <thead>\n",
       "    <tr style=\"text-align: right;\">\n",
       "      <th></th>\n",
       "      <th>iso_code</th>\n",
       "      <th>continent</th>\n",
       "      <th>location</th>\n",
       "      <th>date</th>\n",
       "      <th>total_cases</th>\n",
       "      <th>new_cases</th>\n",
       "      <th>new_cases_smoothed</th>\n",
       "      <th>total_deaths</th>\n",
       "      <th>new_deaths</th>\n",
       "      <th>new_deaths_smoothed</th>\n",
       "      <th>total_cases_per_million</th>\n",
       "      <th>new_cases_per_million</th>\n",
       "      <th>new_cases_smoothed_per_million</th>\n",
       "      <th>total_deaths_per_million</th>\n",
       "      <th>new_deaths_per_million</th>\n",
       "      <th>new_deaths_smoothed_per_million</th>\n",
       "      <th>reproduction_rate</th>\n",
       "      <th>icu_patients</th>\n",
       "      <th>icu_patients_per_million</th>\n",
       "      <th>hosp_patients</th>\n",
       "      <th>hosp_patients_per_million</th>\n",
       "      <th>weekly_icu_admissions</th>\n",
       "      <th>weekly_icu_admissions_per_million</th>\n",
       "      <th>weekly_hosp_admissions</th>\n",
       "      <th>weekly_hosp_admissions_per_million</th>\n",
       "      <th>new_tests</th>\n",
       "      <th>total_tests</th>\n",
       "      <th>total_tests_per_thousand</th>\n",
       "      <th>new_tests_per_thousand</th>\n",
       "      <th>new_tests_smoothed</th>\n",
       "      <th>new_tests_smoothed_per_thousand</th>\n",
       "      <th>positive_rate</th>\n",
       "      <th>tests_per_case</th>\n",
       "      <th>tests_units</th>\n",
       "      <th>total_vaccinations</th>\n",
       "      <th>people_vaccinated</th>\n",
       "      <th>people_fully_vaccinated</th>\n",
       "      <th>total_boosters</th>\n",
       "      <th>new_vaccinations</th>\n",
       "      <th>new_vaccinations_smoothed</th>\n",
       "      <th>total_vaccinations_per_hundred</th>\n",
       "      <th>people_vaccinated_per_hundred</th>\n",
       "      <th>people_fully_vaccinated_per_hundred</th>\n",
       "      <th>total_boosters_per_hundred</th>\n",
       "      <th>new_vaccinations_smoothed_per_million</th>\n",
       "      <th>stringency_index</th>\n",
       "      <th>population</th>\n",
       "      <th>population_density</th>\n",
       "      <th>median_age</th>\n",
       "      <th>aged_65_older</th>\n",
       "      <th>aged_70_older</th>\n",
       "      <th>gdp_per_capita</th>\n",
       "      <th>extreme_poverty</th>\n",
       "      <th>cardiovasc_death_rate</th>\n",
       "      <th>diabetes_prevalence</th>\n",
       "      <th>female_smokers</th>\n",
       "      <th>male_smokers</th>\n",
       "      <th>handwashing_facilities</th>\n",
       "      <th>hospital_beds_per_thousand</th>\n",
       "      <th>life_expectancy</th>\n",
       "      <th>human_development_index</th>\n",
       "      <th>excess_mortality</th>\n",
       "    </tr>\n",
       "  </thead>\n",
       "  <tbody>\n",
       "    <tr>\n",
       "      <th>0</th>\n",
       "      <td>PER</td>\n",
       "      <td>South America</td>\n",
       "      <td>Peru</td>\n",
       "      <td>2020-01-01</td>\n",
       "      <td>NaN</td>\n",
       "      <td>NaN</td>\n",
       "      <td>NaN</td>\n",
       "      <td>NaN</td>\n",
       "      <td>NaN</td>\n",
       "      <td>NaN</td>\n",
       "      <td>NaN</td>\n",
       "      <td>NaN</td>\n",
       "      <td>NaN</td>\n",
       "      <td>NaN</td>\n",
       "      <td>NaN</td>\n",
       "      <td>NaN</td>\n",
       "      <td>NaN</td>\n",
       "      <td>NaN</td>\n",
       "      <td>NaN</td>\n",
       "      <td>NaN</td>\n",
       "      <td>NaN</td>\n",
       "      <td>NaN</td>\n",
       "      <td>NaN</td>\n",
       "      <td>NaN</td>\n",
       "      <td>NaN</td>\n",
       "      <td>2.0</td>\n",
       "      <td>2.0</td>\n",
       "      <td>0.0</td>\n",
       "      <td>0.0</td>\n",
       "      <td>NaN</td>\n",
       "      <td>NaN</td>\n",
       "      <td>NaN</td>\n",
       "      <td>NaN</td>\n",
       "      <td>tests performed</td>\n",
       "      <td>NaN</td>\n",
       "      <td>NaN</td>\n",
       "      <td>NaN</td>\n",
       "      <td>NaN</td>\n",
       "      <td>NaN</td>\n",
       "      <td>NaN</td>\n",
       "      <td>NaN</td>\n",
       "      <td>NaN</td>\n",
       "      <td>NaN</td>\n",
       "      <td>NaN</td>\n",
       "      <td>NaN</td>\n",
       "      <td>0.0</td>\n",
       "      <td>33359415.0</td>\n",
       "      <td>25.129</td>\n",
       "      <td>29.1</td>\n",
       "      <td>7.151</td>\n",
       "      <td>4.455</td>\n",
       "      <td>12236.706</td>\n",
       "      <td>3.5</td>\n",
       "      <td>85.755</td>\n",
       "      <td>5.95</td>\n",
       "      <td>4.8</td>\n",
       "      <td>NaN</td>\n",
       "      <td>NaN</td>\n",
       "      <td>1.6</td>\n",
       "      <td>76.74</td>\n",
       "      <td>0.777</td>\n",
       "      <td>NaN</td>\n",
       "    </tr>\n",
       "    <tr>\n",
       "      <th>1</th>\n",
       "      <td>PER</td>\n",
       "      <td>South America</td>\n",
       "      <td>Peru</td>\n",
       "      <td>2020-01-02</td>\n",
       "      <td>NaN</td>\n",
       "      <td>NaN</td>\n",
       "      <td>NaN</td>\n",
       "      <td>NaN</td>\n",
       "      <td>NaN</td>\n",
       "      <td>NaN</td>\n",
       "      <td>NaN</td>\n",
       "      <td>NaN</td>\n",
       "      <td>NaN</td>\n",
       "      <td>NaN</td>\n",
       "      <td>NaN</td>\n",
       "      <td>NaN</td>\n",
       "      <td>NaN</td>\n",
       "      <td>NaN</td>\n",
       "      <td>NaN</td>\n",
       "      <td>NaN</td>\n",
       "      <td>NaN</td>\n",
       "      <td>NaN</td>\n",
       "      <td>NaN</td>\n",
       "      <td>NaN</td>\n",
       "      <td>NaN</td>\n",
       "      <td>NaN</td>\n",
       "      <td>NaN</td>\n",
       "      <td>NaN</td>\n",
       "      <td>NaN</td>\n",
       "      <td>NaN</td>\n",
       "      <td>NaN</td>\n",
       "      <td>NaN</td>\n",
       "      <td>NaN</td>\n",
       "      <td>tests performed</td>\n",
       "      <td>NaN</td>\n",
       "      <td>NaN</td>\n",
       "      <td>NaN</td>\n",
       "      <td>NaN</td>\n",
       "      <td>NaN</td>\n",
       "      <td>NaN</td>\n",
       "      <td>NaN</td>\n",
       "      <td>NaN</td>\n",
       "      <td>NaN</td>\n",
       "      <td>NaN</td>\n",
       "      <td>NaN</td>\n",
       "      <td>0.0</td>\n",
       "      <td>33359415.0</td>\n",
       "      <td>25.129</td>\n",
       "      <td>29.1</td>\n",
       "      <td>7.151</td>\n",
       "      <td>4.455</td>\n",
       "      <td>12236.706</td>\n",
       "      <td>3.5</td>\n",
       "      <td>85.755</td>\n",
       "      <td>5.95</td>\n",
       "      <td>4.8</td>\n",
       "      <td>NaN</td>\n",
       "      <td>NaN</td>\n",
       "      <td>1.6</td>\n",
       "      <td>76.74</td>\n",
       "      <td>0.777</td>\n",
       "      <td>NaN</td>\n",
       "    </tr>\n",
       "    <tr>\n",
       "      <th>2</th>\n",
       "      <td>PER</td>\n",
       "      <td>South America</td>\n",
       "      <td>Peru</td>\n",
       "      <td>2020-01-03</td>\n",
       "      <td>NaN</td>\n",
       "      <td>NaN</td>\n",
       "      <td>NaN</td>\n",
       "      <td>NaN</td>\n",
       "      <td>NaN</td>\n",
       "      <td>NaN</td>\n",
       "      <td>NaN</td>\n",
       "      <td>NaN</td>\n",
       "      <td>NaN</td>\n",
       "      <td>NaN</td>\n",
       "      <td>NaN</td>\n",
       "      <td>NaN</td>\n",
       "      <td>NaN</td>\n",
       "      <td>NaN</td>\n",
       "      <td>NaN</td>\n",
       "      <td>NaN</td>\n",
       "      <td>NaN</td>\n",
       "      <td>NaN</td>\n",
       "      <td>NaN</td>\n",
       "      <td>NaN</td>\n",
       "      <td>NaN</td>\n",
       "      <td>1.0</td>\n",
       "      <td>3.0</td>\n",
       "      <td>0.0</td>\n",
       "      <td>0.0</td>\n",
       "      <td>NaN</td>\n",
       "      <td>NaN</td>\n",
       "      <td>NaN</td>\n",
       "      <td>NaN</td>\n",
       "      <td>tests performed</td>\n",
       "      <td>NaN</td>\n",
       "      <td>NaN</td>\n",
       "      <td>NaN</td>\n",
       "      <td>NaN</td>\n",
       "      <td>NaN</td>\n",
       "      <td>NaN</td>\n",
       "      <td>NaN</td>\n",
       "      <td>NaN</td>\n",
       "      <td>NaN</td>\n",
       "      <td>NaN</td>\n",
       "      <td>NaN</td>\n",
       "      <td>0.0</td>\n",
       "      <td>33359415.0</td>\n",
       "      <td>25.129</td>\n",
       "      <td>29.1</td>\n",
       "      <td>7.151</td>\n",
       "      <td>4.455</td>\n",
       "      <td>12236.706</td>\n",
       "      <td>3.5</td>\n",
       "      <td>85.755</td>\n",
       "      <td>5.95</td>\n",
       "      <td>4.8</td>\n",
       "      <td>NaN</td>\n",
       "      <td>NaN</td>\n",
       "      <td>1.6</td>\n",
       "      <td>76.74</td>\n",
       "      <td>0.777</td>\n",
       "      <td>NaN</td>\n",
       "    </tr>\n",
       "  </tbody>\n",
       "</table>\n",
       "</div>"
      ],
      "text/plain": [
       "  iso_code      continent location        date  total_cases  new_cases  new_cases_smoothed  total_deaths  new_deaths  new_deaths_smoothed  total_cases_per_million  new_cases_per_million  new_cases_smoothed_per_million  total_deaths_per_million  new_deaths_per_million  new_deaths_smoothed_per_million  reproduction_rate  icu_patients  icu_patients_per_million  hosp_patients  hosp_patients_per_million  weekly_icu_admissions  weekly_icu_admissions_per_million  weekly_hosp_admissions  weekly_hosp_admissions_per_million  new_tests  total_tests  total_tests_per_thousand  new_tests_per_thousand  new_tests_smoothed  new_tests_smoothed_per_thousand  positive_rate  tests_per_case      tests_units  total_vaccinations  people_vaccinated  people_fully_vaccinated  total_boosters  new_vaccinations  new_vaccinations_smoothed  total_vaccinations_per_hundred  people_vaccinated_per_hundred  people_fully_vaccinated_per_hundred  total_boosters_per_hundred  new_vaccinations_smoothed_per_million  \\\n",
       "0      PER  South America     Peru  2020-01-01          NaN        NaN                 NaN           NaN         NaN                  NaN                      NaN                    NaN                             NaN                       NaN                     NaN                              NaN                NaN           NaN                       NaN            NaN                        NaN                    NaN                                NaN                     NaN                                 NaN        2.0          2.0                       0.0                     0.0                 NaN                              NaN            NaN             NaN  tests performed                 NaN                NaN                      NaN             NaN               NaN                        NaN                             NaN                            NaN                                  NaN                         NaN                                    NaN   \n",
       "1      PER  South America     Peru  2020-01-02          NaN        NaN                 NaN           NaN         NaN                  NaN                      NaN                    NaN                             NaN                       NaN                     NaN                              NaN                NaN           NaN                       NaN            NaN                        NaN                    NaN                                NaN                     NaN                                 NaN        NaN          NaN                       NaN                     NaN                 NaN                              NaN            NaN             NaN  tests performed                 NaN                NaN                      NaN             NaN               NaN                        NaN                             NaN                            NaN                                  NaN                         NaN                                    NaN   \n",
       "2      PER  South America     Peru  2020-01-03          NaN        NaN                 NaN           NaN         NaN                  NaN                      NaN                    NaN                             NaN                       NaN                     NaN                              NaN                NaN           NaN                       NaN            NaN                        NaN                    NaN                                NaN                     NaN                                 NaN        1.0          3.0                       0.0                     0.0                 NaN                              NaN            NaN             NaN  tests performed                 NaN                NaN                      NaN             NaN               NaN                        NaN                             NaN                            NaN                                  NaN                         NaN                                    NaN   \n",
       "\n",
       "   stringency_index  population  population_density  median_age  aged_65_older  aged_70_older  gdp_per_capita  extreme_poverty  cardiovasc_death_rate  diabetes_prevalence  female_smokers  male_smokers  handwashing_facilities  hospital_beds_per_thousand  life_expectancy  human_development_index  excess_mortality  \n",
       "0               0.0  33359415.0              25.129        29.1          7.151          4.455       12236.706              3.5                 85.755                 5.95             4.8           NaN                     NaN                         1.6            76.74                    0.777               NaN  \n",
       "1               0.0  33359415.0              25.129        29.1          7.151          4.455       12236.706              3.5                 85.755                 5.95             4.8           NaN                     NaN                         1.6            76.74                    0.777               NaN  \n",
       "2               0.0  33359415.0              25.129        29.1          7.151          4.455       12236.706              3.5                 85.755                 5.95             4.8           NaN                     NaN                         1.6            76.74                    0.777               NaN  "
      ]
     },
     "execution_count": 63,
     "metadata": {},
     "output_type": "execute_result"
    }
   ],
   "source": [
    "peru = datos_muestra[datos_muestra['location'] == 'Peru']\n",
    "peru = peru.reset_index(drop=True)\n",
    "peru.head(3)"
   ]
  },
  {
   "cell_type": "code",
   "execution_count": 64,
   "metadata": {},
   "outputs": [],
   "source": [
    "peru = peru[['location','date','total_cases']].dropna()"
   ]
  },
  {
   "cell_type": "code",
   "execution_count": 65,
   "metadata": {},
   "outputs": [],
   "source": [
    "casos_principio = peru.total_cases[10:25]\n",
    "dias_principio = np.arange(0,len(casos_principio))"
   ]
  },
  {
   "cell_type": "code",
   "execution_count": 66,
   "metadata": {},
   "outputs": [
    {
     "data": {
      "text/plain": [
       "75     86.0\n",
       "76    117.0\n",
       "77    145.0\n",
       "78    234.0\n",
       "79    234.0\n",
       "80    318.0\n",
       "81    363.0\n",
       "82    395.0\n",
       "83    416.0\n",
       "84    480.0\n",
       "85    580.0\n",
       "86    635.0\n",
       "87    671.0\n",
       "88    852.0\n",
       "89    950.0\n",
       "Name: total_cases, dtype: float64"
      ]
     },
     "execution_count": 66,
     "metadata": {},
     "output_type": "execute_result"
    }
   ],
   "source": [
    "casos_principio"
   ]
  },
  {
   "cell_type": "code",
   "execution_count": 68,
   "metadata": {},
   "outputs": [
    {
     "data": {
      "text/plain": [
       "array([  0.13662899, -36.21721652])"
      ]
     },
     "execution_count": 68,
     "metadata": {},
     "output_type": "execute_result"
    }
   ],
   "source": [
    "# Ajustamos\n",
    "popt_peru, pcov_peru = curve_fit(exponencial, dias_principio, casos_principio)\n",
    "popt_peru # Valor de k"
   ]
  },
  {
   "cell_type": "code",
   "execution_count": 69,
   "metadata": {},
   "outputs": [
    {
     "data": {
      "text/plain": [
       "[<matplotlib.lines.Line2D at 0x7fe2865904c0>]"
      ]
     },
     "execution_count": 69,
     "metadata": {},
     "output_type": "execute_result"
    },
    {
     "data": {
      "image/png": "[encoded data removed]",
      "text/plain": [
       "<Figure size 432x288 with 1 Axes>"
      ]
     },
     "metadata": {
      "needs_background": "light"
     },
     "output_type": "display_data"
    }
   ],
   "source": [
    "k=popt_peru[0]\n",
    "t0=popt_peru[1]\n",
    "casos_simu=exponencial(dias_principio,k,t0)\n",
    "plt.plot(dias_principio,casos_principio,'.')\n",
    "plt.plot(dias_principio,casos_simu)"
   ]
  },
  {
   "cell_type": "code",
   "execution_count": 70,
   "metadata": {},
   "outputs": [
    {
     "data": {
      "text/plain": [
       "Text(0, 0.5, 'cantidad de casos')"
      ]
     },
     "execution_count": 70,
     "metadata": {},
     "output_type": "execute_result"
    },
    {
     "data": {
      "image/png": "[encoded data removed]",
      "text/plain": [
       "<Figure size 432x288 with 1 Axes>"
      ]
     },
     "metadata": {
      "needs_background": "light"
     },
     "output_type": "display_data"
    }
   ],
   "source": [
    "ind_peru=np.where(paises=='Peru')\n",
    "ind_peru=ind_peru[0]\n",
    "casos_peru=confirmados[ind_peru]\n",
    "dias=np.arange(0,len(casos_peru))\n",
    "plt.plot(dias,casos_peru)\n",
    "plt.xlabel('dias')\n",
    "plt.ylabel('cantidad de casos')"
   ]
  },
  {
   "cell_type": "markdown",
   "metadata": {},
   "source": [
    "### 5. Mexico"
   ]
  },
  {
   "cell_type": "code",
   "execution_count": 71,
   "metadata": {},
   "outputs": [
    {
     "data": {
      "text/html": [
       "<div>\n",
       "<style scoped>\n",
       "    .dataframe tbody tr th:only-of-type {\n",
       "        vertical-align: middle;\n",
       "    }\n",
       "\n",
       "    .dataframe tbody tr th {\n",
       "        vertical-align: top;\n",
       "    }\n",
       "\n",
       "    .dataframe thead th {\n",
       "        text-align: right;\n",
       "    }\n",
       "</style>\n",
       "<table border=\"1\" class=\"dataframe\">\n",
       "  <thead>\n",
       "    <tr style=\"text-align: right;\">\n",
       "      <th></th>\n",
       "      <th>iso_code</th>\n",
       "      <th>continent</th>\n",
       "      <th>location</th>\n",
       "      <th>date</th>\n",
       "      <th>total_cases</th>\n",
       "      <th>new_cases</th>\n",
       "      <th>new_cases_smoothed</th>\n",
       "      <th>total_deaths</th>\n",
       "      <th>new_deaths</th>\n",
       "      <th>new_deaths_smoothed</th>\n",
       "      <th>total_cases_per_million</th>\n",
       "      <th>new_cases_per_million</th>\n",
       "      <th>new_cases_smoothed_per_million</th>\n",
       "      <th>total_deaths_per_million</th>\n",
       "      <th>new_deaths_per_million</th>\n",
       "      <th>new_deaths_smoothed_per_million</th>\n",
       "      <th>reproduction_rate</th>\n",
       "      <th>icu_patients</th>\n",
       "      <th>icu_patients_per_million</th>\n",
       "      <th>hosp_patients</th>\n",
       "      <th>hosp_patients_per_million</th>\n",
       "      <th>weekly_icu_admissions</th>\n",
       "      <th>weekly_icu_admissions_per_million</th>\n",
       "      <th>weekly_hosp_admissions</th>\n",
       "      <th>weekly_hosp_admissions_per_million</th>\n",
       "      <th>new_tests</th>\n",
       "      <th>total_tests</th>\n",
       "      <th>total_tests_per_thousand</th>\n",
       "      <th>new_tests_per_thousand</th>\n",
       "      <th>new_tests_smoothed</th>\n",
       "      <th>new_tests_smoothed_per_thousand</th>\n",
       "      <th>positive_rate</th>\n",
       "      <th>tests_per_case</th>\n",
       "      <th>tests_units</th>\n",
       "      <th>total_vaccinations</th>\n",
       "      <th>people_vaccinated</th>\n",
       "      <th>people_fully_vaccinated</th>\n",
       "      <th>total_boosters</th>\n",
       "      <th>new_vaccinations</th>\n",
       "      <th>new_vaccinations_smoothed</th>\n",
       "      <th>total_vaccinations_per_hundred</th>\n",
       "      <th>people_vaccinated_per_hundred</th>\n",
       "      <th>people_fully_vaccinated_per_hundred</th>\n",
       "      <th>total_boosters_per_hundred</th>\n",
       "      <th>new_vaccinations_smoothed_per_million</th>\n",
       "      <th>stringency_index</th>\n",
       "      <th>population</th>\n",
       "      <th>population_density</th>\n",
       "      <th>median_age</th>\n",
       "      <th>aged_65_older</th>\n",
       "      <th>aged_70_older</th>\n",
       "      <th>gdp_per_capita</th>\n",
       "      <th>extreme_poverty</th>\n",
       "      <th>cardiovasc_death_rate</th>\n",
       "      <th>diabetes_prevalence</th>\n",
       "      <th>female_smokers</th>\n",
       "      <th>male_smokers</th>\n",
       "      <th>handwashing_facilities</th>\n",
       "      <th>hospital_beds_per_thousand</th>\n",
       "      <th>life_expectancy</th>\n",
       "      <th>human_development_index</th>\n",
       "      <th>excess_mortality</th>\n",
       "    </tr>\n",
       "  </thead>\n",
       "  <tbody>\n",
       "    <tr>\n",
       "      <th>0</th>\n",
       "      <td>MEX</td>\n",
       "      <td>North America</td>\n",
       "      <td>Mexico</td>\n",
       "      <td>2020-01-01</td>\n",
       "      <td>NaN</td>\n",
       "      <td>NaN</td>\n",
       "      <td>NaN</td>\n",
       "      <td>NaN</td>\n",
       "      <td>NaN</td>\n",
       "      <td>NaN</td>\n",
       "      <td>NaN</td>\n",
       "      <td>NaN</td>\n",
       "      <td>NaN</td>\n",
       "      <td>NaN</td>\n",
       "      <td>NaN</td>\n",
       "      <td>NaN</td>\n",
       "      <td>NaN</td>\n",
       "      <td>NaN</td>\n",
       "      <td>NaN</td>\n",
       "      <td>NaN</td>\n",
       "      <td>NaN</td>\n",
       "      <td>NaN</td>\n",
       "      <td>NaN</td>\n",
       "      <td>NaN</td>\n",
       "      <td>NaN</td>\n",
       "      <td>25.0</td>\n",
       "      <td>25.0</td>\n",
       "      <td>0.000</td>\n",
       "      <td>0.000</td>\n",
       "      <td>NaN</td>\n",
       "      <td>NaN</td>\n",
       "      <td>NaN</td>\n",
       "      <td>NaN</td>\n",
       "      <td>people tested</td>\n",
       "      <td>NaN</td>\n",
       "      <td>NaN</td>\n",
       "      <td>NaN</td>\n",
       "      <td>NaN</td>\n",
       "      <td>NaN</td>\n",
       "      <td>NaN</td>\n",
       "      <td>NaN</td>\n",
       "      <td>NaN</td>\n",
       "      <td>NaN</td>\n",
       "      <td>NaN</td>\n",
       "      <td>NaN</td>\n",
       "      <td>0.0</td>\n",
       "      <td>130262220.0</td>\n",
       "      <td>66.444</td>\n",
       "      <td>29.3</td>\n",
       "      <td>6.857</td>\n",
       "      <td>4.321</td>\n",
       "      <td>17336.469</td>\n",
       "      <td>2.5</td>\n",
       "      <td>152.783</td>\n",
       "      <td>13.06</td>\n",
       "      <td>6.9</td>\n",
       "      <td>21.4</td>\n",
       "      <td>87.847</td>\n",
       "      <td>1.38</td>\n",
       "      <td>75.05</td>\n",
       "      <td>0.779</td>\n",
       "      <td>NaN</td>\n",
       "    </tr>\n",
       "    <tr>\n",
       "      <th>1</th>\n",
       "      <td>MEX</td>\n",
       "      <td>North America</td>\n",
       "      <td>Mexico</td>\n",
       "      <td>2020-01-02</td>\n",
       "      <td>NaN</td>\n",
       "      <td>NaN</td>\n",
       "      <td>NaN</td>\n",
       "      <td>NaN</td>\n",
       "      <td>NaN</td>\n",
       "      <td>NaN</td>\n",
       "      <td>NaN</td>\n",
       "      <td>NaN</td>\n",
       "      <td>NaN</td>\n",
       "      <td>NaN</td>\n",
       "      <td>NaN</td>\n",
       "      <td>NaN</td>\n",
       "      <td>NaN</td>\n",
       "      <td>NaN</td>\n",
       "      <td>NaN</td>\n",
       "      <td>NaN</td>\n",
       "      <td>NaN</td>\n",
       "      <td>NaN</td>\n",
       "      <td>NaN</td>\n",
       "      <td>NaN</td>\n",
       "      <td>NaN</td>\n",
       "      <td>72.0</td>\n",
       "      <td>97.0</td>\n",
       "      <td>0.001</td>\n",
       "      <td>0.001</td>\n",
       "      <td>NaN</td>\n",
       "      <td>NaN</td>\n",
       "      <td>NaN</td>\n",
       "      <td>NaN</td>\n",
       "      <td>people tested</td>\n",
       "      <td>NaN</td>\n",
       "      <td>NaN</td>\n",
       "      <td>NaN</td>\n",
       "      <td>NaN</td>\n",
       "      <td>NaN</td>\n",
       "      <td>NaN</td>\n",
       "      <td>NaN</td>\n",
       "      <td>NaN</td>\n",
       "      <td>NaN</td>\n",
       "      <td>NaN</td>\n",
       "      <td>NaN</td>\n",
       "      <td>0.0</td>\n",
       "      <td>130262220.0</td>\n",
       "      <td>66.444</td>\n",
       "      <td>29.3</td>\n",
       "      <td>6.857</td>\n",
       "      <td>4.321</td>\n",
       "      <td>17336.469</td>\n",
       "      <td>2.5</td>\n",
       "      <td>152.783</td>\n",
       "      <td>13.06</td>\n",
       "      <td>6.9</td>\n",
       "      <td>21.4</td>\n",
       "      <td>87.847</td>\n",
       "      <td>1.38</td>\n",
       "      <td>75.05</td>\n",
       "      <td>0.779</td>\n",
       "      <td>NaN</td>\n",
       "    </tr>\n",
       "    <tr>\n",
       "      <th>2</th>\n",
       "      <td>MEX</td>\n",
       "      <td>North America</td>\n",
       "      <td>Mexico</td>\n",
       "      <td>2020-01-03</td>\n",
       "      <td>NaN</td>\n",
       "      <td>NaN</td>\n",
       "      <td>NaN</td>\n",
       "      <td>NaN</td>\n",
       "      <td>NaN</td>\n",
       "      <td>NaN</td>\n",
       "      <td>NaN</td>\n",
       "      <td>NaN</td>\n",
       "      <td>NaN</td>\n",
       "      <td>NaN</td>\n",
       "      <td>NaN</td>\n",
       "      <td>NaN</td>\n",
       "      <td>NaN</td>\n",
       "      <td>NaN</td>\n",
       "      <td>NaN</td>\n",
       "      <td>NaN</td>\n",
       "      <td>NaN</td>\n",
       "      <td>NaN</td>\n",
       "      <td>NaN</td>\n",
       "      <td>NaN</td>\n",
       "      <td>NaN</td>\n",
       "      <td>89.0</td>\n",
       "      <td>186.0</td>\n",
       "      <td>0.001</td>\n",
       "      <td>0.001</td>\n",
       "      <td>NaN</td>\n",
       "      <td>NaN</td>\n",
       "      <td>NaN</td>\n",
       "      <td>NaN</td>\n",
       "      <td>people tested</td>\n",
       "      <td>NaN</td>\n",
       "      <td>NaN</td>\n",
       "      <td>NaN</td>\n",
       "      <td>NaN</td>\n",
       "      <td>NaN</td>\n",
       "      <td>NaN</td>\n",
       "      <td>NaN</td>\n",
       "      <td>NaN</td>\n",
       "      <td>NaN</td>\n",
       "      <td>NaN</td>\n",
       "      <td>NaN</td>\n",
       "      <td>0.0</td>\n",
       "      <td>130262220.0</td>\n",
       "      <td>66.444</td>\n",
       "      <td>29.3</td>\n",
       "      <td>6.857</td>\n",
       "      <td>4.321</td>\n",
       "      <td>17336.469</td>\n",
       "      <td>2.5</td>\n",
       "      <td>152.783</td>\n",
       "      <td>13.06</td>\n",
       "      <td>6.9</td>\n",
       "      <td>21.4</td>\n",
       "      <td>87.847</td>\n",
       "      <td>1.38</td>\n",
       "      <td>75.05</td>\n",
       "      <td>0.779</td>\n",
       "      <td>NaN</td>\n",
       "    </tr>\n",
       "  </tbody>\n",
       "</table>\n",
       "</div>"
      ],
      "text/plain": [
       "  iso_code      continent location        date  total_cases  new_cases  new_cases_smoothed  total_deaths  new_deaths  new_deaths_smoothed  total_cases_per_million  new_cases_per_million  new_cases_smoothed_per_million  total_deaths_per_million  new_deaths_per_million  new_deaths_smoothed_per_million  reproduction_rate  icu_patients  icu_patients_per_million  hosp_patients  hosp_patients_per_million  weekly_icu_admissions  weekly_icu_admissions_per_million  weekly_hosp_admissions  weekly_hosp_admissions_per_million  new_tests  total_tests  total_tests_per_thousand  new_tests_per_thousand  new_tests_smoothed  new_tests_smoothed_per_thousand  positive_rate  tests_per_case    tests_units  total_vaccinations  people_vaccinated  people_fully_vaccinated  total_boosters  new_vaccinations  new_vaccinations_smoothed  total_vaccinations_per_hundred  people_vaccinated_per_hundred  people_fully_vaccinated_per_hundred  total_boosters_per_hundred  new_vaccinations_smoothed_per_million  \\\n",
       "0      MEX  North America   Mexico  2020-01-01          NaN        NaN                 NaN           NaN         NaN                  NaN                      NaN                    NaN                             NaN                       NaN                     NaN                              NaN                NaN           NaN                       NaN            NaN                        NaN                    NaN                                NaN                     NaN                                 NaN       25.0         25.0                     0.000                   0.000                 NaN                              NaN            NaN             NaN  people tested                 NaN                NaN                      NaN             NaN               NaN                        NaN                             NaN                            NaN                                  NaN                         NaN                                    NaN   \n",
       "1      MEX  North America   Mexico  2020-01-02          NaN        NaN                 NaN           NaN         NaN                  NaN                      NaN                    NaN                             NaN                       NaN                     NaN                              NaN                NaN           NaN                       NaN            NaN                        NaN                    NaN                                NaN                     NaN                                 NaN       72.0         97.0                     0.001                   0.001                 NaN                              NaN            NaN             NaN  people tested                 NaN                NaN                      NaN             NaN               NaN                        NaN                             NaN                            NaN                                  NaN                         NaN                                    NaN   \n",
       "2      MEX  North America   Mexico  2020-01-03          NaN        NaN                 NaN           NaN         NaN                  NaN                      NaN                    NaN                             NaN                       NaN                     NaN                              NaN                NaN           NaN                       NaN            NaN                        NaN                    NaN                                NaN                     NaN                                 NaN       89.0        186.0                     0.001                   0.001                 NaN                              NaN            NaN             NaN  people tested                 NaN                NaN                      NaN             NaN               NaN                        NaN                             NaN                            NaN                                  NaN                         NaN                                    NaN   \n",
       "\n",
       "   stringency_index   population  population_density  median_age  aged_65_older  aged_70_older  gdp_per_capita  extreme_poverty  cardiovasc_death_rate  diabetes_prevalence  female_smokers  male_smokers  handwashing_facilities  hospital_beds_per_thousand  life_expectancy  human_development_index  excess_mortality  \n",
       "0               0.0  130262220.0              66.444        29.3          6.857          4.321       17336.469              2.5                152.783                13.06             6.9          21.4                  87.847                        1.38            75.05                    0.779               NaN  \n",
       "1               0.0  130262220.0              66.444        29.3          6.857          4.321       17336.469              2.5                152.783                13.06             6.9          21.4                  87.847                        1.38            75.05                    0.779               NaN  \n",
       "2               0.0  130262220.0              66.444        29.3          6.857          4.321       17336.469              2.5                152.783                13.06             6.9          21.4                  87.847                        1.38            75.05                    0.779               NaN  "
      ]
     },
     "execution_count": 71,
     "metadata": {},
     "output_type": "execute_result"
    }
   ],
   "source": [
    "mexico = datos_muestra[datos_muestra['location'] == 'Mexico']\n",
    "mexico = mexico.reset_index(drop=True)\n",
    "mexico.head(3)"
   ]
  },
  {
   "cell_type": "code",
   "execution_count": 72,
   "metadata": {},
   "outputs": [],
   "source": [
    "mexico = mexico[['location','date','total_cases']].dropna()"
   ]
  },
  {
   "cell_type": "code",
   "execution_count": 73,
   "metadata": {},
   "outputs": [],
   "source": [
    "casos_principio = mexico.total_cases[10:25]\n",
    "dias_principio = np.arange(0,len(casos_principio))"
   ]
  },
  {
   "cell_type": "code",
   "execution_count": 74,
   "metadata": {},
   "outputs": [
    {
     "data": {
      "text/plain": [
       "68      7.0\n",
       "69      7.0\n",
       "70      8.0\n",
       "71     12.0\n",
       "72     26.0\n",
       "73     41.0\n",
       "74     53.0\n",
       "75     82.0\n",
       "76     93.0\n",
       "77    118.0\n",
       "78    164.0\n",
       "79    203.0\n",
       "80    251.0\n",
       "81    316.0\n",
       "82    367.0\n",
       "Name: total_cases, dtype: float64"
      ]
     },
     "execution_count": 74,
     "metadata": {},
     "output_type": "execute_result"
    }
   ],
   "source": [
    "casos_principio"
   ]
  },
  {
   "cell_type": "code",
   "execution_count": 75,
   "metadata": {},
   "outputs": [
    {
     "data": {
      "text/plain": [
       "array([  0.23428827, -11.42455277])"
      ]
     },
     "execution_count": 75,
     "metadata": {},
     "output_type": "execute_result"
    }
   ],
   "source": [
    "# Ajustamos\n",
    "popt_mexico, pcov_mexico = curve_fit(exponencial, dias_principio, casos_principio)\n",
    "popt_mexico # Valor de k"
   ]
  },
  {
   "cell_type": "code",
   "execution_count": 76,
   "metadata": {},
   "outputs": [
    {
     "data": {
      "text/plain": [
       "[<matplotlib.lines.Line2D at 0x7fe2867ca190>]"
      ]
     },
     "execution_count": 76,
     "metadata": {},
     "output_type": "execute_result"
    },
    {
     "data": {
      "image/png": "[encoded data removed]",
      "text/plain": [
       "<Figure size 432x288 with 1 Axes>"
      ]
     },
     "metadata": {
      "needs_background": "light"
     },
     "output_type": "display_data"
    }
   ],
   "source": [
    "k=popt_mexico[0]\n",
    "t0=popt_mexico[1]\n",
    "casos_simu=exponencial(dias_principio,k,t0)\n",
    "plt.plot(dias_principio,casos_principio,'.')\n",
    "plt.plot(dias_principio,casos_simu)"
   ]
  },
  {
   "cell_type": "code",
   "execution_count": 77,
   "metadata": {},
   "outputs": [
    {
     "data": {
      "text/plain": [
       "Text(0, 0.5, 'cantidad de casos')"
      ]
     },
     "execution_count": 77,
     "metadata": {},
     "output_type": "execute_result"
    },
    {
     "data": {
      "image/png": "[encoded data removed]",
      "text/plain": [
       "<Figure size 432x288 with 1 Axes>"
      ]
     },
     "metadata": {
      "needs_background": "light"
     },
     "output_type": "display_data"
    }
   ],
   "source": [
    "ind_mexico=np.where(paises=='Mexico')\n",
    "ind_mexico=ind_mexico[0]\n",
    "casos_mexico=confirmados[ind_mexico]\n",
    "dias=np.arange(0,len(casos_mexico))\n",
    "plt.plot(dias,casos_mexico)\n",
    "plt.xlabel('dias')\n",
    "plt.ylabel('cantidad de casos')"
   ]
  },
  {
   "cell_type": "markdown",
   "metadata": {},
   "source": [
    "### 6. Reino Unido"
   ]
  },
  {
   "cell_type": "code",
   "execution_count": 78,
   "metadata": {},
   "outputs": [
    {
     "data": {
      "text/html": [
       "<div>\n",
       "<style scoped>\n",
       "    .dataframe tbody tr th:only-of-type {\n",
       "        vertical-align: middle;\n",
       "    }\n",
       "\n",
       "    .dataframe tbody tr th {\n",
       "        vertical-align: top;\n",
       "    }\n",
       "\n",
       "    .dataframe thead th {\n",
       "        text-align: right;\n",
       "    }\n",
       "</style>\n",
       "<table border=\"1\" class=\"dataframe\">\n",
       "  <thead>\n",
       "    <tr style=\"text-align: right;\">\n",
       "      <th></th>\n",
       "      <th>iso_code</th>\n",
       "      <th>continent</th>\n",
       "      <th>location</th>\n",
       "      <th>date</th>\n",
       "      <th>total_cases</th>\n",
       "      <th>new_cases</th>\n",
       "      <th>new_cases_smoothed</th>\n",
       "      <th>total_deaths</th>\n",
       "      <th>new_deaths</th>\n",
       "      <th>new_deaths_smoothed</th>\n",
       "      <th>total_cases_per_million</th>\n",
       "      <th>new_cases_per_million</th>\n",
       "      <th>new_cases_smoothed_per_million</th>\n",
       "      <th>total_deaths_per_million</th>\n",
       "      <th>new_deaths_per_million</th>\n",
       "      <th>new_deaths_smoothed_per_million</th>\n",
       "      <th>reproduction_rate</th>\n",
       "      <th>icu_patients</th>\n",
       "      <th>icu_patients_per_million</th>\n",
       "      <th>hosp_patients</th>\n",
       "      <th>hosp_patients_per_million</th>\n",
       "      <th>weekly_icu_admissions</th>\n",
       "      <th>weekly_icu_admissions_per_million</th>\n",
       "      <th>weekly_hosp_admissions</th>\n",
       "      <th>weekly_hosp_admissions_per_million</th>\n",
       "      <th>new_tests</th>\n",
       "      <th>total_tests</th>\n",
       "      <th>total_tests_per_thousand</th>\n",
       "      <th>new_tests_per_thousand</th>\n",
       "      <th>new_tests_smoothed</th>\n",
       "      <th>new_tests_smoothed_per_thousand</th>\n",
       "      <th>positive_rate</th>\n",
       "      <th>tests_per_case</th>\n",
       "      <th>tests_units</th>\n",
       "      <th>total_vaccinations</th>\n",
       "      <th>people_vaccinated</th>\n",
       "      <th>people_fully_vaccinated</th>\n",
       "      <th>total_boosters</th>\n",
       "      <th>new_vaccinations</th>\n",
       "      <th>new_vaccinations_smoothed</th>\n",
       "      <th>total_vaccinations_per_hundred</th>\n",
       "      <th>people_vaccinated_per_hundred</th>\n",
       "      <th>people_fully_vaccinated_per_hundred</th>\n",
       "      <th>total_boosters_per_hundred</th>\n",
       "      <th>new_vaccinations_smoothed_per_million</th>\n",
       "      <th>stringency_index</th>\n",
       "      <th>population</th>\n",
       "      <th>population_density</th>\n",
       "      <th>median_age</th>\n",
       "      <th>aged_65_older</th>\n",
       "      <th>aged_70_older</th>\n",
       "      <th>gdp_per_capita</th>\n",
       "      <th>extreme_poverty</th>\n",
       "      <th>cardiovasc_death_rate</th>\n",
       "      <th>diabetes_prevalence</th>\n",
       "      <th>female_smokers</th>\n",
       "      <th>male_smokers</th>\n",
       "      <th>handwashing_facilities</th>\n",
       "      <th>hospital_beds_per_thousand</th>\n",
       "      <th>life_expectancy</th>\n",
       "      <th>human_development_index</th>\n",
       "      <th>excess_mortality</th>\n",
       "    </tr>\n",
       "  </thead>\n",
       "  <tbody>\n",
       "    <tr>\n",
       "      <th>0</th>\n",
       "      <td>GBR</td>\n",
       "      <td>Europe</td>\n",
       "      <td>United Kingdom</td>\n",
       "      <td>2020-01-31</td>\n",
       "      <td>2.0</td>\n",
       "      <td>2.0</td>\n",
       "      <td>NaN</td>\n",
       "      <td>NaN</td>\n",
       "      <td>NaN</td>\n",
       "      <td>NaN</td>\n",
       "      <td>0.029</td>\n",
       "      <td>0.029</td>\n",
       "      <td>NaN</td>\n",
       "      <td>NaN</td>\n",
       "      <td>NaN</td>\n",
       "      <td>NaN</td>\n",
       "      <td>NaN</td>\n",
       "      <td>NaN</td>\n",
       "      <td>NaN</td>\n",
       "      <td>NaN</td>\n",
       "      <td>NaN</td>\n",
       "      <td>NaN</td>\n",
       "      <td>NaN</td>\n",
       "      <td>NaN</td>\n",
       "      <td>NaN</td>\n",
       "      <td>NaN</td>\n",
       "      <td>NaN</td>\n",
       "      <td>NaN</td>\n",
       "      <td>NaN</td>\n",
       "      <td>NaN</td>\n",
       "      <td>NaN</td>\n",
       "      <td>NaN</td>\n",
       "      <td>NaN</td>\n",
       "      <td>NaN</td>\n",
       "      <td>NaN</td>\n",
       "      <td>NaN</td>\n",
       "      <td>NaN</td>\n",
       "      <td>NaN</td>\n",
       "      <td>NaN</td>\n",
       "      <td>NaN</td>\n",
       "      <td>NaN</td>\n",
       "      <td>NaN</td>\n",
       "      <td>NaN</td>\n",
       "      <td>NaN</td>\n",
       "      <td>NaN</td>\n",
       "      <td>8.33</td>\n",
       "      <td>68207114.0</td>\n",
       "      <td>272.898</td>\n",
       "      <td>40.8</td>\n",
       "      <td>18.517</td>\n",
       "      <td>12.527</td>\n",
       "      <td>39753.244</td>\n",
       "      <td>0.2</td>\n",
       "      <td>122.137</td>\n",
       "      <td>4.28</td>\n",
       "      <td>20.0</td>\n",
       "      <td>24.7</td>\n",
       "      <td>NaN</td>\n",
       "      <td>2.54</td>\n",
       "      <td>81.32</td>\n",
       "      <td>0.932</td>\n",
       "      <td>NaN</td>\n",
       "    </tr>\n",
       "    <tr>\n",
       "      <th>1</th>\n",
       "      <td>GBR</td>\n",
       "      <td>Europe</td>\n",
       "      <td>United Kingdom</td>\n",
       "      <td>2020-02-01</td>\n",
       "      <td>2.0</td>\n",
       "      <td>0.0</td>\n",
       "      <td>NaN</td>\n",
       "      <td>NaN</td>\n",
       "      <td>NaN</td>\n",
       "      <td>NaN</td>\n",
       "      <td>0.029</td>\n",
       "      <td>0.000</td>\n",
       "      <td>NaN</td>\n",
       "      <td>NaN</td>\n",
       "      <td>NaN</td>\n",
       "      <td>NaN</td>\n",
       "      <td>NaN</td>\n",
       "      <td>NaN</td>\n",
       "      <td>NaN</td>\n",
       "      <td>NaN</td>\n",
       "      <td>NaN</td>\n",
       "      <td>NaN</td>\n",
       "      <td>NaN</td>\n",
       "      <td>NaN</td>\n",
       "      <td>NaN</td>\n",
       "      <td>NaN</td>\n",
       "      <td>NaN</td>\n",
       "      <td>NaN</td>\n",
       "      <td>NaN</td>\n",
       "      <td>NaN</td>\n",
       "      <td>NaN</td>\n",
       "      <td>NaN</td>\n",
       "      <td>NaN</td>\n",
       "      <td>NaN</td>\n",
       "      <td>NaN</td>\n",
       "      <td>NaN</td>\n",
       "      <td>NaN</td>\n",
       "      <td>NaN</td>\n",
       "      <td>NaN</td>\n",
       "      <td>NaN</td>\n",
       "      <td>NaN</td>\n",
       "      <td>NaN</td>\n",
       "      <td>NaN</td>\n",
       "      <td>NaN</td>\n",
       "      <td>NaN</td>\n",
       "      <td>8.33</td>\n",
       "      <td>68207114.0</td>\n",
       "      <td>272.898</td>\n",
       "      <td>40.8</td>\n",
       "      <td>18.517</td>\n",
       "      <td>12.527</td>\n",
       "      <td>39753.244</td>\n",
       "      <td>0.2</td>\n",
       "      <td>122.137</td>\n",
       "      <td>4.28</td>\n",
       "      <td>20.0</td>\n",
       "      <td>24.7</td>\n",
       "      <td>NaN</td>\n",
       "      <td>2.54</td>\n",
       "      <td>81.32</td>\n",
       "      <td>0.932</td>\n",
       "      <td>NaN</td>\n",
       "    </tr>\n",
       "    <tr>\n",
       "      <th>2</th>\n",
       "      <td>GBR</td>\n",
       "      <td>Europe</td>\n",
       "      <td>United Kingdom</td>\n",
       "      <td>2020-02-02</td>\n",
       "      <td>2.0</td>\n",
       "      <td>0.0</td>\n",
       "      <td>NaN</td>\n",
       "      <td>NaN</td>\n",
       "      <td>NaN</td>\n",
       "      <td>NaN</td>\n",
       "      <td>0.029</td>\n",
       "      <td>0.000</td>\n",
       "      <td>NaN</td>\n",
       "      <td>NaN</td>\n",
       "      <td>NaN</td>\n",
       "      <td>NaN</td>\n",
       "      <td>NaN</td>\n",
       "      <td>NaN</td>\n",
       "      <td>NaN</td>\n",
       "      <td>NaN</td>\n",
       "      <td>NaN</td>\n",
       "      <td>NaN</td>\n",
       "      <td>NaN</td>\n",
       "      <td>NaN</td>\n",
       "      <td>NaN</td>\n",
       "      <td>NaN</td>\n",
       "      <td>NaN</td>\n",
       "      <td>NaN</td>\n",
       "      <td>NaN</td>\n",
       "      <td>NaN</td>\n",
       "      <td>NaN</td>\n",
       "      <td>NaN</td>\n",
       "      <td>NaN</td>\n",
       "      <td>NaN</td>\n",
       "      <td>NaN</td>\n",
       "      <td>NaN</td>\n",
       "      <td>NaN</td>\n",
       "      <td>NaN</td>\n",
       "      <td>NaN</td>\n",
       "      <td>NaN</td>\n",
       "      <td>NaN</td>\n",
       "      <td>NaN</td>\n",
       "      <td>NaN</td>\n",
       "      <td>NaN</td>\n",
       "      <td>NaN</td>\n",
       "      <td>11.11</td>\n",
       "      <td>68207114.0</td>\n",
       "      <td>272.898</td>\n",
       "      <td>40.8</td>\n",
       "      <td>18.517</td>\n",
       "      <td>12.527</td>\n",
       "      <td>39753.244</td>\n",
       "      <td>0.2</td>\n",
       "      <td>122.137</td>\n",
       "      <td>4.28</td>\n",
       "      <td>20.0</td>\n",
       "      <td>24.7</td>\n",
       "      <td>NaN</td>\n",
       "      <td>2.54</td>\n",
       "      <td>81.32</td>\n",
       "      <td>0.932</td>\n",
       "      <td>-5.15</td>\n",
       "    </tr>\n",
       "  </tbody>\n",
       "</table>\n",
       "</div>"
      ],
      "text/plain": [
       "  iso_code continent        location        date  total_cases  new_cases  new_cases_smoothed  total_deaths  new_deaths  new_deaths_smoothed  total_cases_per_million  new_cases_per_million  new_cases_smoothed_per_million  total_deaths_per_million  new_deaths_per_million  new_deaths_smoothed_per_million  reproduction_rate  icu_patients  icu_patients_per_million  hosp_patients  hosp_patients_per_million  weekly_icu_admissions  weekly_icu_admissions_per_million  weekly_hosp_admissions  weekly_hosp_admissions_per_million  new_tests  total_tests  total_tests_per_thousand  new_tests_per_thousand  new_tests_smoothed  new_tests_smoothed_per_thousand  positive_rate  tests_per_case tests_units  total_vaccinations  people_vaccinated  people_fully_vaccinated  total_boosters  new_vaccinations  new_vaccinations_smoothed  total_vaccinations_per_hundred  people_vaccinated_per_hundred  people_fully_vaccinated_per_hundred  total_boosters_per_hundred  new_vaccinations_smoothed_per_million  \\\n",
       "0      GBR    Europe  United Kingdom  2020-01-31          2.0        2.0                 NaN           NaN         NaN                  NaN                    0.029                  0.029                             NaN                       NaN                     NaN                              NaN                NaN           NaN                       NaN            NaN                        NaN                    NaN                                NaN                     NaN                                 NaN        NaN          NaN                       NaN                     NaN                 NaN                              NaN            NaN             NaN         NaN                 NaN                NaN                      NaN             NaN               NaN                        NaN                             NaN                            NaN                                  NaN                         NaN                                    NaN   \n",
       "1      GBR    Europe  United Kingdom  2020-02-01          2.0        0.0                 NaN           NaN         NaN                  NaN                    0.029                  0.000                             NaN                       NaN                     NaN                              NaN                NaN           NaN                       NaN            NaN                        NaN                    NaN                                NaN                     NaN                                 NaN        NaN          NaN                       NaN                     NaN                 NaN                              NaN            NaN             NaN         NaN                 NaN                NaN                      NaN             NaN               NaN                        NaN                             NaN                            NaN                                  NaN                         NaN                                    NaN   \n",
       "2      GBR    Europe  United Kingdom  2020-02-02          2.0        0.0                 NaN           NaN         NaN                  NaN                    0.029                  0.000                             NaN                       NaN                     NaN                              NaN                NaN           NaN                       NaN            NaN                        NaN                    NaN                                NaN                     NaN                                 NaN        NaN          NaN                       NaN                     NaN                 NaN                              NaN            NaN             NaN         NaN                 NaN                NaN                      NaN             NaN               NaN                        NaN                             NaN                            NaN                                  NaN                         NaN                                    NaN   \n",
       "\n",
       "   stringency_index  population  population_density  median_age  aged_65_older  aged_70_older  gdp_per_capita  extreme_poverty  cardiovasc_death_rate  diabetes_prevalence  female_smokers  male_smokers  handwashing_facilities  hospital_beds_per_thousand  life_expectancy  human_development_index  excess_mortality  \n",
       "0              8.33  68207114.0             272.898        40.8         18.517         12.527       39753.244              0.2                122.137                 4.28            20.0          24.7                     NaN                        2.54            81.32                    0.932               NaN  \n",
       "1              8.33  68207114.0             272.898        40.8         18.517         12.527       39753.244              0.2                122.137                 4.28            20.0          24.7                     NaN                        2.54            81.32                    0.932               NaN  \n",
       "2             11.11  68207114.0             272.898        40.8         18.517         12.527       39753.244              0.2                122.137                 4.28            20.0          24.7                     NaN                        2.54            81.32                    0.932             -5.15  "
      ]
     },
     "execution_count": 78,
     "metadata": {},
     "output_type": "execute_result"
    }
   ],
   "source": [
    "reinoUnido = datos_muestra[datos_muestra['location'] == 'United Kingdom']\n",
    "reinoUnido = reinoUnido.reset_index(drop=True)\n",
    "reinoUnido.head(3)"
   ]
  },
  {
   "cell_type": "code",
   "execution_count": 79,
   "metadata": {},
   "outputs": [],
   "source": [
    "reinoUnido = reinoUnido[['location','date','total_cases']].dropna()"
   ]
  },
  {
   "cell_type": "code",
   "execution_count": 80,
   "metadata": {},
   "outputs": [],
   "source": [
    "casos_principio = reinoUnido.total_cases[10:25]\n",
    "dias_principio = np.arange(0,len(casos_principio))"
   ]
  },
  {
   "cell_type": "code",
   "execution_count": 81,
   "metadata": {},
   "outputs": [
    {
     "data": {
      "text/plain": [
       "10    14.0\n",
       "11    15.0\n",
       "12    16.0\n",
       "13    17.0\n",
       "14    18.0\n",
       "15    18.0\n",
       "16    18.0\n",
       "17    19.0\n",
       "18    19.0\n",
       "19    20.0\n",
       "20    22.0\n",
       "21    23.0\n",
       "22    23.0\n",
       "23    28.0\n",
       "24    30.0\n",
       "Name: total_cases, dtype: float64"
      ]
     },
     "execution_count": 81,
     "metadata": {},
     "output_type": "execute_result"
    }
   ],
   "source": [
    "casos_principio"
   ]
  },
  {
   "cell_type": "code",
   "execution_count": 83,
   "metadata": {},
   "outputs": [
    {
     "data": {
      "text/plain": [
       "array([ 4.96539184e-02, -5.28549751e+01])"
      ]
     },
     "execution_count": 83,
     "metadata": {},
     "output_type": "execute_result"
    }
   ],
   "source": [
    "# Ajustamos\n",
    "popt_reinoUnido, pcov_reinoUnido = curve_fit(exponencial, dias_principio, casos_principio)\n",
    "popt_reinoUnido # Valor de k"
   ]
  },
  {
   "cell_type": "code",
   "execution_count": 84,
   "metadata": {},
   "outputs": [
    {
     "data": {
      "text/plain": [
       "[<matplotlib.lines.Line2D at 0x7fe286a1f070>]"
      ]
     },
     "execution_count": 84,
     "metadata": {},
     "output_type": "execute_result"
    },
    {
     "data": {
      "image/png": "[encoded data removed]",
      "text/plain": [
       "<Figure size 432x288 with 1 Axes>"
      ]
     },
     "metadata": {
      "needs_background": "light"
     },
     "output_type": "display_data"
    }
   ],
   "source": [
    "k=popt_reinoUnido[0]\n",
    "t0=popt_reinoUnido[1]\n",
    "casos_simu=exponencial(dias_principio,k,t0)\n",
    "plt.plot(dias_principio,casos_principio,'.')\n",
    "plt.plot(dias_principio,casos_simu)"
   ]
  },
  {
   "cell_type": "code",
   "execution_count": 85,
   "metadata": {},
   "outputs": [
    {
     "data": {
      "text/plain": [
       "Text(0, 0.5, 'cantidad de casos')"
      ]
     },
     "execution_count": 85,
     "metadata": {},
     "output_type": "execute_result"
    },
    {
     "data": {
      "image/png": "[encoded data removed]",
      "text/plain": [
       "<Figure size 432x288 with 1 Axes>"
      ]
     },
     "metadata": {
      "needs_background": "light"
     },
     "output_type": "display_data"
    }
   ],
   "source": [
    "ind_reinoUnido=np.where(paises=='United Kingdom')\n",
    "ind_reinoUnido=ind_reinoUnido[0]\n",
    "casos_reinoUnido=confirmados[ind_reinoUnido]\n",
    "dias=np.arange(0,len(casos_reinoUnido))\n",
    "plt.plot(dias,casos_reinoUnido)\n",
    "plt.xlabel('dias')\n",
    "plt.ylabel('cantidad de casos')"
   ]
  },
  {
   "cell_type": "markdown",
   "metadata": {},
   "source": [
    "### 7. Sudafrica"
   ]
  },
  {
   "cell_type": "code",
   "execution_count": 86,
   "metadata": {},
   "outputs": [
    {
     "data": {
      "text/html": [
       "<div>\n",
       "<style scoped>\n",
       "    .dataframe tbody tr th:only-of-type {\n",
       "        vertical-align: middle;\n",
       "    }\n",
       "\n",
       "    .dataframe tbody tr th {\n",
       "        vertical-align: top;\n",
       "    }\n",
       "\n",
       "    .dataframe thead th {\n",
       "        text-align: right;\n",
       "    }\n",
       "</style>\n",
       "<table border=\"1\" class=\"dataframe\">\n",
       "  <thead>\n",
       "    <tr style=\"text-align: right;\">\n",
       "      <th></th>\n",
       "      <th>iso_code</th>\n",
       "      <th>continent</th>\n",
       "      <th>location</th>\n",
       "      <th>date</th>\n",
       "      <th>total_cases</th>\n",
       "      <th>new_cases</th>\n",
       "      <th>new_cases_smoothed</th>\n",
       "      <th>total_deaths</th>\n",
       "      <th>new_deaths</th>\n",
       "      <th>new_deaths_smoothed</th>\n",
       "      <th>total_cases_per_million</th>\n",
       "      <th>new_cases_per_million</th>\n",
       "      <th>new_cases_smoothed_per_million</th>\n",
       "      <th>total_deaths_per_million</th>\n",
       "      <th>new_deaths_per_million</th>\n",
       "      <th>new_deaths_smoothed_per_million</th>\n",
       "      <th>reproduction_rate</th>\n",
       "      <th>icu_patients</th>\n",
       "      <th>icu_patients_per_million</th>\n",
       "      <th>hosp_patients</th>\n",
       "      <th>hosp_patients_per_million</th>\n",
       "      <th>weekly_icu_admissions</th>\n",
       "      <th>weekly_icu_admissions_per_million</th>\n",
       "      <th>weekly_hosp_admissions</th>\n",
       "      <th>weekly_hosp_admissions_per_million</th>\n",
       "      <th>new_tests</th>\n",
       "      <th>total_tests</th>\n",
       "      <th>total_tests_per_thousand</th>\n",
       "      <th>new_tests_per_thousand</th>\n",
       "      <th>new_tests_smoothed</th>\n",
       "      <th>new_tests_smoothed_per_thousand</th>\n",
       "      <th>positive_rate</th>\n",
       "      <th>tests_per_case</th>\n",
       "      <th>tests_units</th>\n",
       "      <th>total_vaccinations</th>\n",
       "      <th>people_vaccinated</th>\n",
       "      <th>people_fully_vaccinated</th>\n",
       "      <th>total_boosters</th>\n",
       "      <th>new_vaccinations</th>\n",
       "      <th>new_vaccinations_smoothed</th>\n",
       "      <th>total_vaccinations_per_hundred</th>\n",
       "      <th>people_vaccinated_per_hundred</th>\n",
       "      <th>people_fully_vaccinated_per_hundred</th>\n",
       "      <th>total_boosters_per_hundred</th>\n",
       "      <th>new_vaccinations_smoothed_per_million</th>\n",
       "      <th>stringency_index</th>\n",
       "      <th>population</th>\n",
       "      <th>population_density</th>\n",
       "      <th>median_age</th>\n",
       "      <th>aged_65_older</th>\n",
       "      <th>aged_70_older</th>\n",
       "      <th>gdp_per_capita</th>\n",
       "      <th>extreme_poverty</th>\n",
       "      <th>cardiovasc_death_rate</th>\n",
       "      <th>diabetes_prevalence</th>\n",
       "      <th>female_smokers</th>\n",
       "      <th>male_smokers</th>\n",
       "      <th>handwashing_facilities</th>\n",
       "      <th>hospital_beds_per_thousand</th>\n",
       "      <th>life_expectancy</th>\n",
       "      <th>human_development_index</th>\n",
       "      <th>excess_mortality</th>\n",
       "    </tr>\n",
       "  </thead>\n",
       "  <tbody>\n",
       "    <tr>\n",
       "      <th>0</th>\n",
       "      <td>ZAF</td>\n",
       "      <td>Africa</td>\n",
       "      <td>South Africa</td>\n",
       "      <td>2020-02-07</td>\n",
       "      <td>NaN</td>\n",
       "      <td>NaN</td>\n",
       "      <td>NaN</td>\n",
       "      <td>NaN</td>\n",
       "      <td>NaN</td>\n",
       "      <td>NaN</td>\n",
       "      <td>NaN</td>\n",
       "      <td>NaN</td>\n",
       "      <td>NaN</td>\n",
       "      <td>NaN</td>\n",
       "      <td>NaN</td>\n",
       "      <td>NaN</td>\n",
       "      <td>NaN</td>\n",
       "      <td>NaN</td>\n",
       "      <td>NaN</td>\n",
       "      <td>NaN</td>\n",
       "      <td>NaN</td>\n",
       "      <td>NaN</td>\n",
       "      <td>NaN</td>\n",
       "      <td>NaN</td>\n",
       "      <td>NaN</td>\n",
       "      <td>NaN</td>\n",
       "      <td>42.0</td>\n",
       "      <td>0.001</td>\n",
       "      <td>NaN</td>\n",
       "      <td>NaN</td>\n",
       "      <td>NaN</td>\n",
       "      <td>NaN</td>\n",
       "      <td>NaN</td>\n",
       "      <td>people tested</td>\n",
       "      <td>NaN</td>\n",
       "      <td>NaN</td>\n",
       "      <td>NaN</td>\n",
       "      <td>NaN</td>\n",
       "      <td>NaN</td>\n",
       "      <td>NaN</td>\n",
       "      <td>NaN</td>\n",
       "      <td>NaN</td>\n",
       "      <td>NaN</td>\n",
       "      <td>NaN</td>\n",
       "      <td>NaN</td>\n",
       "      <td>2.78</td>\n",
       "      <td>60041996.0</td>\n",
       "      <td>46.754</td>\n",
       "      <td>27.3</td>\n",
       "      <td>5.344</td>\n",
       "      <td>3.053</td>\n",
       "      <td>12294.876</td>\n",
       "      <td>18.9</td>\n",
       "      <td>200.38</td>\n",
       "      <td>5.52</td>\n",
       "      <td>8.1</td>\n",
       "      <td>33.2</td>\n",
       "      <td>43.993</td>\n",
       "      <td>2.32</td>\n",
       "      <td>64.13</td>\n",
       "      <td>0.709</td>\n",
       "      <td>NaN</td>\n",
       "    </tr>\n",
       "    <tr>\n",
       "      <th>1</th>\n",
       "      <td>ZAF</td>\n",
       "      <td>Africa</td>\n",
       "      <td>South Africa</td>\n",
       "      <td>2020-02-08</td>\n",
       "      <td>NaN</td>\n",
       "      <td>NaN</td>\n",
       "      <td>NaN</td>\n",
       "      <td>NaN</td>\n",
       "      <td>NaN</td>\n",
       "      <td>NaN</td>\n",
       "      <td>NaN</td>\n",
       "      <td>NaN</td>\n",
       "      <td>NaN</td>\n",
       "      <td>NaN</td>\n",
       "      <td>NaN</td>\n",
       "      <td>NaN</td>\n",
       "      <td>NaN</td>\n",
       "      <td>NaN</td>\n",
       "      <td>NaN</td>\n",
       "      <td>NaN</td>\n",
       "      <td>NaN</td>\n",
       "      <td>NaN</td>\n",
       "      <td>NaN</td>\n",
       "      <td>NaN</td>\n",
       "      <td>NaN</td>\n",
       "      <td>NaN</td>\n",
       "      <td>NaN</td>\n",
       "      <td>NaN</td>\n",
       "      <td>NaN</td>\n",
       "      <td>NaN</td>\n",
       "      <td>NaN</td>\n",
       "      <td>NaN</td>\n",
       "      <td>NaN</td>\n",
       "      <td>people tested</td>\n",
       "      <td>NaN</td>\n",
       "      <td>NaN</td>\n",
       "      <td>NaN</td>\n",
       "      <td>NaN</td>\n",
       "      <td>NaN</td>\n",
       "      <td>NaN</td>\n",
       "      <td>NaN</td>\n",
       "      <td>NaN</td>\n",
       "      <td>NaN</td>\n",
       "      <td>NaN</td>\n",
       "      <td>NaN</td>\n",
       "      <td>2.78</td>\n",
       "      <td>60041996.0</td>\n",
       "      <td>46.754</td>\n",
       "      <td>27.3</td>\n",
       "      <td>5.344</td>\n",
       "      <td>3.053</td>\n",
       "      <td>12294.876</td>\n",
       "      <td>18.9</td>\n",
       "      <td>200.38</td>\n",
       "      <td>5.52</td>\n",
       "      <td>8.1</td>\n",
       "      <td>33.2</td>\n",
       "      <td>43.993</td>\n",
       "      <td>2.32</td>\n",
       "      <td>64.13</td>\n",
       "      <td>0.709</td>\n",
       "      <td>NaN</td>\n",
       "    </tr>\n",
       "    <tr>\n",
       "      <th>2</th>\n",
       "      <td>ZAF</td>\n",
       "      <td>Africa</td>\n",
       "      <td>South Africa</td>\n",
       "      <td>2020-02-09</td>\n",
       "      <td>NaN</td>\n",
       "      <td>NaN</td>\n",
       "      <td>NaN</td>\n",
       "      <td>NaN</td>\n",
       "      <td>NaN</td>\n",
       "      <td>NaN</td>\n",
       "      <td>NaN</td>\n",
       "      <td>NaN</td>\n",
       "      <td>NaN</td>\n",
       "      <td>NaN</td>\n",
       "      <td>NaN</td>\n",
       "      <td>NaN</td>\n",
       "      <td>NaN</td>\n",
       "      <td>NaN</td>\n",
       "      <td>NaN</td>\n",
       "      <td>NaN</td>\n",
       "      <td>NaN</td>\n",
       "      <td>NaN</td>\n",
       "      <td>NaN</td>\n",
       "      <td>NaN</td>\n",
       "      <td>NaN</td>\n",
       "      <td>NaN</td>\n",
       "      <td>NaN</td>\n",
       "      <td>NaN</td>\n",
       "      <td>NaN</td>\n",
       "      <td>NaN</td>\n",
       "      <td>NaN</td>\n",
       "      <td>NaN</td>\n",
       "      <td>NaN</td>\n",
       "      <td>people tested</td>\n",
       "      <td>NaN</td>\n",
       "      <td>NaN</td>\n",
       "      <td>NaN</td>\n",
       "      <td>NaN</td>\n",
       "      <td>NaN</td>\n",
       "      <td>NaN</td>\n",
       "      <td>NaN</td>\n",
       "      <td>NaN</td>\n",
       "      <td>NaN</td>\n",
       "      <td>NaN</td>\n",
       "      <td>NaN</td>\n",
       "      <td>2.78</td>\n",
       "      <td>60041996.0</td>\n",
       "      <td>46.754</td>\n",
       "      <td>27.3</td>\n",
       "      <td>5.344</td>\n",
       "      <td>3.053</td>\n",
       "      <td>12294.876</td>\n",
       "      <td>18.9</td>\n",
       "      <td>200.38</td>\n",
       "      <td>5.52</td>\n",
       "      <td>8.1</td>\n",
       "      <td>33.2</td>\n",
       "      <td>43.993</td>\n",
       "      <td>2.32</td>\n",
       "      <td>64.13</td>\n",
       "      <td>0.709</td>\n",
       "      <td>NaN</td>\n",
       "    </tr>\n",
       "  </tbody>\n",
       "</table>\n",
       "</div>"
      ],
      "text/plain": [
       "  iso_code continent      location        date  total_cases  new_cases  new_cases_smoothed  total_deaths  new_deaths  new_deaths_smoothed  total_cases_per_million  new_cases_per_million  new_cases_smoothed_per_million  total_deaths_per_million  new_deaths_per_million  new_deaths_smoothed_per_million  reproduction_rate  icu_patients  icu_patients_per_million  hosp_patients  hosp_patients_per_million  weekly_icu_admissions  weekly_icu_admissions_per_million  weekly_hosp_admissions  weekly_hosp_admissions_per_million  new_tests  total_tests  total_tests_per_thousand  new_tests_per_thousand  new_tests_smoothed  new_tests_smoothed_per_thousand  positive_rate  tests_per_case    tests_units  total_vaccinations  people_vaccinated  people_fully_vaccinated  total_boosters  new_vaccinations  new_vaccinations_smoothed  total_vaccinations_per_hundred  people_vaccinated_per_hundred  people_fully_vaccinated_per_hundred  total_boosters_per_hundred  new_vaccinations_smoothed_per_million  \\\n",
       "0      ZAF    Africa  South Africa  2020-02-07          NaN        NaN                 NaN           NaN         NaN                  NaN                      NaN                    NaN                             NaN                       NaN                     NaN                              NaN                NaN           NaN                       NaN            NaN                        NaN                    NaN                                NaN                     NaN                                 NaN        NaN         42.0                     0.001                     NaN                 NaN                              NaN            NaN             NaN  people tested                 NaN                NaN                      NaN             NaN               NaN                        NaN                             NaN                            NaN                                  NaN                         NaN                                    NaN   \n",
       "1      ZAF    Africa  South Africa  2020-02-08          NaN        NaN                 NaN           NaN         NaN                  NaN                      NaN                    NaN                             NaN                       NaN                     NaN                              NaN                NaN           NaN                       NaN            NaN                        NaN                    NaN                                NaN                     NaN                                 NaN        NaN          NaN                       NaN                     NaN                 NaN                              NaN            NaN             NaN  people tested                 NaN                NaN                      NaN             NaN               NaN                        NaN                             NaN                            NaN                                  NaN                         NaN                                    NaN   \n",
       "2      ZAF    Africa  South Africa  2020-02-09          NaN        NaN                 NaN           NaN         NaN                  NaN                      NaN                    NaN                             NaN                       NaN                     NaN                              NaN                NaN           NaN                       NaN            NaN                        NaN                    NaN                                NaN                     NaN                                 NaN        NaN          NaN                       NaN                     NaN                 NaN                              NaN            NaN             NaN  people tested                 NaN                NaN                      NaN             NaN               NaN                        NaN                             NaN                            NaN                                  NaN                         NaN                                    NaN   \n",
       "\n",
       "   stringency_index  population  population_density  median_age  aged_65_older  aged_70_older  gdp_per_capita  extreme_poverty  cardiovasc_death_rate  diabetes_prevalence  female_smokers  male_smokers  handwashing_facilities  hospital_beds_per_thousand  life_expectancy  human_development_index  excess_mortality  \n",
       "0              2.78  60041996.0              46.754        27.3          5.344          3.053       12294.876             18.9                 200.38                 5.52             8.1          33.2                  43.993                        2.32            64.13                    0.709               NaN  \n",
       "1              2.78  60041996.0              46.754        27.3          5.344          3.053       12294.876             18.9                 200.38                 5.52             8.1          33.2                  43.993                        2.32            64.13                    0.709               NaN  \n",
       "2              2.78  60041996.0              46.754        27.3          5.344          3.053       12294.876             18.9                 200.38                 5.52             8.1          33.2                  43.993                        2.32            64.13                    0.709               NaN  "
      ]
     },
     "execution_count": 86,
     "metadata": {},
     "output_type": "execute_result"
    }
   ],
   "source": [
    "sudafrica = datos_muestra[datos_muestra['location'] == 'South Africa']\n",
    "sudafrica = sudafrica.reset_index(drop=True)\n",
    "sudafrica.head(3)"
   ]
  },
  {
   "cell_type": "code",
   "execution_count": 87,
   "metadata": {},
   "outputs": [],
   "source": [
    "sudafrica = sudafrica[['location','date','total_cases']].dropna()"
   ]
  },
  {
   "cell_type": "code",
   "execution_count": 88,
   "metadata": {},
   "outputs": [],
   "source": [
    "casos_principio = sudafrica.total_cases[10:25]\n",
    "dias_principio = np.arange(0,len(casos_principio))"
   ]
  },
  {
   "cell_type": "code",
   "execution_count": 89,
   "metadata": {},
   "outputs": [
    {
     "data": {
      "text/plain": [
       "37      51.0\n",
       "38      62.0\n",
       "39      62.0\n",
       "40     116.0\n",
       "41     150.0\n",
       "42     202.0\n",
       "43     240.0\n",
       "44     274.0\n",
       "45     402.0\n",
       "46     554.0\n",
       "47     709.0\n",
       "48     927.0\n",
       "49    1170.0\n",
       "50    1187.0\n",
       "51    1280.0\n",
       "Name: total_cases, dtype: float64"
      ]
     },
     "execution_count": 89,
     "metadata": {},
     "output_type": "execute_result"
    }
   ],
   "source": [
    "casos_principio"
   ]
  },
  {
   "cell_type": "code",
   "execution_count": 91,
   "metadata": {},
   "outputs": [
    {
     "data": {
      "text/plain": [
       "array([  0.1995823 , -22.46505862])"
      ]
     },
     "execution_count": 91,
     "metadata": {},
     "output_type": "execute_result"
    }
   ],
   "source": [
    "# Ajustamos\n",
    "popt_sudafrica, pcov_sudafrica = curve_fit(exponencial, dias_principio, casos_principio)\n",
    "popt_sudafrica # Valor de k"
   ]
  },
  {
   "cell_type": "code",
   "execution_count": 92,
   "metadata": {},
   "outputs": [
    {
     "data": {
      "text/plain": [
       "[<matplotlib.lines.Line2D at 0x7fe2858ff4f0>]"
      ]
     },
     "execution_count": 92,
     "metadata": {},
     "output_type": "execute_result"
    },
    {
     "data": {
      "image/png": "[encoded data removed]",
      "text/plain": [
       "<Figure size 432x288 with 1 Axes>"
      ]
     },
     "metadata": {
      "needs_background": "light"
     },
     "output_type": "display_data"
    }
   ],
   "source": [
    "k=popt_sudafrica[0]\n",
    "t0=popt_sudafrica[1]\n",
    "casos_simu=exponencial(dias_principio,k,t0)\n",
    "plt.plot(dias_principio,casos_principio,'.')\n",
    "plt.plot(dias_principio,casos_simu)"
   ]
  },
  {
   "cell_type": "code",
   "execution_count": 93,
   "metadata": {},
   "outputs": [
    {
     "data": {
      "text/plain": [
       "Text(0, 0.5, 'cantidad de casos')"
      ]
     },
     "execution_count": 93,
     "metadata": {},
     "output_type": "execute_result"
    },
    {
     "data": {
      "image/png": "[encoded data removed]",
      "text/plain": [
       "<Figure size 432x288 with 1 Axes>"
      ]
     },
     "metadata": {
      "needs_background": "light"
     },
     "output_type": "display_data"
    }
   ],
   "source": [
    "ind_sudafrica=np.where(paises=='South Africa')\n",
    "ind_sudafrica=ind_sudafrica[0]\n",
    "casos_sudafrica=confirmados[ind_sudafrica]\n",
    "dias=np.arange(0,len(casos_sudafrica))\n",
    "plt.plot(dias,casos_sudafrica)\n",
    "plt.xlabel('dias')\n",
    "plt.ylabel('cantidad de casos')"
   ]
  },
  {
   "cell_type": "markdown",
   "metadata": {},
   "source": [
    "### 8. Francia"
   ]
  },
  {
   "cell_type": "code",
   "execution_count": 94,
   "metadata": {},
   "outputs": [
    {
     "data": {
      "text/html": [
       "<div>\n",
       "<style scoped>\n",
       "    .dataframe tbody tr th:only-of-type {\n",
       "        vertical-align: middle;\n",
       "    }\n",
       "\n",
       "    .dataframe tbody tr th {\n",
       "        vertical-align: top;\n",
       "    }\n",
       "\n",
       "    .dataframe thead th {\n",
       "        text-align: right;\n",
       "    }\n",
       "</style>\n",
       "<table border=\"1\" class=\"dataframe\">\n",
       "  <thead>\n",
       "    <tr style=\"text-align: right;\">\n",
       "      <th></th>\n",
       "      <th>iso_code</th>\n",
       "      <th>continent</th>\n",
       "      <th>location</th>\n",
       "      <th>date</th>\n",
       "      <th>total_cases</th>\n",
       "      <th>new_cases</th>\n",
       "      <th>new_cases_smoothed</th>\n",
       "      <th>total_deaths</th>\n",
       "      <th>new_deaths</th>\n",
       "      <th>new_deaths_smoothed</th>\n",
       "      <th>total_cases_per_million</th>\n",
       "      <th>new_cases_per_million</th>\n",
       "      <th>new_cases_smoothed_per_million</th>\n",
       "      <th>total_deaths_per_million</th>\n",
       "      <th>new_deaths_per_million</th>\n",
       "      <th>new_deaths_smoothed_per_million</th>\n",
       "      <th>reproduction_rate</th>\n",
       "      <th>icu_patients</th>\n",
       "      <th>icu_patients_per_million</th>\n",
       "      <th>hosp_patients</th>\n",
       "      <th>hosp_patients_per_million</th>\n",
       "      <th>weekly_icu_admissions</th>\n",
       "      <th>weekly_icu_admissions_per_million</th>\n",
       "      <th>weekly_hosp_admissions</th>\n",
       "      <th>weekly_hosp_admissions_per_million</th>\n",
       "      <th>new_tests</th>\n",
       "      <th>total_tests</th>\n",
       "      <th>total_tests_per_thousand</th>\n",
       "      <th>new_tests_per_thousand</th>\n",
       "      <th>new_tests_smoothed</th>\n",
       "      <th>new_tests_smoothed_per_thousand</th>\n",
       "      <th>positive_rate</th>\n",
       "      <th>tests_per_case</th>\n",
       "      <th>tests_units</th>\n",
       "      <th>total_vaccinations</th>\n",
       "      <th>people_vaccinated</th>\n",
       "      <th>people_fully_vaccinated</th>\n",
       "      <th>total_boosters</th>\n",
       "      <th>new_vaccinations</th>\n",
       "      <th>new_vaccinations_smoothed</th>\n",
       "      <th>total_vaccinations_per_hundred</th>\n",
       "      <th>people_vaccinated_per_hundred</th>\n",
       "      <th>people_fully_vaccinated_per_hundred</th>\n",
       "      <th>total_boosters_per_hundred</th>\n",
       "      <th>new_vaccinations_smoothed_per_million</th>\n",
       "      <th>stringency_index</th>\n",
       "      <th>population</th>\n",
       "      <th>population_density</th>\n",
       "      <th>median_age</th>\n",
       "      <th>aged_65_older</th>\n",
       "      <th>aged_70_older</th>\n",
       "      <th>gdp_per_capita</th>\n",
       "      <th>extreme_poverty</th>\n",
       "      <th>cardiovasc_death_rate</th>\n",
       "      <th>diabetes_prevalence</th>\n",
       "      <th>female_smokers</th>\n",
       "      <th>male_smokers</th>\n",
       "      <th>handwashing_facilities</th>\n",
       "      <th>hospital_beds_per_thousand</th>\n",
       "      <th>life_expectancy</th>\n",
       "      <th>human_development_index</th>\n",
       "      <th>excess_mortality</th>\n",
       "    </tr>\n",
       "  </thead>\n",
       "  <tbody>\n",
       "    <tr>\n",
       "      <th>0</th>\n",
       "      <td>FRA</td>\n",
       "      <td>Europe</td>\n",
       "      <td>France</td>\n",
       "      <td>2020-01-24</td>\n",
       "      <td>2.0</td>\n",
       "      <td>2.0</td>\n",
       "      <td>NaN</td>\n",
       "      <td>NaN</td>\n",
       "      <td>NaN</td>\n",
       "      <td>NaN</td>\n",
       "      <td>0.030</td>\n",
       "      <td>0.030</td>\n",
       "      <td>NaN</td>\n",
       "      <td>NaN</td>\n",
       "      <td>NaN</td>\n",
       "      <td>NaN</td>\n",
       "      <td>NaN</td>\n",
       "      <td>NaN</td>\n",
       "      <td>NaN</td>\n",
       "      <td>3.0</td>\n",
       "      <td>0.044</td>\n",
       "      <td>NaN</td>\n",
       "      <td>NaN</td>\n",
       "      <td>NaN</td>\n",
       "      <td>NaN</td>\n",
       "      <td>NaN</td>\n",
       "      <td>NaN</td>\n",
       "      <td>NaN</td>\n",
       "      <td>NaN</td>\n",
       "      <td>NaN</td>\n",
       "      <td>NaN</td>\n",
       "      <td>NaN</td>\n",
       "      <td>NaN</td>\n",
       "      <td>NaN</td>\n",
       "      <td>NaN</td>\n",
       "      <td>NaN</td>\n",
       "      <td>NaN</td>\n",
       "      <td>NaN</td>\n",
       "      <td>NaN</td>\n",
       "      <td>NaN</td>\n",
       "      <td>NaN</td>\n",
       "      <td>NaN</td>\n",
       "      <td>NaN</td>\n",
       "      <td>NaN</td>\n",
       "      <td>NaN</td>\n",
       "      <td>5.56</td>\n",
       "      <td>67564251.0</td>\n",
       "      <td>122.578</td>\n",
       "      <td>42.0</td>\n",
       "      <td>19.718</td>\n",
       "      <td>13.079</td>\n",
       "      <td>38605.671</td>\n",
       "      <td>NaN</td>\n",
       "      <td>86.06</td>\n",
       "      <td>4.77</td>\n",
       "      <td>30.1</td>\n",
       "      <td>35.6</td>\n",
       "      <td>NaN</td>\n",
       "      <td>5.98</td>\n",
       "      <td>82.66</td>\n",
       "      <td>0.901</td>\n",
       "      <td>NaN</td>\n",
       "    </tr>\n",
       "    <tr>\n",
       "      <th>1</th>\n",
       "      <td>FRA</td>\n",
       "      <td>Europe</td>\n",
       "      <td>France</td>\n",
       "      <td>2020-01-25</td>\n",
       "      <td>3.0</td>\n",
       "      <td>1.0</td>\n",
       "      <td>NaN</td>\n",
       "      <td>NaN</td>\n",
       "      <td>NaN</td>\n",
       "      <td>NaN</td>\n",
       "      <td>0.044</td>\n",
       "      <td>0.015</td>\n",
       "      <td>NaN</td>\n",
       "      <td>NaN</td>\n",
       "      <td>NaN</td>\n",
       "      <td>NaN</td>\n",
       "      <td>NaN</td>\n",
       "      <td>NaN</td>\n",
       "      <td>NaN</td>\n",
       "      <td>NaN</td>\n",
       "      <td>NaN</td>\n",
       "      <td>NaN</td>\n",
       "      <td>NaN</td>\n",
       "      <td>NaN</td>\n",
       "      <td>NaN</td>\n",
       "      <td>NaN</td>\n",
       "      <td>NaN</td>\n",
       "      <td>NaN</td>\n",
       "      <td>NaN</td>\n",
       "      <td>NaN</td>\n",
       "      <td>NaN</td>\n",
       "      <td>NaN</td>\n",
       "      <td>NaN</td>\n",
       "      <td>NaN</td>\n",
       "      <td>NaN</td>\n",
       "      <td>NaN</td>\n",
       "      <td>NaN</td>\n",
       "      <td>NaN</td>\n",
       "      <td>NaN</td>\n",
       "      <td>NaN</td>\n",
       "      <td>NaN</td>\n",
       "      <td>NaN</td>\n",
       "      <td>NaN</td>\n",
       "      <td>NaN</td>\n",
       "      <td>NaN</td>\n",
       "      <td>5.56</td>\n",
       "      <td>67564251.0</td>\n",
       "      <td>122.578</td>\n",
       "      <td>42.0</td>\n",
       "      <td>19.718</td>\n",
       "      <td>13.079</td>\n",
       "      <td>38605.671</td>\n",
       "      <td>NaN</td>\n",
       "      <td>86.06</td>\n",
       "      <td>4.77</td>\n",
       "      <td>30.1</td>\n",
       "      <td>35.6</td>\n",
       "      <td>NaN</td>\n",
       "      <td>5.98</td>\n",
       "      <td>82.66</td>\n",
       "      <td>0.901</td>\n",
       "      <td>NaN</td>\n",
       "    </tr>\n",
       "    <tr>\n",
       "      <th>2</th>\n",
       "      <td>FRA</td>\n",
       "      <td>Europe</td>\n",
       "      <td>France</td>\n",
       "      <td>2020-01-26</td>\n",
       "      <td>3.0</td>\n",
       "      <td>0.0</td>\n",
       "      <td>NaN</td>\n",
       "      <td>NaN</td>\n",
       "      <td>NaN</td>\n",
       "      <td>NaN</td>\n",
       "      <td>0.044</td>\n",
       "      <td>0.000</td>\n",
       "      <td>NaN</td>\n",
       "      <td>NaN</td>\n",
       "      <td>NaN</td>\n",
       "      <td>NaN</td>\n",
       "      <td>NaN</td>\n",
       "      <td>NaN</td>\n",
       "      <td>NaN</td>\n",
       "      <td>NaN</td>\n",
       "      <td>NaN</td>\n",
       "      <td>NaN</td>\n",
       "      <td>NaN</td>\n",
       "      <td>NaN</td>\n",
       "      <td>NaN</td>\n",
       "      <td>NaN</td>\n",
       "      <td>NaN</td>\n",
       "      <td>NaN</td>\n",
       "      <td>NaN</td>\n",
       "      <td>NaN</td>\n",
       "      <td>NaN</td>\n",
       "      <td>NaN</td>\n",
       "      <td>NaN</td>\n",
       "      <td>NaN</td>\n",
       "      <td>NaN</td>\n",
       "      <td>NaN</td>\n",
       "      <td>NaN</td>\n",
       "      <td>NaN</td>\n",
       "      <td>NaN</td>\n",
       "      <td>NaN</td>\n",
       "      <td>NaN</td>\n",
       "      <td>NaN</td>\n",
       "      <td>NaN</td>\n",
       "      <td>NaN</td>\n",
       "      <td>NaN</td>\n",
       "      <td>5.56</td>\n",
       "      <td>67564251.0</td>\n",
       "      <td>122.578</td>\n",
       "      <td>42.0</td>\n",
       "      <td>19.718</td>\n",
       "      <td>13.079</td>\n",
       "      <td>38605.671</td>\n",
       "      <td>NaN</td>\n",
       "      <td>86.06</td>\n",
       "      <td>4.77</td>\n",
       "      <td>30.1</td>\n",
       "      <td>35.6</td>\n",
       "      <td>NaN</td>\n",
       "      <td>5.98</td>\n",
       "      <td>82.66</td>\n",
       "      <td>0.901</td>\n",
       "      <td>-5.66</td>\n",
       "    </tr>\n",
       "  </tbody>\n",
       "</table>\n",
       "</div>"
      ],
      "text/plain": [
       "  iso_code continent location        date  total_cases  new_cases  new_cases_smoothed  total_deaths  new_deaths  new_deaths_smoothed  total_cases_per_million  new_cases_per_million  new_cases_smoothed_per_million  total_deaths_per_million  new_deaths_per_million  new_deaths_smoothed_per_million  reproduction_rate  icu_patients  icu_patients_per_million  hosp_patients  hosp_patients_per_million  weekly_icu_admissions  weekly_icu_admissions_per_million  weekly_hosp_admissions  weekly_hosp_admissions_per_million  new_tests  total_tests  total_tests_per_thousand  new_tests_per_thousand  new_tests_smoothed  new_tests_smoothed_per_thousand  positive_rate  tests_per_case tests_units  total_vaccinations  people_vaccinated  people_fully_vaccinated  total_boosters  new_vaccinations  new_vaccinations_smoothed  total_vaccinations_per_hundred  people_vaccinated_per_hundred  people_fully_vaccinated_per_hundred  total_boosters_per_hundred  new_vaccinations_smoothed_per_million  stringency_index  \\\n",
       "0      FRA    Europe   France  2020-01-24          2.0        2.0                 NaN           NaN         NaN                  NaN                    0.030                  0.030                             NaN                       NaN                     NaN                              NaN                NaN           NaN                       NaN            3.0                      0.044                    NaN                                NaN                     NaN                                 NaN        NaN          NaN                       NaN                     NaN                 NaN                              NaN            NaN             NaN         NaN                 NaN                NaN                      NaN             NaN               NaN                        NaN                             NaN                            NaN                                  NaN                         NaN                                    NaN              5.56   \n",
       "1      FRA    Europe   France  2020-01-25          3.0        1.0                 NaN           NaN         NaN                  NaN                    0.044                  0.015                             NaN                       NaN                     NaN                              NaN                NaN           NaN                       NaN            NaN                        NaN                    NaN                                NaN                     NaN                                 NaN        NaN          NaN                       NaN                     NaN                 NaN                              NaN            NaN             NaN         NaN                 NaN                NaN                      NaN             NaN               NaN                        NaN                             NaN                            NaN                                  NaN                         NaN                                    NaN              5.56   \n",
       "2      FRA    Europe   France  2020-01-26          3.0        0.0                 NaN           NaN         NaN                  NaN                    0.044                  0.000                             NaN                       NaN                     NaN                              NaN                NaN           NaN                       NaN            NaN                        NaN                    NaN                                NaN                     NaN                                 NaN        NaN          NaN                       NaN                     NaN                 NaN                              NaN            NaN             NaN         NaN                 NaN                NaN                      NaN             NaN               NaN                        NaN                             NaN                            NaN                                  NaN                         NaN                                    NaN              5.56   \n",
       "\n",
       "   population  population_density  median_age  aged_65_older  aged_70_older  gdp_per_capita  extreme_poverty  cardiovasc_death_rate  diabetes_prevalence  female_smokers  male_smokers  handwashing_facilities  hospital_beds_per_thousand  life_expectancy  human_development_index  excess_mortality  \n",
       "0  67564251.0             122.578        42.0         19.718         13.079       38605.671              NaN                  86.06                 4.77            30.1          35.6                     NaN                        5.98            82.66                    0.901               NaN  \n",
       "1  67564251.0             122.578        42.0         19.718         13.079       38605.671              NaN                  86.06                 4.77            30.1          35.6                     NaN                        5.98            82.66                    0.901               NaN  \n",
       "2  67564251.0             122.578        42.0         19.718         13.079       38605.671              NaN                  86.06                 4.77            30.1          35.6                     NaN                        5.98            82.66                    0.901             -5.66  "
      ]
     },
     "execution_count": 94,
     "metadata": {},
     "output_type": "execute_result"
    }
   ],
   "source": [
    "francia = datos_muestra[datos_muestra['location'] == 'France']\n",
    "francia = francia.reset_index(drop=True)\n",
    "francia.head(3)"
   ]
  },
  {
   "cell_type": "code",
   "execution_count": 95,
   "metadata": {},
   "outputs": [],
   "source": [
    "francia = francia[['location','date','total_cases']].dropna()"
   ]
  },
  {
   "cell_type": "code",
   "execution_count": 96,
   "metadata": {},
   "outputs": [],
   "source": [
    "casos_principio = francia.total_cases[10:25]\n",
    "dias_principio = np.arange(0,len(casos_principio))"
   ]
  },
  {
   "cell_type": "code",
   "execution_count": 97,
   "metadata": {},
   "outputs": [
    {
     "data": {
      "text/plain": [
       "10     6.0\n",
       "11     6.0\n",
       "12     6.0\n",
       "13     6.0\n",
       "14     6.0\n",
       "15    11.0\n",
       "16    11.0\n",
       "17    11.0\n",
       "18    11.0\n",
       "19    11.0\n",
       "20    11.0\n",
       "21    11.0\n",
       "22    12.0\n",
       "23    12.0\n",
       "24    12.0\n",
       "Name: total_cases, dtype: float64"
      ]
     },
     "execution_count": 97,
     "metadata": {},
     "output_type": "execute_result"
    }
   ],
   "source": [
    "casos_principio"
   ]
  },
  {
   "cell_type": "code",
   "execution_count": 98,
   "metadata": {},
   "outputs": [
    {
     "data": {
      "text/plain": [
       "array([  0.05004402, -37.62783113])"
      ]
     },
     "execution_count": 98,
     "metadata": {},
     "output_type": "execute_result"
    }
   ],
   "source": [
    "# Ajustamos\n",
    "popt_francia, pcov_francia = curve_fit(exponencial, dias_principio, casos_principio)\n",
    "popt_francia # Valor de k"
   ]
  },
  {
   "cell_type": "code",
   "execution_count": 99,
   "metadata": {},
   "outputs": [
    {
     "data": {
      "text/plain": [
       "[<matplotlib.lines.Line2D at 0x7fe2817ed970>]"
      ]
     },
     "execution_count": 99,
     "metadata": {},
     "output_type": "execute_result"
    },
    {
     "data": {
      "image/png": "[encoded data removed]",
      "text/plain": [
       "<Figure size 432x288 with 1 Axes>"
      ]
     },
     "metadata": {
      "needs_background": "light"
     },
     "output_type": "display_data"
    }
   ],
   "source": [
    "k=popt_francia[0]\n",
    "t0=popt_francia[1]\n",
    "casos_simu=exponencial(dias_principio,k,t0)\n",
    "plt.plot(dias_principio,casos_principio,'.')\n",
    "plt.plot(dias_principio,casos_simu)"
   ]
  },
  {
   "cell_type": "code",
   "execution_count": 100,
   "metadata": {},
   "outputs": [
    {
     "data": {
      "text/plain": [
       "Text(0, 0.5, 'cantidad de casos')"
      ]
     },
     "execution_count": 100,
     "metadata": {},
     "output_type": "execute_result"
    },
    {
     "data": {
      "image/png": "[encoded data removed]",
      "text/plain": [
       "<Figure size 432x288 with 1 Axes>"
      ]
     },
     "metadata": {
      "needs_background": "light"
     },
     "output_type": "display_data"
    }
   ],
   "source": [
    "ind_francia=np.where(paises=='France')\n",
    "ind_francia=ind_francia[0]\n",
    "casos_francia=confirmados[ind_francia]\n",
    "dias=np.arange(0,len(casos_francia))\n",
    "plt.plot(dias,casos_francia)\n",
    "plt.xlabel('dias')\n",
    "plt.ylabel('cantidad de casos')"
   ]
  },
  {
   "cell_type": "markdown",
   "metadata": {},
   "source": [
    "### 9. Brasil"
   ]
  },
  {
   "cell_type": "code",
   "execution_count": 101,
   "metadata": {},
   "outputs": [
    {
     "data": {
      "text/html": [
       "<div>\n",
       "<style scoped>\n",
       "    .dataframe tbody tr th:only-of-type {\n",
       "        vertical-align: middle;\n",
       "    }\n",
       "\n",
       "    .dataframe tbody tr th {\n",
       "        vertical-align: top;\n",
       "    }\n",
       "\n",
       "    .dataframe thead th {\n",
       "        text-align: right;\n",
       "    }\n",
       "</style>\n",
       "<table border=\"1\" class=\"dataframe\">\n",
       "  <thead>\n",
       "    <tr style=\"text-align: right;\">\n",
       "      <th></th>\n",
       "      <th>iso_code</th>\n",
       "      <th>continent</th>\n",
       "      <th>location</th>\n",
       "      <th>date</th>\n",
       "      <th>total_cases</th>\n",
       "      <th>new_cases</th>\n",
       "      <th>new_cases_smoothed</th>\n",
       "      <th>total_deaths</th>\n",
       "      <th>new_deaths</th>\n",
       "      <th>new_deaths_smoothed</th>\n",
       "      <th>total_cases_per_million</th>\n",
       "      <th>new_cases_per_million</th>\n",
       "      <th>new_cases_smoothed_per_million</th>\n",
       "      <th>total_deaths_per_million</th>\n",
       "      <th>new_deaths_per_million</th>\n",
       "      <th>new_deaths_smoothed_per_million</th>\n",
       "      <th>reproduction_rate</th>\n",
       "      <th>icu_patients</th>\n",
       "      <th>icu_patients_per_million</th>\n",
       "      <th>hosp_patients</th>\n",
       "      <th>hosp_patients_per_million</th>\n",
       "      <th>weekly_icu_admissions</th>\n",
       "      <th>weekly_icu_admissions_per_million</th>\n",
       "      <th>weekly_hosp_admissions</th>\n",
       "      <th>weekly_hosp_admissions_per_million</th>\n",
       "      <th>new_tests</th>\n",
       "      <th>total_tests</th>\n",
       "      <th>total_tests_per_thousand</th>\n",
       "      <th>new_tests_per_thousand</th>\n",
       "      <th>new_tests_smoothed</th>\n",
       "      <th>new_tests_smoothed_per_thousand</th>\n",
       "      <th>positive_rate</th>\n",
       "      <th>tests_per_case</th>\n",
       "      <th>tests_units</th>\n",
       "      <th>total_vaccinations</th>\n",
       "      <th>people_vaccinated</th>\n",
       "      <th>people_fully_vaccinated</th>\n",
       "      <th>total_boosters</th>\n",
       "      <th>new_vaccinations</th>\n",
       "      <th>new_vaccinations_smoothed</th>\n",
       "      <th>total_vaccinations_per_hundred</th>\n",
       "      <th>people_vaccinated_per_hundred</th>\n",
       "      <th>people_fully_vaccinated_per_hundred</th>\n",
       "      <th>total_boosters_per_hundred</th>\n",
       "      <th>new_vaccinations_smoothed_per_million</th>\n",
       "      <th>stringency_index</th>\n",
       "      <th>population</th>\n",
       "      <th>population_density</th>\n",
       "      <th>median_age</th>\n",
       "      <th>aged_65_older</th>\n",
       "      <th>aged_70_older</th>\n",
       "      <th>gdp_per_capita</th>\n",
       "      <th>extreme_poverty</th>\n",
       "      <th>cardiovasc_death_rate</th>\n",
       "      <th>diabetes_prevalence</th>\n",
       "      <th>female_smokers</th>\n",
       "      <th>male_smokers</th>\n",
       "      <th>handwashing_facilities</th>\n",
       "      <th>hospital_beds_per_thousand</th>\n",
       "      <th>life_expectancy</th>\n",
       "      <th>human_development_index</th>\n",
       "      <th>excess_mortality</th>\n",
       "    </tr>\n",
       "  </thead>\n",
       "  <tbody>\n",
       "    <tr>\n",
       "      <th>0</th>\n",
       "      <td>BRA</td>\n",
       "      <td>South America</td>\n",
       "      <td>Brazil</td>\n",
       "      <td>2020-02-26</td>\n",
       "      <td>1.0</td>\n",
       "      <td>1.0</td>\n",
       "      <td>NaN</td>\n",
       "      <td>NaN</td>\n",
       "      <td>NaN</td>\n",
       "      <td>NaN</td>\n",
       "      <td>0.005</td>\n",
       "      <td>0.005</td>\n",
       "      <td>NaN</td>\n",
       "      <td>NaN</td>\n",
       "      <td>NaN</td>\n",
       "      <td>NaN</td>\n",
       "      <td>NaN</td>\n",
       "      <td>NaN</td>\n",
       "      <td>NaN</td>\n",
       "      <td>NaN</td>\n",
       "      <td>NaN</td>\n",
       "      <td>NaN</td>\n",
       "      <td>NaN</td>\n",
       "      <td>NaN</td>\n",
       "      <td>NaN</td>\n",
       "      <td>NaN</td>\n",
       "      <td>NaN</td>\n",
       "      <td>NaN</td>\n",
       "      <td>NaN</td>\n",
       "      <td>NaN</td>\n",
       "      <td>NaN</td>\n",
       "      <td>NaN</td>\n",
       "      <td>NaN</td>\n",
       "      <td>NaN</td>\n",
       "      <td>NaN</td>\n",
       "      <td>NaN</td>\n",
       "      <td>NaN</td>\n",
       "      <td>NaN</td>\n",
       "      <td>NaN</td>\n",
       "      <td>NaN</td>\n",
       "      <td>NaN</td>\n",
       "      <td>NaN</td>\n",
       "      <td>NaN</td>\n",
       "      <td>NaN</td>\n",
       "      <td>NaN</td>\n",
       "      <td>5.56</td>\n",
       "      <td>213993441.0</td>\n",
       "      <td>25.04</td>\n",
       "      <td>33.5</td>\n",
       "      <td>8.552</td>\n",
       "      <td>5.06</td>\n",
       "      <td>14103.452</td>\n",
       "      <td>3.4</td>\n",
       "      <td>177.961</td>\n",
       "      <td>8.11</td>\n",
       "      <td>10.1</td>\n",
       "      <td>17.9</td>\n",
       "      <td>NaN</td>\n",
       "      <td>2.2</td>\n",
       "      <td>75.88</td>\n",
       "      <td>0.765</td>\n",
       "      <td>NaN</td>\n",
       "    </tr>\n",
       "    <tr>\n",
       "      <th>1</th>\n",
       "      <td>BRA</td>\n",
       "      <td>South America</td>\n",
       "      <td>Brazil</td>\n",
       "      <td>2020-02-27</td>\n",
       "      <td>1.0</td>\n",
       "      <td>0.0</td>\n",
       "      <td>NaN</td>\n",
       "      <td>NaN</td>\n",
       "      <td>NaN</td>\n",
       "      <td>NaN</td>\n",
       "      <td>0.005</td>\n",
       "      <td>0.000</td>\n",
       "      <td>NaN</td>\n",
       "      <td>NaN</td>\n",
       "      <td>NaN</td>\n",
       "      <td>NaN</td>\n",
       "      <td>NaN</td>\n",
       "      <td>NaN</td>\n",
       "      <td>NaN</td>\n",
       "      <td>NaN</td>\n",
       "      <td>NaN</td>\n",
       "      <td>NaN</td>\n",
       "      <td>NaN</td>\n",
       "      <td>NaN</td>\n",
       "      <td>NaN</td>\n",
       "      <td>NaN</td>\n",
       "      <td>NaN</td>\n",
       "      <td>NaN</td>\n",
       "      <td>NaN</td>\n",
       "      <td>NaN</td>\n",
       "      <td>NaN</td>\n",
       "      <td>NaN</td>\n",
       "      <td>NaN</td>\n",
       "      <td>NaN</td>\n",
       "      <td>NaN</td>\n",
       "      <td>NaN</td>\n",
       "      <td>NaN</td>\n",
       "      <td>NaN</td>\n",
       "      <td>NaN</td>\n",
       "      <td>NaN</td>\n",
       "      <td>NaN</td>\n",
       "      <td>NaN</td>\n",
       "      <td>NaN</td>\n",
       "      <td>NaN</td>\n",
       "      <td>NaN</td>\n",
       "      <td>5.56</td>\n",
       "      <td>213993441.0</td>\n",
       "      <td>25.04</td>\n",
       "      <td>33.5</td>\n",
       "      <td>8.552</td>\n",
       "      <td>5.06</td>\n",
       "      <td>14103.452</td>\n",
       "      <td>3.4</td>\n",
       "      <td>177.961</td>\n",
       "      <td>8.11</td>\n",
       "      <td>10.1</td>\n",
       "      <td>17.9</td>\n",
       "      <td>NaN</td>\n",
       "      <td>2.2</td>\n",
       "      <td>75.88</td>\n",
       "      <td>0.765</td>\n",
       "      <td>NaN</td>\n",
       "    </tr>\n",
       "    <tr>\n",
       "      <th>2</th>\n",
       "      <td>BRA</td>\n",
       "      <td>South America</td>\n",
       "      <td>Brazil</td>\n",
       "      <td>2020-02-28</td>\n",
       "      <td>1.0</td>\n",
       "      <td>0.0</td>\n",
       "      <td>NaN</td>\n",
       "      <td>NaN</td>\n",
       "      <td>NaN</td>\n",
       "      <td>NaN</td>\n",
       "      <td>0.005</td>\n",
       "      <td>0.000</td>\n",
       "      <td>NaN</td>\n",
       "      <td>NaN</td>\n",
       "      <td>NaN</td>\n",
       "      <td>NaN</td>\n",
       "      <td>NaN</td>\n",
       "      <td>NaN</td>\n",
       "      <td>NaN</td>\n",
       "      <td>NaN</td>\n",
       "      <td>NaN</td>\n",
       "      <td>NaN</td>\n",
       "      <td>NaN</td>\n",
       "      <td>NaN</td>\n",
       "      <td>NaN</td>\n",
       "      <td>NaN</td>\n",
       "      <td>NaN</td>\n",
       "      <td>NaN</td>\n",
       "      <td>NaN</td>\n",
       "      <td>NaN</td>\n",
       "      <td>NaN</td>\n",
       "      <td>NaN</td>\n",
       "      <td>NaN</td>\n",
       "      <td>NaN</td>\n",
       "      <td>NaN</td>\n",
       "      <td>NaN</td>\n",
       "      <td>NaN</td>\n",
       "      <td>NaN</td>\n",
       "      <td>NaN</td>\n",
       "      <td>NaN</td>\n",
       "      <td>NaN</td>\n",
       "      <td>NaN</td>\n",
       "      <td>NaN</td>\n",
       "      <td>NaN</td>\n",
       "      <td>NaN</td>\n",
       "      <td>5.56</td>\n",
       "      <td>213993441.0</td>\n",
       "      <td>25.04</td>\n",
       "      <td>33.5</td>\n",
       "      <td>8.552</td>\n",
       "      <td>5.06</td>\n",
       "      <td>14103.452</td>\n",
       "      <td>3.4</td>\n",
       "      <td>177.961</td>\n",
       "      <td>8.11</td>\n",
       "      <td>10.1</td>\n",
       "      <td>17.9</td>\n",
       "      <td>NaN</td>\n",
       "      <td>2.2</td>\n",
       "      <td>75.88</td>\n",
       "      <td>0.765</td>\n",
       "      <td>NaN</td>\n",
       "    </tr>\n",
       "  </tbody>\n",
       "</table>\n",
       "</div>"
      ],
      "text/plain": [
       "  iso_code      continent location        date  total_cases  new_cases  new_cases_smoothed  total_deaths  new_deaths  new_deaths_smoothed  total_cases_per_million  new_cases_per_million  new_cases_smoothed_per_million  total_deaths_per_million  new_deaths_per_million  new_deaths_smoothed_per_million  reproduction_rate  icu_patients  icu_patients_per_million  hosp_patients  hosp_patients_per_million  weekly_icu_admissions  weekly_icu_admissions_per_million  weekly_hosp_admissions  weekly_hosp_admissions_per_million  new_tests  total_tests  total_tests_per_thousand  new_tests_per_thousand  new_tests_smoothed  new_tests_smoothed_per_thousand  positive_rate  tests_per_case tests_units  total_vaccinations  people_vaccinated  people_fully_vaccinated  total_boosters  new_vaccinations  new_vaccinations_smoothed  total_vaccinations_per_hundred  people_vaccinated_per_hundred  people_fully_vaccinated_per_hundred  total_boosters_per_hundred  new_vaccinations_smoothed_per_million  \\\n",
       "0      BRA  South America   Brazil  2020-02-26          1.0        1.0                 NaN           NaN         NaN                  NaN                    0.005                  0.005                             NaN                       NaN                     NaN                              NaN                NaN           NaN                       NaN            NaN                        NaN                    NaN                                NaN                     NaN                                 NaN        NaN          NaN                       NaN                     NaN                 NaN                              NaN            NaN             NaN         NaN                 NaN                NaN                      NaN             NaN               NaN                        NaN                             NaN                            NaN                                  NaN                         NaN                                    NaN   \n",
       "1      BRA  South America   Brazil  2020-02-27          1.0        0.0                 NaN           NaN         NaN                  NaN                    0.005                  0.000                             NaN                       NaN                     NaN                              NaN                NaN           NaN                       NaN            NaN                        NaN                    NaN                                NaN                     NaN                                 NaN        NaN          NaN                       NaN                     NaN                 NaN                              NaN            NaN             NaN         NaN                 NaN                NaN                      NaN             NaN               NaN                        NaN                             NaN                            NaN                                  NaN                         NaN                                    NaN   \n",
       "2      BRA  South America   Brazil  2020-02-28          1.0        0.0                 NaN           NaN         NaN                  NaN                    0.005                  0.000                             NaN                       NaN                     NaN                              NaN                NaN           NaN                       NaN            NaN                        NaN                    NaN                                NaN                     NaN                                 NaN        NaN          NaN                       NaN                     NaN                 NaN                              NaN            NaN             NaN         NaN                 NaN                NaN                      NaN             NaN               NaN                        NaN                             NaN                            NaN                                  NaN                         NaN                                    NaN   \n",
       "\n",
       "   stringency_index   population  population_density  median_age  aged_65_older  aged_70_older  gdp_per_capita  extreme_poverty  cardiovasc_death_rate  diabetes_prevalence  female_smokers  male_smokers  handwashing_facilities  hospital_beds_per_thousand  life_expectancy  human_development_index  excess_mortality  \n",
       "0              5.56  213993441.0               25.04        33.5          8.552           5.06       14103.452              3.4                177.961                 8.11            10.1          17.9                     NaN                         2.2            75.88                    0.765               NaN  \n",
       "1              5.56  213993441.0               25.04        33.5          8.552           5.06       14103.452              3.4                177.961                 8.11            10.1          17.9                     NaN                         2.2            75.88                    0.765               NaN  \n",
       "2              5.56  213993441.0               25.04        33.5          8.552           5.06       14103.452              3.4                177.961                 8.11            10.1          17.9                     NaN                         2.2            75.88                    0.765               NaN  "
      ]
     },
     "execution_count": 101,
     "metadata": {},
     "output_type": "execute_result"
    }
   ],
   "source": [
    "brasil = datos_muestra[datos_muestra['location'] == 'Brazil']\n",
    "brasil = brasil.reset_index(drop=True)\n",
    "brasil.head(3)"
   ]
  },
  {
   "cell_type": "code",
   "execution_count": 102,
   "metadata": {},
   "outputs": [],
   "source": [
    "brasil = brasil[['location','date','total_cases']].dropna()"
   ]
  },
  {
   "cell_type": "code",
   "execution_count": 103,
   "metadata": {},
   "outputs": [],
   "source": [
    "casos_principio = brasil.total_cases[10:25]\n",
    "dias_principio = np.arange(0,len(casos_principio))"
   ]
  },
  {
   "cell_type": "code",
   "execution_count": 104,
   "metadata": {},
   "outputs": [
    {
     "data": {
      "text/plain": [
       "10      13.0\n",
       "11      20.0\n",
       "12      25.0\n",
       "13      31.0\n",
       "14      38.0\n",
       "15      52.0\n",
       "16     151.0\n",
       "17     151.0\n",
       "18     162.0\n",
       "19     200.0\n",
       "20     321.0\n",
       "21     372.0\n",
       "22     621.0\n",
       "23     793.0\n",
       "24    1021.0\n",
       "Name: total_cases, dtype: float64"
      ]
     },
     "execution_count": 104,
     "metadata": {},
     "output_type": "execute_result"
    }
   ],
   "source": [
    "casos_principio"
   ]
  },
  {
   "cell_type": "code",
   "execution_count": 105,
   "metadata": {},
   "outputs": [
    {
     "data": {
      "text/plain": [
       "array([ 0.29877229, -9.25236685])"
      ]
     },
     "execution_count": 105,
     "metadata": {},
     "output_type": "execute_result"
    }
   ],
   "source": [
    "# Ajustamos\n",
    "popt_brasil, pcov_brasil = curve_fit(exponencial, dias_principio, casos_principio)\n",
    "popt_brasil # Valor de k"
   ]
  },
  {
   "cell_type": "code",
   "execution_count": 106,
   "metadata": {},
   "outputs": [
    {
     "data": {
      "text/plain": [
       "[<matplotlib.lines.Line2D at 0x7fe281ad9820>]"
      ]
     },
     "execution_count": 106,
     "metadata": {},
     "output_type": "execute_result"
    },
    {
     "data": {
      "image/png": "[encoded data removed]",
      "text/plain": [
       "<Figure size 432x288 with 1 Axes>"
      ]
     },
     "metadata": {
      "needs_background": "light"
     },
     "output_type": "display_data"
    }
   ],
   "source": [
    "k=popt_brasil[0]\n",
    "t0=popt_brasil[1]\n",
    "casos_simu=exponencial(dias_principio,k,t0)\n",
    "plt.plot(dias_principio,casos_principio,'.')\n",
    "plt.plot(dias_principio,casos_simu)"
   ]
  },
  {
   "cell_type": "code",
   "execution_count": 107,
   "metadata": {},
   "outputs": [
    {
     "data": {
      "text/plain": [
       "Text(0, 0.5, 'cantidad de casos')"
      ]
     },
     "execution_count": 107,
     "metadata": {},
     "output_type": "execute_result"
    },
    {
     "data": {
      "image/png": "[encoded data removed]",
      "text/plain": [
       "<Figure size 432x288 with 1 Axes>"
      ]
     },
     "metadata": {
      "needs_background": "light"
     },
     "output_type": "display_data"
    }
   ],
   "source": [
    "ind_brasil=np.where(paises=='Brazil')\n",
    "ind_brasil=ind_brasil[0]\n",
    "casos_brasil=confirmados[ind_brasil]\n",
    "dias=np.arange(0,len(casos_brasil))\n",
    "plt.plot(dias,casos_brasil)\n",
    "plt.xlabel('dias')\n",
    "plt.ylabel('cantidad de casos')"
   ]
  },
  {
   "cell_type": "markdown",
   "metadata": {},
   "source": [
    "### 10. Estados Unidos"
   ]
  },
  {
   "cell_type": "code",
   "execution_count": 108,
   "metadata": {},
   "outputs": [
    {
     "data": {
      "text/html": [
       "<div>\n",
       "<style scoped>\n",
       "    .dataframe tbody tr th:only-of-type {\n",
       "        vertical-align: middle;\n",
       "    }\n",
       "\n",
       "    .dataframe tbody tr th {\n",
       "        vertical-align: top;\n",
       "    }\n",
       "\n",
       "    .dataframe thead th {\n",
       "        text-align: right;\n",
       "    }\n",
       "</style>\n",
       "<table border=\"1\" class=\"dataframe\">\n",
       "  <thead>\n",
       "    <tr style=\"text-align: right;\">\n",
       "      <th></th>\n",
       "      <th>iso_code</th>\n",
       "      <th>continent</th>\n",
       "      <th>location</th>\n",
       "      <th>date</th>\n",
       "      <th>total_cases</th>\n",
       "      <th>new_cases</th>\n",
       "      <th>new_cases_smoothed</th>\n",
       "      <th>total_deaths</th>\n",
       "      <th>new_deaths</th>\n",
       "      <th>new_deaths_smoothed</th>\n",
       "      <th>total_cases_per_million</th>\n",
       "      <th>new_cases_per_million</th>\n",
       "      <th>new_cases_smoothed_per_million</th>\n",
       "      <th>total_deaths_per_million</th>\n",
       "      <th>new_deaths_per_million</th>\n",
       "      <th>new_deaths_smoothed_per_million</th>\n",
       "      <th>reproduction_rate</th>\n",
       "      <th>icu_patients</th>\n",
       "      <th>icu_patients_per_million</th>\n",
       "      <th>hosp_patients</th>\n",
       "      <th>hosp_patients_per_million</th>\n",
       "      <th>weekly_icu_admissions</th>\n",
       "      <th>weekly_icu_admissions_per_million</th>\n",
       "      <th>weekly_hosp_admissions</th>\n",
       "      <th>weekly_hosp_admissions_per_million</th>\n",
       "      <th>new_tests</th>\n",
       "      <th>total_tests</th>\n",
       "      <th>total_tests_per_thousand</th>\n",
       "      <th>new_tests_per_thousand</th>\n",
       "      <th>new_tests_smoothed</th>\n",
       "      <th>new_tests_smoothed_per_thousand</th>\n",
       "      <th>positive_rate</th>\n",
       "      <th>tests_per_case</th>\n",
       "      <th>tests_units</th>\n",
       "      <th>total_vaccinations</th>\n",
       "      <th>people_vaccinated</th>\n",
       "      <th>people_fully_vaccinated</th>\n",
       "      <th>total_boosters</th>\n",
       "      <th>new_vaccinations</th>\n",
       "      <th>new_vaccinations_smoothed</th>\n",
       "      <th>total_vaccinations_per_hundred</th>\n",
       "      <th>people_vaccinated_per_hundred</th>\n",
       "      <th>people_fully_vaccinated_per_hundred</th>\n",
       "      <th>total_boosters_per_hundred</th>\n",
       "      <th>new_vaccinations_smoothed_per_million</th>\n",
       "      <th>stringency_index</th>\n",
       "      <th>population</th>\n",
       "      <th>population_density</th>\n",
       "      <th>median_age</th>\n",
       "      <th>aged_65_older</th>\n",
       "      <th>aged_70_older</th>\n",
       "      <th>gdp_per_capita</th>\n",
       "      <th>extreme_poverty</th>\n",
       "      <th>cardiovasc_death_rate</th>\n",
       "      <th>diabetes_prevalence</th>\n",
       "      <th>female_smokers</th>\n",
       "      <th>male_smokers</th>\n",
       "      <th>handwashing_facilities</th>\n",
       "      <th>hospital_beds_per_thousand</th>\n",
       "      <th>life_expectancy</th>\n",
       "      <th>human_development_index</th>\n",
       "      <th>excess_mortality</th>\n",
       "    </tr>\n",
       "  </thead>\n",
       "  <tbody>\n",
       "    <tr>\n",
       "      <th>0</th>\n",
       "      <td>USA</td>\n",
       "      <td>North America</td>\n",
       "      <td>United States</td>\n",
       "      <td>2020-01-22</td>\n",
       "      <td>1.0</td>\n",
       "      <td>NaN</td>\n",
       "      <td>NaN</td>\n",
       "      <td>NaN</td>\n",
       "      <td>NaN</td>\n",
       "      <td>NaN</td>\n",
       "      <td>0.003</td>\n",
       "      <td>NaN</td>\n",
       "      <td>NaN</td>\n",
       "      <td>NaN</td>\n",
       "      <td>NaN</td>\n",
       "      <td>NaN</td>\n",
       "      <td>NaN</td>\n",
       "      <td>NaN</td>\n",
       "      <td>NaN</td>\n",
       "      <td>NaN</td>\n",
       "      <td>NaN</td>\n",
       "      <td>NaN</td>\n",
       "      <td>NaN</td>\n",
       "      <td>NaN</td>\n",
       "      <td>NaN</td>\n",
       "      <td>NaN</td>\n",
       "      <td>NaN</td>\n",
       "      <td>NaN</td>\n",
       "      <td>NaN</td>\n",
       "      <td>NaN</td>\n",
       "      <td>NaN</td>\n",
       "      <td>NaN</td>\n",
       "      <td>NaN</td>\n",
       "      <td>NaN</td>\n",
       "      <td>NaN</td>\n",
       "      <td>NaN</td>\n",
       "      <td>NaN</td>\n",
       "      <td>NaN</td>\n",
       "      <td>NaN</td>\n",
       "      <td>NaN</td>\n",
       "      <td>NaN</td>\n",
       "      <td>NaN</td>\n",
       "      <td>NaN</td>\n",
       "      <td>NaN</td>\n",
       "      <td>NaN</td>\n",
       "      <td>0.0</td>\n",
       "      <td>332915074.0</td>\n",
       "      <td>35.608</td>\n",
       "      <td>38.3</td>\n",
       "      <td>15.413</td>\n",
       "      <td>9.732</td>\n",
       "      <td>54225.446</td>\n",
       "      <td>1.2</td>\n",
       "      <td>151.089</td>\n",
       "      <td>10.79</td>\n",
       "      <td>19.1</td>\n",
       "      <td>24.6</td>\n",
       "      <td>NaN</td>\n",
       "      <td>2.77</td>\n",
       "      <td>78.86</td>\n",
       "      <td>0.926</td>\n",
       "      <td>NaN</td>\n",
       "    </tr>\n",
       "    <tr>\n",
       "      <th>1</th>\n",
       "      <td>USA</td>\n",
       "      <td>North America</td>\n",
       "      <td>United States</td>\n",
       "      <td>2020-01-23</td>\n",
       "      <td>1.0</td>\n",
       "      <td>0.0</td>\n",
       "      <td>NaN</td>\n",
       "      <td>NaN</td>\n",
       "      <td>NaN</td>\n",
       "      <td>NaN</td>\n",
       "      <td>0.003</td>\n",
       "      <td>0.000</td>\n",
       "      <td>NaN</td>\n",
       "      <td>NaN</td>\n",
       "      <td>NaN</td>\n",
       "      <td>NaN</td>\n",
       "      <td>NaN</td>\n",
       "      <td>NaN</td>\n",
       "      <td>NaN</td>\n",
       "      <td>NaN</td>\n",
       "      <td>NaN</td>\n",
       "      <td>NaN</td>\n",
       "      <td>NaN</td>\n",
       "      <td>NaN</td>\n",
       "      <td>NaN</td>\n",
       "      <td>NaN</td>\n",
       "      <td>NaN</td>\n",
       "      <td>NaN</td>\n",
       "      <td>NaN</td>\n",
       "      <td>NaN</td>\n",
       "      <td>NaN</td>\n",
       "      <td>NaN</td>\n",
       "      <td>NaN</td>\n",
       "      <td>NaN</td>\n",
       "      <td>NaN</td>\n",
       "      <td>NaN</td>\n",
       "      <td>NaN</td>\n",
       "      <td>NaN</td>\n",
       "      <td>NaN</td>\n",
       "      <td>NaN</td>\n",
       "      <td>NaN</td>\n",
       "      <td>NaN</td>\n",
       "      <td>NaN</td>\n",
       "      <td>NaN</td>\n",
       "      <td>NaN</td>\n",
       "      <td>0.0</td>\n",
       "      <td>332915074.0</td>\n",
       "      <td>35.608</td>\n",
       "      <td>38.3</td>\n",
       "      <td>15.413</td>\n",
       "      <td>9.732</td>\n",
       "      <td>54225.446</td>\n",
       "      <td>1.2</td>\n",
       "      <td>151.089</td>\n",
       "      <td>10.79</td>\n",
       "      <td>19.1</td>\n",
       "      <td>24.6</td>\n",
       "      <td>NaN</td>\n",
       "      <td>2.77</td>\n",
       "      <td>78.86</td>\n",
       "      <td>0.926</td>\n",
       "      <td>NaN</td>\n",
       "    </tr>\n",
       "    <tr>\n",
       "      <th>2</th>\n",
       "      <td>USA</td>\n",
       "      <td>North America</td>\n",
       "      <td>United States</td>\n",
       "      <td>2020-01-24</td>\n",
       "      <td>2.0</td>\n",
       "      <td>1.0</td>\n",
       "      <td>NaN</td>\n",
       "      <td>NaN</td>\n",
       "      <td>NaN</td>\n",
       "      <td>NaN</td>\n",
       "      <td>0.006</td>\n",
       "      <td>0.003</td>\n",
       "      <td>NaN</td>\n",
       "      <td>NaN</td>\n",
       "      <td>NaN</td>\n",
       "      <td>NaN</td>\n",
       "      <td>NaN</td>\n",
       "      <td>NaN</td>\n",
       "      <td>NaN</td>\n",
       "      <td>NaN</td>\n",
       "      <td>NaN</td>\n",
       "      <td>NaN</td>\n",
       "      <td>NaN</td>\n",
       "      <td>NaN</td>\n",
       "      <td>NaN</td>\n",
       "      <td>NaN</td>\n",
       "      <td>NaN</td>\n",
       "      <td>NaN</td>\n",
       "      <td>NaN</td>\n",
       "      <td>NaN</td>\n",
       "      <td>NaN</td>\n",
       "      <td>NaN</td>\n",
       "      <td>NaN</td>\n",
       "      <td>NaN</td>\n",
       "      <td>NaN</td>\n",
       "      <td>NaN</td>\n",
       "      <td>NaN</td>\n",
       "      <td>NaN</td>\n",
       "      <td>NaN</td>\n",
       "      <td>NaN</td>\n",
       "      <td>NaN</td>\n",
       "      <td>NaN</td>\n",
       "      <td>NaN</td>\n",
       "      <td>NaN</td>\n",
       "      <td>NaN</td>\n",
       "      <td>0.0</td>\n",
       "      <td>332915074.0</td>\n",
       "      <td>35.608</td>\n",
       "      <td>38.3</td>\n",
       "      <td>15.413</td>\n",
       "      <td>9.732</td>\n",
       "      <td>54225.446</td>\n",
       "      <td>1.2</td>\n",
       "      <td>151.089</td>\n",
       "      <td>10.79</td>\n",
       "      <td>19.1</td>\n",
       "      <td>24.6</td>\n",
       "      <td>NaN</td>\n",
       "      <td>2.77</td>\n",
       "      <td>78.86</td>\n",
       "      <td>0.926</td>\n",
       "      <td>NaN</td>\n",
       "    </tr>\n",
       "  </tbody>\n",
       "</table>\n",
       "</div>"
      ],
      "text/plain": [
       "  iso_code      continent       location        date  total_cases  new_cases  new_cases_smoothed  total_deaths  new_deaths  new_deaths_smoothed  total_cases_per_million  new_cases_per_million  new_cases_smoothed_per_million  total_deaths_per_million  new_deaths_per_million  new_deaths_smoothed_per_million  reproduction_rate  icu_patients  icu_patients_per_million  hosp_patients  hosp_patients_per_million  weekly_icu_admissions  weekly_icu_admissions_per_million  weekly_hosp_admissions  weekly_hosp_admissions_per_million  new_tests  total_tests  total_tests_per_thousand  new_tests_per_thousand  new_tests_smoothed  new_tests_smoothed_per_thousand  positive_rate  tests_per_case tests_units  total_vaccinations  people_vaccinated  people_fully_vaccinated  total_boosters  new_vaccinations  new_vaccinations_smoothed  total_vaccinations_per_hundred  people_vaccinated_per_hundred  people_fully_vaccinated_per_hundred  total_boosters_per_hundred  new_vaccinations_smoothed_per_million  \\\n",
       "0      USA  North America  United States  2020-01-22          1.0        NaN                 NaN           NaN         NaN                  NaN                    0.003                    NaN                             NaN                       NaN                     NaN                              NaN                NaN           NaN                       NaN            NaN                        NaN                    NaN                                NaN                     NaN                                 NaN        NaN          NaN                       NaN                     NaN                 NaN                              NaN            NaN             NaN         NaN                 NaN                NaN                      NaN             NaN               NaN                        NaN                             NaN                            NaN                                  NaN                         NaN                                    NaN   \n",
       "1      USA  North America  United States  2020-01-23          1.0        0.0                 NaN           NaN         NaN                  NaN                    0.003                  0.000                             NaN                       NaN                     NaN                              NaN                NaN           NaN                       NaN            NaN                        NaN                    NaN                                NaN                     NaN                                 NaN        NaN          NaN                       NaN                     NaN                 NaN                              NaN            NaN             NaN         NaN                 NaN                NaN                      NaN             NaN               NaN                        NaN                             NaN                            NaN                                  NaN                         NaN                                    NaN   \n",
       "2      USA  North America  United States  2020-01-24          2.0        1.0                 NaN           NaN         NaN                  NaN                    0.006                  0.003                             NaN                       NaN                     NaN                              NaN                NaN           NaN                       NaN            NaN                        NaN                    NaN                                NaN                     NaN                                 NaN        NaN          NaN                       NaN                     NaN                 NaN                              NaN            NaN             NaN         NaN                 NaN                NaN                      NaN             NaN               NaN                        NaN                             NaN                            NaN                                  NaN                         NaN                                    NaN   \n",
       "\n",
       "   stringency_index   population  population_density  median_age  aged_65_older  aged_70_older  gdp_per_capita  extreme_poverty  cardiovasc_death_rate  diabetes_prevalence  female_smokers  male_smokers  handwashing_facilities  hospital_beds_per_thousand  life_expectancy  human_development_index  excess_mortality  \n",
       "0               0.0  332915074.0              35.608        38.3         15.413          9.732       54225.446              1.2                151.089                10.79            19.1          24.6                     NaN                        2.77            78.86                    0.926               NaN  \n",
       "1               0.0  332915074.0              35.608        38.3         15.413          9.732       54225.446              1.2                151.089                10.79            19.1          24.6                     NaN                        2.77            78.86                    0.926               NaN  \n",
       "2               0.0  332915074.0              35.608        38.3         15.413          9.732       54225.446              1.2                151.089                10.79            19.1          24.6                     NaN                        2.77            78.86                    0.926               NaN  "
      ]
     },
     "execution_count": 108,
     "metadata": {},
     "output_type": "execute_result"
    }
   ],
   "source": [
    "eeuu = datos_muestra[datos_muestra['location'] == 'United States']\n",
    "eeuu = eeuu.reset_index(drop=True)\n",
    "eeuu.head(3)"
   ]
  },
  {
   "cell_type": "code",
   "execution_count": 109,
   "metadata": {},
   "outputs": [],
   "source": [
    "eeuu = eeuu[['location','date','total_cases']].dropna()"
   ]
  },
  {
   "cell_type": "code",
   "execution_count": 110,
   "metadata": {},
   "outputs": [],
   "source": [
    "casos_principio = eeuu.total_cases[10:25]\n",
    "dias_principio = np.arange(0,len(casos_principio))"
   ]
  },
  {
   "cell_type": "code",
   "execution_count": 111,
   "metadata": {},
   "outputs": [
    {
     "data": {
      "text/plain": [
       "10     8.0\n",
       "11     8.0\n",
       "12    11.0\n",
       "13    11.0\n",
       "14    11.0\n",
       "15    12.0\n",
       "16    12.0\n",
       "17    12.0\n",
       "18    12.0\n",
       "19    12.0\n",
       "20    13.0\n",
       "21    13.0\n",
       "22    14.0\n",
       "23    14.0\n",
       "24    14.0\n",
       "Name: total_cases, dtype: float64"
      ]
     },
     "execution_count": 111,
     "metadata": {},
     "output_type": "execute_result"
    }
   ],
   "source": [
    "casos_principio"
   ]
  },
  {
   "cell_type": "code",
   "execution_count": 112,
   "metadata": {},
   "outputs": [
    {
     "data": {
      "text/plain": [
       "array([ 3.14648479e-02, -7.11561980e+01])"
      ]
     },
     "execution_count": 112,
     "metadata": {},
     "output_type": "execute_result"
    }
   ],
   "source": [
    "# Ajustamos\n",
    "popt_eeuu, pcov_eeuu = curve_fit(exponencial, dias_principio, casos_principio)\n",
    "popt_eeuu # Valor de k"
   ]
  },
  {
   "cell_type": "code",
   "execution_count": 113,
   "metadata": {},
   "outputs": [
    {
     "data": {
      "text/plain": [
       "[<matplotlib.lines.Line2D at 0x7fe281d62f40>]"
      ]
     },
     "execution_count": 113,
     "metadata": {},
     "output_type": "execute_result"
    },
    {
     "data": {
      "image/png": "[encoded data removed]",
      "text/plain": [
       "<Figure size 432x288 with 1 Axes>"
      ]
     },
     "metadata": {
      "needs_background": "light"
     },
     "output_type": "display_data"
    }
   ],
   "source": [
    "k=popt_eeuu[0]\n",
    "t0=popt_eeuu[1]\n",
    "casos_simu=exponencial(dias_principio,k,t0)\n",
    "plt.plot(dias_principio,casos_principio,'.')\n",
    "plt.plot(dias_principio,casos_simu)"
   ]
  },
  {
   "cell_type": "code",
   "execution_count": 114,
   "metadata": {},
   "outputs": [
    {
     "data": {
      "text/plain": [
       "Text(0, 0.5, 'cantidad de casos')"
      ]
     },
     "execution_count": 114,
     "metadata": {},
     "output_type": "execute_result"
    },
    {
     "data": {
      "image/png": "[encoded data removed]",
      "text/plain": [
       "<Figure size 432x288 with 1 Axes>"
      ]
     },
     "metadata": {
      "needs_background": "light"
     },
     "output_type": "display_data"
    }
   ],
   "source": [
    "ind_eeuu=np.where(paises=='United States')\n",
    "ind_eeuu=ind_eeuu[0]\n",
    "casos_eeuu=confirmados[ind_eeuu]\n",
    "dias=np.arange(0,len(casos_eeuu))\n",
    "plt.plot(dias,casos_eeuu)\n",
    "plt.xlabel('dias')\n",
    "plt.ylabel('cantidad de casos')"
   ]
  },
  {
   "cell_type": "markdown",
   "metadata": {},
   "source": [
    "## Los K obtenidos para los 10 paises analizados:"
   ]
  },
  {
   "cell_type": "markdown",
   "metadata": {},
   "source": [
    "visualizamos a continuacion un resumen de todos los K por paises obtenidos anteriormente:"
   ]
  },
  {
   "cell_type": "code",
   "execution_count": 115,
   "metadata": {},
   "outputs": [],
   "source": [
    "import pandas as pd\n",
    "k_arg = round(popt[0],6)\n",
    "k_alemania = round(popt_ger[0],6)\n",
    "k_china = round(popt_china[0],6)\n",
    "k_italia = round(popt_italia[0],6)\n",
    "k_peru = round(popt_peru[0],6)\n",
    "k_mexico = round(popt_mexico[0],6) \n",
    "k_reinoUnido = round(popt_reinoUnido[0],6) \n",
    "k_sudafrica = round(popt_sudafrica[0],6)\n",
    "k_francia = round(popt_francia[0],6)\n",
    "k_brasil = round(popt_brasil[0],6)\n",
    "k_eeuu = round(popt_eeuu[0],6)"
   ]
  },
  {
   "cell_type": "code",
   "execution_count": 116,
   "metadata": {},
   "outputs": [
    {
     "data": {
      "text/html": [
       "<div>\n",
       "<style scoped>\n",
       "    .dataframe tbody tr th:only-of-type {\n",
       "        vertical-align: middle;\n",
       "    }\n",
       "\n",
       "    .dataframe tbody tr th {\n",
       "        vertical-align: top;\n",
       "    }\n",
       "\n",
       "    .dataframe thead th {\n",
       "        text-align: right;\n",
       "    }\n",
       "</style>\n",
       "<table border=\"1\" class=\"dataframe\">\n",
       "  <thead>\n",
       "    <tr style=\"text-align: right;\">\n",
       "      <th></th>\n",
       "      <th>Pais</th>\n",
       "      <th>Valor_K</th>\n",
       "    </tr>\n",
       "  </thead>\n",
       "  <tbody>\n",
       "    <tr>\n",
       "      <th>0</th>\n",
       "      <td>Argentina</td>\n",
       "      <td>0.075216</td>\n",
       "    </tr>\n",
       "    <tr>\n",
       "      <th>1</th>\n",
       "      <td>Alemania</td>\n",
       "      <td>0.367804</td>\n",
       "    </tr>\n",
       "    <tr>\n",
       "      <th>2</th>\n",
       "      <td>China</td>\n",
       "      <td>0.101167</td>\n",
       "    </tr>\n",
       "    <tr>\n",
       "      <th>3</th>\n",
       "      <td>Italia</td>\n",
       "      <td>0.640554</td>\n",
       "    </tr>\n",
       "    <tr>\n",
       "      <th>4</th>\n",
       "      <td>Peru</td>\n",
       "      <td>0.136629</td>\n",
       "    </tr>\n",
       "    <tr>\n",
       "      <th>5</th>\n",
       "      <td>Mexico</td>\n",
       "      <td>0.234288</td>\n",
       "    </tr>\n",
       "    <tr>\n",
       "      <th>6</th>\n",
       "      <td>Reino Unido</td>\n",
       "      <td>0.049654</td>\n",
       "    </tr>\n",
       "    <tr>\n",
       "      <th>7</th>\n",
       "      <td>Sudafrica</td>\n",
       "      <td>0.199582</td>\n",
       "    </tr>\n",
       "    <tr>\n",
       "      <th>8</th>\n",
       "      <td>Francia</td>\n",
       "      <td>0.050044</td>\n",
       "    </tr>\n",
       "    <tr>\n",
       "      <th>9</th>\n",
       "      <td>Brasil</td>\n",
       "      <td>0.298772</td>\n",
       "    </tr>\n",
       "    <tr>\n",
       "      <th>10</th>\n",
       "      <td>Estados Unidos</td>\n",
       "      <td>0.031465</td>\n",
       "    </tr>\n",
       "  </tbody>\n",
       "</table>\n",
       "</div>"
      ],
      "text/plain": [
       "              Pais   Valor_K\n",
       "0        Argentina  0.075216\n",
       "1         Alemania  0.367804\n",
       "2            China  0.101167\n",
       "3           Italia  0.640554\n",
       "4             Peru  0.136629\n",
       "5           Mexico  0.234288\n",
       "6      Reino Unido  0.049654\n",
       "7        Sudafrica  0.199582\n",
       "8          Francia  0.050044\n",
       "9           Brasil  0.298772\n",
       "10  Estados Unidos  0.031465"
      ]
     },
     "execution_count": 116,
     "metadata": {},
     "output_type": "execute_result"
    }
   ],
   "source": [
    "results = [['Argentina',k_arg],['Alemania',k_alemania],['China',k_china], ['Italia',k_italia],['Peru',k_peru], ['Mexico',k_mexico], ['Reino Unido',k_reinoUnido], ['Sudafrica',k_sudafrica], ['Francia',k_francia], ['Brasil',k_brasil], ['Estados Unidos',k_eeuu]]\n",
    "table_result = pd.DataFrame(results, columns=['Pais', 'Valor_K'])\n",
    "table_result"
   ]
  },
  {
   "cell_type": "markdown",
   "metadata": {},
   "source": [
    "## Metodo: boostraping"
   ]
  },
  {
   "cell_type": "markdown",
   "metadata": {},
   "source": [
    "Utilizaremos el metodo boostrapping para analizar si sirve el K promedio que medimos desde nuestra muestra para representar la poblacion mundial. Ya que disponemos solamente de 10 pais seleccionados, siendo representativa de la poblacion, se puede esperar que los valores en la muestra aparezcan aproximadamente con la misma frecuencia que en la poblacion.\n",
    "El metodo de boostrapping se basa en generar nuevas pseudo-muestras del mismo tamaño que la muestra original, mediante muestreo repetido de los datos con los que contamos. Si la muestra final es representativa de la poblacion, la distribucion del estadistico calculada a partir de las pseudo-muestras (bootstrapping distribution) se aproxima a la distribucion muestral que se obtendria si se pudiera acceder a la poblacion para generar nuevas muestras."
   ]
  },
  {
   "cell_type": "code",
   "execution_count": 117,
   "metadata": {},
   "outputs": [
    {
     "name": "stdout",
     "output_type": "stream",
     "text": [
      "11\n",
      "Media bootstrap: 0.18412281818181817\n",
      "95% =  [0.03601225 0.5723665 ]\n"
     ]
    }
   ],
   "source": [
    "from sklearn.utils import resample\n",
    "\n",
    "bootstrap = resample(table_result.Valor_K, replace = True, n_samples = 11, random_state = 40)\n",
    "print(len(bootstrap)) \n",
    "\n",
    "bootstrap_mean =  np.mean(bootstrap)\n",
    "print('Media bootstrap:', bootstrap_mean)\n",
    "boot_95 = np.percentile(bootstrap, [2.5,97.5])\n",
    "print('95% = ', boot_95)"
   ]
  },
  {
   "cell_type": "markdown",
   "metadata": {},
   "source": [
    "Podemos analizar que la *media boostrap* y el *intervalo de confianza* que muestra tiene un rango muy amplio. Esto se puede deber a la distribucion de nuestros datos originales.\n",
    "Los contagios crecen muy rapido, pero con el paso del tiempo empiezan a disminuir. Esto se debe a que cada pais cuenta con un K diferente a los demas, que posiblemente varie segun diversos factores como: cantidad de personas del pais, tamaño territorial, sistema de salud, entre otros.\n",
    "Podriamos considerarlo como un buen modelo ya que teniendo en cuenta como son los datos originales, obtuvimos lo que se esperaba como resutado."
   ]
  },
  {
   "cell_type": "markdown",
   "metadata": {},
   "source": [
    "## Graficos que aportan informacion para la interpretacion de los datos"
   ]
  },
  {
   "cell_type": "markdown",
   "metadata": {},
   "source": [
    "Graficaremos los diferentes valores de k para los distintos paises de la muestra, de mayor a menor."
   ]
  },
  {
   "cell_type": "code",
   "execution_count": 118,
   "metadata": {},
   "outputs": [],
   "source": [
    "# Usaremos el metodo \"explode\" para usar la columna \"valor_k\" de forma numerica (como float) para graficar:\n",
    "table_result = table_result.explode('Valor_K') \n",
    "table_result['Valor_K'] = table_result['Valor_K'].astype('float')"
   ]
  },
  {
   "cell_type": "code",
   "execution_count": 119,
   "metadata": {},
   "outputs": [
    {
     "data": {
      "image/png": "[encoded data removed]",
      "text/plain": [
       "<Figure size 360x360 with 1 Axes>"
      ]
     },
     "metadata": {
      "needs_background": "light"
     },
     "output_type": "display_data"
    }
   ],
   "source": [
    "import seaborn as sbn\n",
    "\n",
    "sbn.catplot(x = \"Pais\", y = \"Valor_K\", kind = \"bar\", data = table_result.sort_values('Valor_K',ascending=False),color = 'lightblue').set(title='Valor de K por pais')\n",
    "plt.xticks(rotation=90)\n",
    "warnings.filterwarnings(\"ignore\")"
   ]
  },
  {
   "cell_type": "markdown",
   "metadata": {},
   "source": [
    "Para saber cuantos casos hubo por dia a nivel mundial, agrupamos nuestros datos de la muestra por fecha."
   ]
  },
  {
   "cell_type": "code",
   "execution_count": 120,
   "metadata": {},
   "outputs": [],
   "source": [
    "datos_muestra_por_fecha=datos_muestra.groupby(['date'])['total_cases'].sum().reset_index()"
   ]
  },
  {
   "cell_type": "code",
   "execution_count": 121,
   "metadata": {},
   "outputs": [
    {
     "data": {
      "text/html": [
       "<div>\n",
       "<style scoped>\n",
       "    .dataframe tbody tr th:only-of-type {\n",
       "        vertical-align: middle;\n",
       "    }\n",
       "\n",
       "    .dataframe tbody tr th {\n",
       "        vertical-align: top;\n",
       "    }\n",
       "\n",
       "    .dataframe thead th {\n",
       "        text-align: right;\n",
       "    }\n",
       "</style>\n",
       "<table border=\"1\" class=\"dataframe\">\n",
       "  <thead>\n",
       "    <tr style=\"text-align: right;\">\n",
       "      <th></th>\n",
       "      <th>date</th>\n",
       "      <th>total_cases</th>\n",
       "    </tr>\n",
       "  </thead>\n",
       "  <tbody>\n",
       "    <tr>\n",
       "      <th>0</th>\n",
       "      <td>2020-01-01</td>\n",
       "      <td>0.0</td>\n",
       "    </tr>\n",
       "    <tr>\n",
       "      <th>1</th>\n",
       "      <td>2020-01-02</td>\n",
       "      <td>0.0</td>\n",
       "    </tr>\n",
       "    <tr>\n",
       "      <th>2</th>\n",
       "      <td>2020-01-03</td>\n",
       "      <td>0.0</td>\n",
       "    </tr>\n",
       "    <tr>\n",
       "      <th>3</th>\n",
       "      <td>2020-01-04</td>\n",
       "      <td>0.0</td>\n",
       "    </tr>\n",
       "    <tr>\n",
       "      <th>4</th>\n",
       "      <td>2020-01-05</td>\n",
       "      <td>0.0</td>\n",
       "    </tr>\n",
       "    <tr>\n",
       "      <th>5</th>\n",
       "      <td>2020-01-06</td>\n",
       "      <td>0.0</td>\n",
       "    </tr>\n",
       "    <tr>\n",
       "      <th>6</th>\n",
       "      <td>2020-01-07</td>\n",
       "      <td>0.0</td>\n",
       "    </tr>\n",
       "    <tr>\n",
       "      <th>7</th>\n",
       "      <td>2020-01-08</td>\n",
       "      <td>0.0</td>\n",
       "    </tr>\n",
       "    <tr>\n",
       "      <th>8</th>\n",
       "      <td>2020-01-09</td>\n",
       "      <td>0.0</td>\n",
       "    </tr>\n",
       "    <tr>\n",
       "      <th>9</th>\n",
       "      <td>2020-01-10</td>\n",
       "      <td>0.0</td>\n",
       "    </tr>\n",
       "    <tr>\n",
       "      <th>10</th>\n",
       "      <td>2020-01-11</td>\n",
       "      <td>0.0</td>\n",
       "    </tr>\n",
       "    <tr>\n",
       "      <th>11</th>\n",
       "      <td>2020-01-12</td>\n",
       "      <td>0.0</td>\n",
       "    </tr>\n",
       "    <tr>\n",
       "      <th>12</th>\n",
       "      <td>2020-01-13</td>\n",
       "      <td>0.0</td>\n",
       "    </tr>\n",
       "    <tr>\n",
       "      <th>13</th>\n",
       "      <td>2020-01-14</td>\n",
       "      <td>0.0</td>\n",
       "    </tr>\n",
       "    <tr>\n",
       "      <th>14</th>\n",
       "      <td>2020-01-15</td>\n",
       "      <td>0.0</td>\n",
       "    </tr>\n",
       "    <tr>\n",
       "      <th>15</th>\n",
       "      <td>2020-01-16</td>\n",
       "      <td>0.0</td>\n",
       "    </tr>\n",
       "    <tr>\n",
       "      <th>16</th>\n",
       "      <td>2020-01-17</td>\n",
       "      <td>0.0</td>\n",
       "    </tr>\n",
       "    <tr>\n",
       "      <th>17</th>\n",
       "      <td>2020-01-18</td>\n",
       "      <td>0.0</td>\n",
       "    </tr>\n",
       "    <tr>\n",
       "      <th>18</th>\n",
       "      <td>2020-01-19</td>\n",
       "      <td>0.0</td>\n",
       "    </tr>\n",
       "    <tr>\n",
       "      <th>19</th>\n",
       "      <td>2020-01-20</td>\n",
       "      <td>0.0</td>\n",
       "    </tr>\n",
       "    <tr>\n",
       "      <th>20</th>\n",
       "      <td>2020-01-21</td>\n",
       "      <td>0.0</td>\n",
       "    </tr>\n",
       "    <tr>\n",
       "      <th>21</th>\n",
       "      <td>2020-01-22</td>\n",
       "      <td>549.0</td>\n",
       "    </tr>\n",
       "    <tr>\n",
       "      <th>22</th>\n",
       "      <td>2020-01-23</td>\n",
       "      <td>642.0</td>\n",
       "    </tr>\n",
       "    <tr>\n",
       "      <th>23</th>\n",
       "      <td>2020-01-24</td>\n",
       "      <td>922.0</td>\n",
       "    </tr>\n",
       "    <tr>\n",
       "      <th>24</th>\n",
       "      <td>2020-01-25</td>\n",
       "      <td>1406.0</td>\n",
       "    </tr>\n",
       "    <tr>\n",
       "      <th>25</th>\n",
       "      <td>2020-01-26</td>\n",
       "      <td>2075.0</td>\n",
       "    </tr>\n",
       "    <tr>\n",
       "      <th>26</th>\n",
       "      <td>2020-01-27</td>\n",
       "      <td>2878.0</td>\n",
       "    </tr>\n",
       "    <tr>\n",
       "      <th>27</th>\n",
       "      <td>2020-01-28</td>\n",
       "      <td>5514.0</td>\n",
       "    </tr>\n",
       "    <tr>\n",
       "      <th>28</th>\n",
       "      <td>2020-01-29</td>\n",
       "      <td>6092.0</td>\n",
       "    </tr>\n",
       "    <tr>\n",
       "      <th>29</th>\n",
       "      <td>2020-01-30</td>\n",
       "      <td>8146.0</td>\n",
       "    </tr>\n",
       "  </tbody>\n",
       "</table>\n",
       "</div>"
      ],
      "text/plain": [
       "          date  total_cases\n",
       "0   2020-01-01          0.0\n",
       "1   2020-01-02          0.0\n",
       "2   2020-01-03          0.0\n",
       "3   2020-01-04          0.0\n",
       "4   2020-01-05          0.0\n",
       "5   2020-01-06          0.0\n",
       "6   2020-01-07          0.0\n",
       "7   2020-01-08          0.0\n",
       "8   2020-01-09          0.0\n",
       "9   2020-01-10          0.0\n",
       "10  2020-01-11          0.0\n",
       "11  2020-01-12          0.0\n",
       "12  2020-01-13          0.0\n",
       "13  2020-01-14          0.0\n",
       "14  2020-01-15          0.0\n",
       "15  2020-01-16          0.0\n",
       "16  2020-01-17          0.0\n",
       "17  2020-01-18          0.0\n",
       "18  2020-01-19          0.0\n",
       "19  2020-01-20          0.0\n",
       "20  2020-01-21          0.0\n",
       "21  2020-01-22        549.0\n",
       "22  2020-01-23        642.0\n",
       "23  2020-01-24        922.0\n",
       "24  2020-01-25       1406.0\n",
       "25  2020-01-26       2075.0\n",
       "26  2020-01-27       2878.0\n",
       "27  2020-01-28       5514.0\n",
       "28  2020-01-29       6092.0\n",
       "29  2020-01-30       8146.0"
      ]
     },
     "execution_count": 121,
     "metadata": {},
     "output_type": "execute_result"
    }
   ],
   "source": [
    "datos_muestra_por_fecha.head(30)"
   ]
  },
  {
   "cell_type": "code",
   "execution_count": 125,
   "metadata": {},
   "outputs": [],
   "source": [
    "# Separamos en 2 variables: \n",
    "# 1) los casos totales\n",
    "# 2) los dias\n",
    "total_cases_all_countrys=datos_muestra_por_fecha['total_cases']\n",
    "dias=np.arange(0,len(datos_muestra_por_fecha))"
   ]
  },
  {
   "cell_type": "markdown",
   "metadata": {},
   "source": [
    "Graficamos como fueron incrementando los casos a nivel mundial (teniendo en consideracion que solamente son los 10 paises de nuestra muestra representativa)"
   ]
  },
  {
   "cell_type": "markdown",
   "metadata": {},
   "source": [
    "A la izquierda: la curva con el paso de mas de 600 dias.\n",
    "A la derecha: como fueron variando los casos en los primeros 60 dias de pandemia."
   ]
  },
  {
   "cell_type": "code",
   "execution_count": 126,
   "metadata": {},
   "outputs": [
    {
     "data": {
      "image/png": "[encoded data removed]",
      "text/plain": [
       "<Figure size 1800x720 with 2 Axes>"
      ]
     },
     "metadata": {
      "needs_background": "light"
     },
     "output_type": "display_data"
    }
   ],
   "source": [
    "plt.figure(figsize = (25,10))\n",
    "plt.subplot(1,2,1)\n",
    "plt.plot(dias,total_cases_all_countrys)\n",
    "plt.xlabel('Días')\n",
    "plt.ylabel('Cantidad de casos')\n",
    "plt.title('Casos de covid con el paso de la pandemia')\n",
    "plt.subplot(1,2,2)\n",
    "casos_principio=total_cases_all_countrys[0:60]\n",
    "dias_principio=dias[0:60]\n",
    "plt.plot(dias_principio,casos_principio)\n",
    "plt.xlabel('Días')\n",
    "plt.ylabel('cantidad de casos')\n",
    "plt.title('Casos de covid durante los primeros 60 dias')\n",
    "plt.show()"
   ]
  },
  {
   "cell_type": "markdown",
   "metadata": {},
   "source": [
    "Nos detenemos en visualizar el comienzo de la pandemia:\n",
    "- en el grafico de la izquierda nos enfocamos en la curva de los primeros 35 dias,\n",
    "- en el grafico de la derecha nos enfocamos en el logaritmo de los casos de los 60 primeros dias."
   ]
  },
  {
   "cell_type": "code",
   "execution_count": 127,
   "metadata": {},
   "outputs": [
    {
     "data": {
      "image/png": "[encoded data removed]",
      "text/plain": [
       "<Figure size 1800x720 with 2 Axes>"
      ]
     },
     "metadata": {
      "needs_background": "light"
     },
     "output_type": "display_data"
    }
   ],
   "source": [
    "casos_principio=total_cases_all_countrys[0:35]\n",
    "dias_principio=dias[0:35]\n",
    "plt.figure(figsize = (25,10))\n",
    "plt.subplot(1,2,1)\n",
    "plt.plot(dias_principio,casos_principio)\n",
    "plt.xlabel('Días')\n",
    "plt.ylabel('Casos de covid durante los primeros 35 dias')\n",
    "plt.title('Muestra 10 paises 35 primeros días')\n",
    "plt.subplot(1,2,2)\n",
    "plt.plot(dias_principio,np.log(casos_principio))\n",
    "plt.xlabel('Días')\n",
    "plt.ylabel('Logaritmo de los casos en los primeros 60 dias')\n",
    "plt.title('Muestra 10 paises 60 primeros días')\n",
    "np.seterr(divide = 'ignore') \n",
    "plt.show()"
   ]
  },
  {
   "cell_type": "markdown",
   "metadata": {},
   "source": [
    "Estimamos el valor de K para nuestro conjunto de 10 paises (nivel global), como lo hicimos en el comienzo de este trabajo"
   ]
  },
  {
   "cell_type": "code",
   "execution_count": 128,
   "metadata": {},
   "outputs": [],
   "source": [
    "#definimos función para ajustar modelo\n",
    "def exponencial(t,k,t0):\n",
    "  C=np.exp(k*(t-t0))\n",
    "  return C"
   ]
  },
  {
   "cell_type": "code",
   "execution_count": 129,
   "metadata": {},
   "outputs": [
    {
     "data": {
      "text/plain": [
       "array([ 0.24156523, -7.89121831])"
      ]
     },
     "execution_count": 129,
     "metadata": {},
     "output_type": "execute_result"
    }
   ],
   "source": [
    "# Ajustamos\n",
    "popt, pcov = curve_fit(exponencial, dias_principio, casos_principio)\n",
    "popt"
   ]
  },
  {
   "cell_type": "code",
   "execution_count": 130,
   "metadata": {},
   "outputs": [
    {
     "data": {
      "text/plain": [
       "Text(0.5, 1.0, 'Valores simulados vs reales - muestra de 10 paises')"
      ]
     },
     "execution_count": 130,
     "metadata": {},
     "output_type": "execute_result"
    },
    {
     "data": {
      "image/png": "[encoded data removed]",
      "text/plain": [
       "<Figure size 432x288 with 1 Axes>"
      ]
     },
     "metadata": {
      "needs_background": "light"
     },
     "output_type": "display_data"
    }
   ],
   "source": [
    "# Vemos como se ajusta lo que obtuvimos en relacion a los datos reales\n",
    "k=popt[0]\n",
    "t0=popt[1]\n",
    "casos_simu=exponencial(dias_principio,k,t0)\n",
    "plt.plot(dias_principio,casos_principio,'.')\n",
    "plt.plot(dias_principio,casos_simu)\n",
    "plt.xlabel('Dias')\n",
    "plt.ylabel('Cantidad de casos')\n",
    "plt.title('Valores simulados vs reales - muestra de 10 paises')"
   ]
  },
  {
   "cell_type": "code",
   "execution_count": 131,
   "metadata": {},
   "outputs": [
    {
     "data": {
      "text/plain": [
       "0.00660157541181064"
      ]
     },
     "execution_count": 131,
     "metadata": {},
     "output_type": "execute_result"
    }
   ],
   "source": [
    "# Calculamos el desvio estandar\n",
    "np.sqrt(pcov[0][0])"
   ]
  },
  {
   "cell_type": "code",
   "execution_count": 132,
   "metadata": {},
   "outputs": [
    {
     "name": "stdout",
     "output_type": "stream",
     "text": [
      "[0.23937812295768796, 0.24375233300269505]\n"
     ]
    }
   ],
   "source": [
    "# Calculamos el intervalo de confianza\n",
    "z=1.96\n",
    "n=35\n",
    "intervalo_de_confianza=[popt[0]-z*np.sqrt(pcov[0][0])/np.sqrt(n),popt[0]+z*np.sqrt(pcov[0][0])/np.sqrt(n)]\n",
    "print(intervalo_de_confianza)"
   ]
  },
  {
   "cell_type": "code",
   "execution_count": 133,
   "metadata": {},
   "outputs": [],
   "source": [
    "# Seleccionamos los casos mundiales de nuestro dataset inicial\n",
    "casos_a_nivel_mundial=datos[datos['location']=='World'].groupby('date')['total_cases'].sum().reset_index()"
   ]
  },
  {
   "cell_type": "code",
   "execution_count": 134,
   "metadata": {},
   "outputs": [
    {
     "data": {
      "text/plain": [
       "<matplotlib.legend.Legend at 0x7fe283305430>"
      ]
     },
     "execution_count": 134,
     "metadata": {},
     "output_type": "execute_result"
    },
    {
     "data": {
      "image/png": "[encoded data removed]",
      "text/plain": [
       "<Figure size 432x288 with 1 Axes>"
      ]
     },
     "metadata": {
      "needs_background": "light"
     },
     "output_type": "display_data"
    }
   ],
   "source": [
    "k=popt[0]\n",
    "t0=popt[1]\n",
    "casos_simu=exponencial(dias_principio,k,t0)\n",
    "plt.plot(dias_principio,casos_a_nivel_mundial['total_cases'][0:35].to_numpy(),'--')\n",
    "plt.plot(dias_principio,casos_principio,'.')\n",
    "plt.plot(dias_principio,casos_simu)\n",
    "plt.xlabel('Dias')\n",
    "plt.ylabel('Cantidad de casos')\n",
    "plt.title('Valores simulados vs reales - muestra 10 paises')\n",
    "plt.legend(('Casos mundiales', 'Casos muestra','Curva ajustada'))"
   ]
  },
  {
   "cell_type": "code",
   "execution_count": 135,
   "metadata": {},
   "outputs": [
    {
     "data": {
      "text/plain": [
       "277619.63029966404"
      ]
     },
     "execution_count": 135,
     "metadata": {},
     "output_type": "execute_result"
    }
   ],
   "source": [
    "# Calculamos nuestro error cuadratico medio\n",
    "from sklearn.metrics import mean_squared_error\n",
    "y_true = casos_principio\n",
    "y_pred = casos_simu\n",
    "mse = mean_squared_error(y_true, y_pred)\n",
    "mse"
   ]
  },
  {
   "cell_type": "code",
   "execution_count": 136,
   "metadata": {},
   "outputs": [
    {
     "name": "stdout",
     "output_type": "stream",
     "text": [
      "526.8962234630877\n"
     ]
    }
   ],
   "source": [
    "import math\n",
    "RMSE=math.sqrt(mse)\n",
    "print(RMSE)"
   ]
  },
  {
   "cell_type": "code",
   "execution_count": 137,
   "metadata": {},
   "outputs": [
    {
     "data": {
      "text/plain": [
       "0.9923590815273321"
      ]
     },
     "execution_count": 137,
     "metadata": {},
     "output_type": "execute_result"
    }
   ],
   "source": [
    "# Vamos a calcular nuestro coeficiente de determinación\n",
    "from sklearn.metrics import r2_score\n",
    "coefficient_of_dermination = r2_score(y_true,y_pred)\n",
    "coefficient_of_dermination"
   ]
  },
  {
   "cell_type": "markdown",
   "metadata": {},
   "source": [
    "# Evaluando Estrategias"
   ]
  },
  {
   "cell_type": "markdown",
   "metadata": {},
   "source": [
    "Se eligira a continuacion una politica publica para analizar sobre 5 paises que la hayan implementado y otros 5 paises que no la hayan implementado. \n",
    "Se eligiran tambien 3 indicadores asociados a esa politica publica que ayuden a construir un clasificador."
   ]
  },
  {
   "cell_type": "markdown",
   "metadata": {},
   "source": [
    "Se elige **la implementacion de una cuarentena estricta o no** como politica publica. \n",
    "\n",
    "Esta politica hace referencia a la columna **stringency_index** de nuestro dataset, la cual detalla: ¨Government Response Stringency Index: composite measure based on 9 response indicators including school closures, workplace closures, and travel bans, rescaled to a value from 0 to 100 (100 = strictest response)¨\n",
    "Esta columna representa un **índice de rigurosidad** de la respuesta que dio cada gobierno frente a la pandemia. Es una **medida compuesta basada en 9 indicadores de respuesta** incluidos:\n",
    "- cierres de escuelas, cierres de lugares de trabajo y prohibiciones de viaje, reescalado a un valor de 0 a 100 (100 = respuesta más estricta). \n",
    "Es decir, con esta columna, podemos tener una **medida o indice de restricción de actividades en cada país**."
   ]
  },
  {
   "cell_type": "markdown",
   "metadata": {},
   "source": [
    "Se eligen los siguientes indicadores de dicha politica:\n",
    "\n",
    "1. **Cantidad de muertes**: cantidad de personas que murieron en un período de tiempo.\n",
    "2. **Cantidad de contagios**: cantidad de personas que se contagiaron en un período de tiempo.\n",
    "3. **Valor de k**: ver en que punto en el tiempo aumenta o baja el valor de stringency index.\n",
    "\n",
    "Fueron elegidos dichos indicadores ya que estan muy relacionados con la politica publicada elegida, ya que como lo vivimos en la pandemia, a medida que la gente mas salia a eventos sociales, o se comenzaba a haber mayor movimiento, aumentaban la cantidad de contagios, y tambien se ocupaban mas camas en los hospitales, aumentando asi los porcentajes de ocupacion de los mismos, colapsando los resintos y aumentando la cantidad de muertes en adultos mayores sobre todo."
   ]
  },
  {
   "cell_type": "markdown",
   "metadata": {},
   "source": [
    "Se eligen 5 países que hayan **aplicado medidas restrictivas fuertes**, es decir, una cuarentena más estricta. \n",
    "- Con un **stringency_index > 60**\n",
    "\n",
    "Se eligen tambien 5 países que **no las hayan aplicado** o que hayan sido mas relajados en las mismas.\n",
    "- Con un **stringency_index < 60**"
   ]
  },
  {
   "cell_type": "code",
   "execution_count": 296,
   "metadata": {},
   "outputs": [],
   "source": [
    "# Luego de investigar en internet los paises que hayan aplicado la cuarentena mas estricta y otros que no.\n",
    "muestra_estrategia=['Italy','Argentina', 'China', 'Peru','Mexico','South Africa','Andorra','Thailand', 'Ukraine', 'Bulgaria']"
   ]
  },
  {
   "cell_type": "code",
   "execution_count": 297,
   "metadata": {},
   "outputs": [],
   "source": [
    "#Filtramos nuestros datos usando la mascara\n",
    "datos_muestra_estrategia=datos[datos.location.isin(muestra_estrategia)]"
   ]
  },
  {
   "cell_type": "code",
   "execution_count": 298,
   "metadata": {},
   "outputs": [
    {
     "data": {
      "text/plain": [
       "array(['Andorra', 'Argentina', 'Bulgaria', 'China', 'Italy', 'Mexico',\n",
       "       'Peru', 'South Africa', 'Thailand', 'Ukraine'], dtype=object)"
      ]
     },
     "execution_count": 298,
     "metadata": {},
     "output_type": "execute_result"
    }
   ],
   "source": [
    "# Chequeamos que el filtrado se haya hecho de la forma deseada\n",
    "datos_muestra_estrategia['location'].unique()"
   ]
  },
  {
   "cell_type": "code",
   "execution_count": 299,
   "metadata": {},
   "outputs": [],
   "source": [
    "# Separamos los datos por países con mayor cuarentena\n",
    "muestra_estrategia_Italy = datos_muestra_estrategia[datos_muestra_estrategia.location.isin(['Italy'])]\n",
    "muestra_estrategia_Argentina = datos_muestra_estrategia[datos_muestra_estrategia.location.isin(['Argentina'])]\n",
    "muestra_estrategia_China = datos_muestra_estrategia[datos_muestra_estrategia.location.isin(['China'])]\n",
    "muestra_estrategia_Peru = datos_muestra_estrategia[datos_muestra_estrategia.location.isin(['Peru'])]\n",
    "muestra_estrategia_Mexico = datos_muestra_estrategia[datos_muestra_estrategia.location.isin(['Mexico'])]\n",
    "\n",
    "# Separamos los datos por países con menor cuarentena\n",
    "muestra_estrategia_SA = datos_muestra_estrategia[datos_muestra_estrategia.location.isin(['South Africa'])]\n",
    "muestra_estrategia_Andorra = datos_muestra_estrategia[datos_muestra_estrategia.location.isin(['Andorra'])]\n",
    "muestra_estrategia_Thailand = datos_muestra_estrategia[datos_muestra_estrategia.location.isin(['Thailand'])]\n",
    "muestra_estrategia_Ukraine = datos_muestra_estrategia[datos_muestra_estrategia.location.isin(['Ukraine'])]\n",
    "muestra_estrategia_Bulgaria = datos_muestra_estrategia[datos_muestra_estrategia.location.isin(['Bulgaria'])]"
   ]
  },
  {
   "cell_type": "code",
   "execution_count": 301,
   "metadata": {},
   "outputs": [
    {
     "name": "stdout",
     "output_type": "stream",
     "text": [
      "-----------------\n",
      "Argentina:  79.17\n",
      "China:  78.24\n",
      "Peru:  75.93\n",
      "Italy:  72.22\n",
      "Mexico:  68.98\n",
      "-----------------\n",
      "SA:  51.85\n",
      "Thailand:  52.78\n",
      "Ukraine:  58.8\n",
      "Andorra:  50.925\n",
      "Bulgaria:  50.93\n"
     ]
    }
   ],
   "source": [
    "# Calculamos la mediana de la columna stringency_index para cada país.\n",
    "# Para asegurarnos de que haya elegido bien 5 países con cuarentena estricta y 5 con cuarentena más relajada.\n",
    "#+60\n",
    "print('-----------------')\n",
    "print('Argentina: ', muestra_estrategia_Argentina['stringency_index'].median())\n",
    "print('China: ', muestra_estrategia_China['stringency_index'].median())\n",
    "print('Peru: ', muestra_estrategia_Peru['stringency_index'].median())\n",
    "print('Italy: ', muestra_estrategia_Italy['stringency_index'].median())\n",
    "print('Mexico: ', muestra_estrategia_Mexico['stringency_index'].median())\n",
    "\n",
    "print('-----------------')\n",
    "#-60\n",
    "print('SA: ', muestra_estrategia_SA['stringency_index'].median())\n",
    "print('Thailand: ', muestra_estrategia_Thailand['stringency_index'].median())\n",
    "print('Ukraine: ', muestra_estrategia_Ukraine['stringency_index'].median())\n",
    "print('Andorra: ', muestra_estrategia_Andorra['stringency_index'].median())\n",
    "print('Bulgaria: ', muestra_estrategia_Bulgaria['stringency_index'].median())"
   ]
  },
  {
   "cell_type": "markdown",
   "metadata": {},
   "source": [
    "Verificamos que la mediana stringency_index sea < 60 (menos cuarentena) y > 60 (más cuarentena), para asegurarnos que elegimos los 5 paises con cuarentena mas estrictica y los 5 con cuarentena mas relajada. Ya que puede variar con el paso del tiempo este valor.\n",
    "\n",
    "Entonces tenemos 5 países con cuanrentena mas estricta:\n",
    "\n",
    " 1. Argentina\n",
    " 2. China\n",
    " 3. Peru\n",
    " 4. Italy\n",
    " 5. Mexico\n",
    "\n",
    "Y 5 países con cuarentena menos estricta:\n",
    " 1. Bulgaria\n",
    " 2. SA\n",
    " 3. Thailand\n",
    " 4. Andorra\n",
    " 5. Ukraine"
   ]
  },
  {
   "cell_type": "code",
   "execution_count": 302,
   "metadata": {},
   "outputs": [
    {
     "data": {
      "text/html": [
       "<div>\n",
       "<style scoped>\n",
       "    .dataframe tbody tr th:only-of-type {\n",
       "        vertical-align: middle;\n",
       "    }\n",
       "\n",
       "    .dataframe tbody tr th {\n",
       "        vertical-align: top;\n",
       "    }\n",
       "\n",
       "    .dataframe thead th {\n",
       "        text-align: right;\n",
       "    }\n",
       "</style>\n",
       "<table border=\"1\" class=\"dataframe\">\n",
       "  <thead>\n",
       "    <tr style=\"text-align: right;\">\n",
       "      <th></th>\n",
       "      <th>stringency_index</th>\n",
       "      <th>date</th>\n",
       "      <th>location</th>\n",
       "      <th>total_cases</th>\n",
       "      <th>total_deaths</th>\n",
       "    </tr>\n",
       "  </thead>\n",
       "  <tbody>\n",
       "    <tr>\n",
       "      <th>2289</th>\n",
       "      <td>0.0</td>\n",
       "      <td>2020-03-02</td>\n",
       "      <td>Andorra</td>\n",
       "      <td>1.0</td>\n",
       "      <td>NaN</td>\n",
       "    </tr>\n",
       "    <tr>\n",
       "      <th>2290</th>\n",
       "      <td>0.0</td>\n",
       "      <td>2020-03-03</td>\n",
       "      <td>Andorra</td>\n",
       "      <td>1.0</td>\n",
       "      <td>NaN</td>\n",
       "    </tr>\n",
       "    <tr>\n",
       "      <th>2291</th>\n",
       "      <td>0.0</td>\n",
       "      <td>2020-03-04</td>\n",
       "      <td>Andorra</td>\n",
       "      <td>1.0</td>\n",
       "      <td>NaN</td>\n",
       "    </tr>\n",
       "    <tr>\n",
       "      <th>2292</th>\n",
       "      <td>0.0</td>\n",
       "      <td>2020-03-05</td>\n",
       "      <td>Andorra</td>\n",
       "      <td>1.0</td>\n",
       "      <td>NaN</td>\n",
       "    </tr>\n",
       "    <tr>\n",
       "      <th>2293</th>\n",
       "      <td>0.0</td>\n",
       "      <td>2020-03-06</td>\n",
       "      <td>Andorra</td>\n",
       "      <td>1.0</td>\n",
       "      <td>NaN</td>\n",
       "    </tr>\n",
       "    <tr>\n",
       "      <th>...</th>\n",
       "      <td>...</td>\n",
       "      <td>...</td>\n",
       "      <td>...</td>\n",
       "      <td>...</td>\n",
       "      <td>...</td>\n",
       "    </tr>\n",
       "    <tr>\n",
       "      <th>109704</th>\n",
       "      <td>NaN</td>\n",
       "      <td>2021-09-11</td>\n",
       "      <td>Ukraine</td>\n",
       "      <td>2416739.0</td>\n",
       "      <td>57735.0</td>\n",
       "    </tr>\n",
       "    <tr>\n",
       "      <th>109705</th>\n",
       "      <td>NaN</td>\n",
       "      <td>2021-09-12</td>\n",
       "      <td>Ukraine</td>\n",
       "      <td>2419254.0</td>\n",
       "      <td>57772.0</td>\n",
       "    </tr>\n",
       "    <tr>\n",
       "      <th>109706</th>\n",
       "      <td>NaN</td>\n",
       "      <td>2021-09-13</td>\n",
       "      <td>Ukraine</td>\n",
       "      <td>2420776.0</td>\n",
       "      <td>57797.0</td>\n",
       "    </tr>\n",
       "    <tr>\n",
       "      <th>109707</th>\n",
       "      <td>NaN</td>\n",
       "      <td>2021-09-14</td>\n",
       "      <td>Ukraine</td>\n",
       "      <td>2424416.0</td>\n",
       "      <td>57913.0</td>\n",
       "    </tr>\n",
       "    <tr>\n",
       "      <th>109708</th>\n",
       "      <td>NaN</td>\n",
       "      <td>2021-09-15</td>\n",
       "      <td>Ukraine</td>\n",
       "      <td>2429354.0</td>\n",
       "      <td>58025.0</td>\n",
       "    </tr>\n",
       "  </tbody>\n",
       "</table>\n",
       "<p>5959 rows × 5 columns</p>\n",
       "</div>"
      ],
      "text/plain": [
       "        stringency_index        date location  total_cases  total_deaths\n",
       "2289                 0.0  2020-03-02  Andorra          1.0           NaN\n",
       "2290                 0.0  2020-03-03  Andorra          1.0           NaN\n",
       "2291                 0.0  2020-03-04  Andorra          1.0           NaN\n",
       "2292                 0.0  2020-03-05  Andorra          1.0           NaN\n",
       "2293                 0.0  2020-03-06  Andorra          1.0           NaN\n",
       "...                  ...         ...      ...          ...           ...\n",
       "109704               NaN  2021-09-11  Ukraine    2416739.0       57735.0\n",
       "109705               NaN  2021-09-12  Ukraine    2419254.0       57772.0\n",
       "109706               NaN  2021-09-13  Ukraine    2420776.0       57797.0\n",
       "109707               NaN  2021-09-14  Ukraine    2424416.0       57913.0\n",
       "109708               NaN  2021-09-15  Ukraine    2429354.0       58025.0\n",
       "\n",
       "[5959 rows x 5 columns]"
      ]
     },
     "execution_count": 302,
     "metadata": {},
     "output_type": "execute_result"
    }
   ],
   "source": [
    "# Visualizamos algunas columnas importantes que nos van a servir en el análisis de la estrategia de la cuarentena.\n",
    "datos_muestra_estrategia[['stringency_index', 'date', 'location', 'total_cases', 'total_deaths']]"
   ]
  },
  {
   "cell_type": "markdown",
   "metadata": {},
   "source": [
    "Ahora vamos a medir los **indicadores** que definimos para elaborar modelos de regresión logística y poder usarlos en clasificaciones de otros países."
   ]
  },
  {
   "cell_type": "code",
   "execution_count": 303,
   "metadata": {},
   "outputs": [],
   "source": [
    "# Vamos limpiar los valores nulos en las columnas \"location\", \"date\" y \"total cases\" para poder luego hacer una correcta estimacion de k \n",
    "datos_muestra_estrategia.dropna(subset=['location', 'date', 'total_cases'], inplace=True)"
   ]
  },
  {
   "cell_type": "code",
   "execution_count": 304,
   "metadata": {},
   "outputs": [
    {
     "name": "stdout",
     "output_type": "stream",
     "text": [
      "Estimación de k:\n",
      "\n",
      "Italy 0.10163528268134861\n",
      "Argentina 0.05358992244752079\n",
      "China 0.022740241808069196\n",
      "Peru 0.08495862650057154\n",
      "Mexico 0.08932497085479926\n",
      "South Africa 0.05584129629375488\n",
      "Andorra 0.03829067355057464\n",
      "Thailand 0.16829201753914882\n",
      "Ukraine 0.0773958610661201\n",
      "Bulgaria 0.04582837139518682\n"
     ]
    }
   ],
   "source": [
    "# Comenzando midiendo el valor de K, nuestro factor de contagiabilidad.\n",
    "print(\"Estimación de k:\")\n",
    "print(\"\")\n",
    "Estimacion_K=[]\n",
    "Estimacion_Desvio=[]\n",
    "Coef_variacion=[]\n",
    "Cant_test=[]\n",
    "Muerte=[]\n",
    "Cant_confirmados=[]\n",
    "for i in range(0,len(muestra_estrategia)):\n",
    "    popt, pcov = curve_fit(exponencial, dias[0:60], datos_muestra_estrategia[datos_muestra_estrategia['location']==muestra_estrategia[i]].groupby('date')['total_cases'].sum()[0:60])\n",
    "    print(muestra_estrategia[i],popt[0])\n",
    "    Estimacion_K.append(popt[0])\n",
    "    Estimacion_Desvio.append(np.sqrt(pcov[0][0]))\n",
    "    Coef_variacion.append(np.sqrt(pcov[0][0])/ abs(popt[0]))\n",
    "    muertes_i=pd.DataFrame(datos_muestra_estrategia[datos_muestra_estrategia['location']==muestra_estrategia[i]].groupby('location')['total_deaths'].sum()[0:60])\n",
    "    muertes_i.reset_index(inplace=True)\n",
    "    Muerte.append(muertes_i.loc[0,'total_deaths']) \n",
    "    \n",
    "    test_i=pd.DataFrame(datos_muestra_estrategia[datos_muestra_estrategia['location']==muestra_estrategia[i]].groupby('location')['total_tests'].sum()[0:60])\n",
    "    test_i.reset_index(inplace=True)\n",
    "    Cant_test.append(test_i.loc[0,'total_tests']) \n",
    "    \n",
    "    confirmados_i=pd.DataFrame(datos_muestra_estrategia[datos_muestra_estrategia['location']==muestra_estrategia[i]].groupby('location')['total_cases'].sum()[0:60])\n",
    "    confirmados_i.reset_index(inplace=True)\n",
    "    Cant_confirmados.append(test_i.loc[0,'total_tests']) \n",
    "    "
   ]
  },
  {
   "cell_type": "code",
   "execution_count": 305,
   "metadata": {},
   "outputs": [],
   "source": [
    "# Vamos a armar un array de los targets entre 0 y 1 para el array de paises ordenado que elegimos\n",
    "Target=[1,1,1,1,1,0,0,0,0,0]"
   ]
  },
  {
   "cell_type": "code",
   "execution_count": 306,
   "metadata": {},
   "outputs": [
    {
     "data": {
      "text/html": [
       "<div>\n",
       "<style scoped>\n",
       "    .dataframe tbody tr th:only-of-type {\n",
       "        vertical-align: middle;\n",
       "    }\n",
       "\n",
       "    .dataframe tbody tr th {\n",
       "        vertical-align: top;\n",
       "    }\n",
       "\n",
       "    .dataframe thead th {\n",
       "        text-align: right;\n",
       "    }\n",
       "</style>\n",
       "<table border=\"1\" class=\"dataframe\">\n",
       "  <thead>\n",
       "    <tr style=\"text-align: right;\">\n",
       "      <th></th>\n",
       "      <th>Pais</th>\n",
       "      <th>Valor_K</th>\n",
       "      <th>Desvio</th>\n",
       "      <th>Coef_variacion</th>\n",
       "      <th>Cant_test</th>\n",
       "      <th>Cant_muertes</th>\n",
       "      <th>cant_confirmados</th>\n",
       "      <th>Target</th>\n",
       "    </tr>\n",
       "  </thead>\n",
       "  <tbody>\n",
       "    <tr>\n",
       "      <th>0</th>\n",
       "      <td>Italy</td>\n",
       "      <td>0.101635</td>\n",
       "      <td>0.003067</td>\n",
       "      <td>0.030179</td>\n",
       "      <td>17709273303.0</td>\n",
       "      <td>39956999.0</td>\n",
       "      <td>17709273303.0</td>\n",
       "      <td>1</td>\n",
       "    </tr>\n",
       "    <tr>\n",
       "      <th>1</th>\n",
       "      <td>Argentina</td>\n",
       "      <td>0.05359</td>\n",
       "      <td>0.001899</td>\n",
       "      <td>0.03543</td>\n",
       "      <td>2744585551.0</td>\n",
       "      <td>23067660.0</td>\n",
       "      <td>2744585551.0</td>\n",
       "      <td>1</td>\n",
       "    </tr>\n",
       "    <tr>\n",
       "      <th>2</th>\n",
       "      <td>China</td>\n",
       "      <td>0.02274</td>\n",
       "      <td>0.002548</td>\n",
       "      <td>0.112053</td>\n",
       "      <td>250000000.0</td>\n",
       "      <td>2595192.0</td>\n",
       "      <td>250000000.0</td>\n",
       "      <td>1</td>\n",
       "    </tr>\n",
       "    <tr>\n",
       "      <th>3</th>\n",
       "      <td>Peru</td>\n",
       "      <td>0.084959</td>\n",
       "      <td>0.001696</td>\n",
       "      <td>0.01996</td>\n",
       "      <td>1016456855.0</td>\n",
       "      <td>56526283.0</td>\n",
       "      <td>1016456855.0</td>\n",
       "      <td>1</td>\n",
       "    </tr>\n",
       "    <tr>\n",
       "      <th>4</th>\n",
       "      <td>Mexico</td>\n",
       "      <td>0.089325</td>\n",
       "      <td>0.001201</td>\n",
       "      <td>0.013443</td>\n",
       "      <td>2012285135.0</td>\n",
       "      <td>69410987.0</td>\n",
       "      <td>2012285135.0</td>\n",
       "      <td>1</td>\n",
       "    </tr>\n",
       "    <tr>\n",
       "      <th>5</th>\n",
       "      <td>South Africa</td>\n",
       "      <td>0.055841</td>\n",
       "      <td>0.001331</td>\n",
       "      <td>0.023827</td>\n",
       "      <td>3666688798.0</td>\n",
       "      <td>17829803.0</td>\n",
       "      <td>3666688798.0</td>\n",
       "      <td>0</td>\n",
       "    </tr>\n",
       "    <tr>\n",
       "      <th>6</th>\n",
       "      <td>Andorra</td>\n",
       "      <td>0.038291</td>\n",
       "      <td>0.00296</td>\n",
       "      <td>0.077303</td>\n",
       "      <td>6694711.0</td>\n",
       "      <td>46052.0</td>\n",
       "      <td>6694711.0</td>\n",
       "      <td>0</td>\n",
       "    </tr>\n",
       "    <tr>\n",
       "      <th>7</th>\n",
       "      <td>Thailand</td>\n",
       "      <td>0.168292</td>\n",
       "      <td>0.01188</td>\n",
       "      <td>0.070594</td>\n",
       "      <td>1774386928.0</td>\n",
       "      <td>641171.0</td>\n",
       "      <td>1774386928.0</td>\n",
       "      <td>0</td>\n",
       "    </tr>\n",
       "    <tr>\n",
       "      <th>8</th>\n",
       "      <td>Ukraine</td>\n",
       "      <td>0.077396</td>\n",
       "      <td>0.002166</td>\n",
       "      <td>0.02798</td>\n",
       "      <td>2314150716.0</td>\n",
       "      <td>12263207.0</td>\n",
       "      <td>2314150716.0</td>\n",
       "      <td>0</td>\n",
       "    </tr>\n",
       "    <tr>\n",
       "      <th>9</th>\n",
       "      <td>Bulgaria</td>\n",
       "      <td>0.045828</td>\n",
       "      <td>0.001215</td>\n",
       "      <td>0.026512</td>\n",
       "      <td>577829902.0</td>\n",
       "      <td>4183916.0</td>\n",
       "      <td>577829902.0</td>\n",
       "      <td>0</td>\n",
       "    </tr>\n",
       "  </tbody>\n",
       "</table>\n",
       "</div>"
      ],
      "text/plain": [
       "           Pais   Valor_K    Desvio Coef_variacion      Cant_test Cant_muertes cant_confirmados Target\n",
       "0         Italy  0.101635  0.003067       0.030179  17709273303.0   39956999.0    17709273303.0      1\n",
       "1     Argentina   0.05359  0.001899        0.03543   2744585551.0   23067660.0     2744585551.0      1\n",
       "2         China   0.02274  0.002548       0.112053    250000000.0    2595192.0      250000000.0      1\n",
       "3          Peru  0.084959  0.001696        0.01996   1016456855.0   56526283.0     1016456855.0      1\n",
       "4        Mexico  0.089325  0.001201       0.013443   2012285135.0   69410987.0     2012285135.0      1\n",
       "5  South Africa  0.055841  0.001331       0.023827   3666688798.0   17829803.0     3666688798.0      0\n",
       "6       Andorra  0.038291   0.00296       0.077303      6694711.0      46052.0        6694711.0      0\n",
       "7      Thailand  0.168292   0.01188       0.070594   1774386928.0     641171.0     1774386928.0      0\n",
       "8       Ukraine  0.077396  0.002166        0.02798   2314150716.0   12263207.0     2314150716.0      0\n",
       "9      Bulgaria  0.045828  0.001215       0.026512    577829902.0    4183916.0      577829902.0      0"
      ]
     },
     "execution_count": 306,
     "metadata": {},
     "output_type": "execute_result"
    }
   ],
   "source": [
    "# Armamos una tabla con la informacion calculada\n",
    "tabla_resultados_estrategia=pd.DataFrame([muestra_estrategia,Estimacion_K,Estimacion_Desvio,Coef_variacion,Cant_test,Muerte,Cant_confirmados,Target], index=['Pais', 'Valor_K','Desvio','Coef_variacion','Cant_test' ,'Cant_muertes','cant_confirmados','Target']).T\n",
    "tabla_resultados_estrategia"
   ]
  },
  {
   "cell_type": "code",
   "execution_count": 309,
   "metadata": {},
   "outputs": [
    {
     "data": {
      "text/plain": [
       "array([4.5439974e+04, 6.7891326e-05])"
      ]
     },
     "execution_count": 309,
     "metadata": {},
     "output_type": "execute_result"
    }
   ],
   "source": [
    "# A continuación, vamos a probar el coeficiente de variación que relaciona la mediana y el desvio\n",
    "def sigmoidea(x,x0, k):\n",
    "    y = 1 / (1 + np.exp(-k*(x-x0)))\n",
    "    return (y)\n",
    "\n",
    "p0 = [ np.median(np.array(tabla_resultados_estrategia['Target'])),1]\n",
    "\n",
    "popt, pcov = curve_fit(sigmoidea, np.array(tabla_resultados_estrategia['Target']), np.array(tabla_resultados_estrategia['Coef_variacion']),p0, method='dogbox', maxfev=1000)\n",
    "popt"
   ]
  },
  {
   "cell_type": "code",
   "execution_count": 310,
   "metadata": {},
   "outputs": [
    {
     "data": {
      "text/plain": [
       "Text(0.5, 1.0, 'Regresión logistica - Variable explicativa: Coeficiente de Variación')"
      ]
     },
     "execution_count": 310,
     "metadata": {},
     "output_type": "execute_result"
    },
    {
     "data": {
      "image/png": "[encoded data removed]",
      "text/plain": [
       "<Figure size 432x288 with 1 Axes>"
      ]
     },
     "metadata": {
      "needs_background": "light"
     },
     "output_type": "display_data"
    }
   ],
   "source": [
    "sigmoidea=np.vectorize(sigmoidea) # para hacer barrido por indices\n",
    "x_plot=np.arange(min(np.array(tabla_resultados_estrategia['Target'])),max(np.array(tabla_resultados_estrategia['Target'])),0.1)\n",
    "edad_ajustada=sigmoidea(x_plot,popt[0],popt[1])\n",
    "\n",
    "plt.plot(np.array(tabla_resultados_estrategia['Target']),np.array(tabla_resultados_estrategia['Coef_variacion']),'.',label=\"Datos\")\n",
    "plt.plot(x_plot,edad_ajustada,label=\"Ajuste\")\n",
    "plt.legend()\n",
    "plt.xlabel('Target')\n",
    "plt.ylabel('Coeficiente de Variación')\n",
    "plt.title('Regresión logistica - Variable explicativa: Coeficiente de Variación')"
   ]
  },
  {
   "cell_type": "code",
   "execution_count": 311,
   "metadata": {},
   "outputs": [
    {
     "name": "stdout",
     "output_type": "stream",
     "text": [
      "[8.01854057e+04 3.15504974e-05]\n"
     ]
    }
   ],
   "source": [
    "# Ahora vamos a probar con la variación de k\n",
    "# Regresión logistica - Variable explicativa: Valor de K\n",
    "\n",
    "def sigmoidea(x,x0, k):\n",
    "    y = 1 / (1 + np.exp(-k*(x-x0)))\n",
    "    return (y)\n",
    "\n",
    "p0 = [ np.median(np.array(tabla_resultados_estrategia['Target'])),1]\n",
    "\n",
    "popt, pcov = curve_fit(sigmoidea, np.array(tabla_resultados_estrategia['Target']), np.array(tabla_resultados_estrategia['Valor_K']),p0, method='dogbox', maxfev=5000)\n",
    "print(popt)"
   ]
  },
  {
   "cell_type": "code",
   "execution_count": 312,
   "metadata": {},
   "outputs": [
    {
     "data": {
      "text/plain": [
       "Text(0.5, 1.0, 'Regresión logistica - Variable explicativa: Valor de K')"
      ]
     },
     "execution_count": 312,
     "metadata": {},
     "output_type": "execute_result"
    },
    {
     "data": {
      "image/png": "[encoded data removed]",
      "text/plain": [
       "<Figure size 432x288 with 1 Axes>"
      ]
     },
     "metadata": {
      "needs_background": "light"
     },
     "output_type": "display_data"
    }
   ],
   "source": [
    "sigmoidea=np.vectorize(sigmoidea) #asi puedo poner un x que sea vector y sabe que tiene que hacer el barrido por indices\n",
    "x_plot=np.arange(min(np.array(tabla_resultados_estrategia['Target'])),max(np.array(tabla_resultados_estrategia['Target'])),0.1)\n",
    "edad_ajustada=sigmoidea(x_plot,popt[0],popt[1])\n",
    "\n",
    "plt.plot(np.array(tabla_resultados_estrategia['Target']), np.array(tabla_resultados_estrategia['Valor_K']),'.',label=\"Datos\")\n",
    "plt.plot(x_plot,edad_ajustada,label=\"Ajuste\")\n",
    "plt.legend()\n",
    "plt.xlabel('Target')\n",
    "plt.ylabel('Valor_K')\n",
    "plt.title('Regresión logistica - Variable explicativa: Valor de K')"
   ]
  },
  {
   "cell_type": "code",
   "execution_count": 313,
   "metadata": {},
   "outputs": [
    {
     "data": {
      "text/plain": [
       "array([-0.5       ,  0.99405057])"
      ]
     },
     "execution_count": 313,
     "metadata": {},
     "output_type": "execute_result"
    }
   ],
   "source": [
    "# Regresión logistica - Variable explicativa: Cantidad de Muertes\n",
    "# Ahora vamos a probar con el indice cantidad de muertes\n",
    "\n",
    "def sigmoidea(x,x0, k):\n",
    "    y = 1 / (1 + np.exp(-k*(x-x0)))\n",
    "    return (y)\n",
    "\n",
    "p0 = [ np.median(np.array(tabla_resultados_estrategia['Target'])),1]\n",
    "\n",
    "popt, pcov = curve_fit(sigmoidea, np.array(tabla_resultados_estrategia['Target']), np.array(tabla_resultados_estrategia['Cant_muertes']),p0, method='dogbox', maxfev=5000)\n",
    "popt"
   ]
  },
  {
   "cell_type": "code",
   "execution_count": 314,
   "metadata": {},
   "outputs": [
    {
     "data": {
      "text/plain": [
       "Text(0.5, 1.0, 'Regresión logistica - Variable explicativa: Cantidad de Muertes')"
      ]
     },
     "execution_count": 314,
     "metadata": {},
     "output_type": "execute_result"
    },
    {
     "data": {
      "image/png": "[encoded data removed]",
      "text/plain": [
       "<Figure size 432x288 with 1 Axes>"
      ]
     },
     "metadata": {
      "needs_background": "light"
     },
     "output_type": "display_data"
    }
   ],
   "source": [
    "sigmoidea=np.vectorize(sigmoidea) #asi puedo poner un x que sea vector y sabe que tiene que hacer el barrido por indices\n",
    "x_plot=np.arange(min(np.array(tabla_resultados_estrategia['Target'])),max(np.array(tabla_resultados_estrategia['Target'])),0.1)\n",
    "edad_ajustada=sigmoidea(x_plot,popt[0],popt[1])\n",
    "\n",
    "plt.plot(np.array(tabla_resultados_estrategia['Target']), np.array(tabla_resultados_estrategia['Cant_muertes']),'.',label=\"Datos\")\n",
    "plt.plot(x_plot,edad_ajustada,label=\"Ajuste\")\n",
    "plt.legend()\n",
    "plt.xlabel('Target')\n",
    "plt.ylabel('Cantidad de muertes')\n",
    "plt.title('Regresión logistica - Variable explicativa: Cantidad de Muertes')"
   ]
  },
  {
   "cell_type": "markdown",
   "metadata": {},
   "source": [
    "Y a continuación, vamos a ajustar una regresión logística teniendo en cuenta todos los atributos"
   ]
  },
  {
   "cell_type": "code",
   "execution_count": 315,
   "metadata": {},
   "outputs": [],
   "source": [
    "# Vamos a comenzar creando un nuevo df tabla_resultados_estrategia_2, reseteando el index del mismo teniendo en cuenta el Pais\n",
    "tabla_resultados_estrategia_2=tabla_resultados_estrategia\n",
    "tabla_resultados_estrategia_2.set_index('Pais', inplace=True)"
   ]
  },
  {
   "cell_type": "code",
   "execution_count": 316,
   "metadata": {},
   "outputs": [
    {
     "data": {
      "text/html": [
       "<div>\n",
       "<style scoped>\n",
       "    .dataframe tbody tr th:only-of-type {\n",
       "        vertical-align: middle;\n",
       "    }\n",
       "\n",
       "    .dataframe tbody tr th {\n",
       "        vertical-align: top;\n",
       "    }\n",
       "\n",
       "    .dataframe thead th {\n",
       "        text-align: right;\n",
       "    }\n",
       "</style>\n",
       "<table border=\"1\" class=\"dataframe\">\n",
       "  <thead>\n",
       "    <tr style=\"text-align: right;\">\n",
       "      <th></th>\n",
       "      <th>Valor_K</th>\n",
       "      <th>Desvio</th>\n",
       "      <th>Coef_variacion</th>\n",
       "      <th>Cant_test</th>\n",
       "      <th>Cant_muertes</th>\n",
       "      <th>cant_confirmados</th>\n",
       "      <th>Target</th>\n",
       "    </tr>\n",
       "    <tr>\n",
       "      <th>Pais</th>\n",
       "      <th></th>\n",
       "      <th></th>\n",
       "      <th></th>\n",
       "      <th></th>\n",
       "      <th></th>\n",
       "      <th></th>\n",
       "      <th></th>\n",
       "    </tr>\n",
       "  </thead>\n",
       "  <tbody>\n",
       "    <tr>\n",
       "      <th>Italy</th>\n",
       "      <td>0.101635</td>\n",
       "      <td>0.003067</td>\n",
       "      <td>0.030179</td>\n",
       "      <td>17709273303.0</td>\n",
       "      <td>39956999.0</td>\n",
       "      <td>17709273303.0</td>\n",
       "      <td>1</td>\n",
       "    </tr>\n",
       "    <tr>\n",
       "      <th>Argentina</th>\n",
       "      <td>0.05359</td>\n",
       "      <td>0.001899</td>\n",
       "      <td>0.03543</td>\n",
       "      <td>2744585551.0</td>\n",
       "      <td>23067660.0</td>\n",
       "      <td>2744585551.0</td>\n",
       "      <td>1</td>\n",
       "    </tr>\n",
       "    <tr>\n",
       "      <th>China</th>\n",
       "      <td>0.02274</td>\n",
       "      <td>0.002548</td>\n",
       "      <td>0.112053</td>\n",
       "      <td>250000000.0</td>\n",
       "      <td>2595192.0</td>\n",
       "      <td>250000000.0</td>\n",
       "      <td>1</td>\n",
       "    </tr>\n",
       "    <tr>\n",
       "      <th>Peru</th>\n",
       "      <td>0.084959</td>\n",
       "      <td>0.001696</td>\n",
       "      <td>0.01996</td>\n",
       "      <td>1016456855.0</td>\n",
       "      <td>56526283.0</td>\n",
       "      <td>1016456855.0</td>\n",
       "      <td>1</td>\n",
       "    </tr>\n",
       "    <tr>\n",
       "      <th>Mexico</th>\n",
       "      <td>0.089325</td>\n",
       "      <td>0.001201</td>\n",
       "      <td>0.013443</td>\n",
       "      <td>2012285135.0</td>\n",
       "      <td>69410987.0</td>\n",
       "      <td>2012285135.0</td>\n",
       "      <td>1</td>\n",
       "    </tr>\n",
       "    <tr>\n",
       "      <th>South Africa</th>\n",
       "      <td>0.055841</td>\n",
       "      <td>0.001331</td>\n",
       "      <td>0.023827</td>\n",
       "      <td>3666688798.0</td>\n",
       "      <td>17829803.0</td>\n",
       "      <td>3666688798.0</td>\n",
       "      <td>0</td>\n",
       "    </tr>\n",
       "    <tr>\n",
       "      <th>Andorra</th>\n",
       "      <td>0.038291</td>\n",
       "      <td>0.00296</td>\n",
       "      <td>0.077303</td>\n",
       "      <td>6694711.0</td>\n",
       "      <td>46052.0</td>\n",
       "      <td>6694711.0</td>\n",
       "      <td>0</td>\n",
       "    </tr>\n",
       "    <tr>\n",
       "      <th>Thailand</th>\n",
       "      <td>0.168292</td>\n",
       "      <td>0.01188</td>\n",
       "      <td>0.070594</td>\n",
       "      <td>1774386928.0</td>\n",
       "      <td>641171.0</td>\n",
       "      <td>1774386928.0</td>\n",
       "      <td>0</td>\n",
       "    </tr>\n",
       "    <tr>\n",
       "      <th>Ukraine</th>\n",
       "      <td>0.077396</td>\n",
       "      <td>0.002166</td>\n",
       "      <td>0.02798</td>\n",
       "      <td>2314150716.0</td>\n",
       "      <td>12263207.0</td>\n",
       "      <td>2314150716.0</td>\n",
       "      <td>0</td>\n",
       "    </tr>\n",
       "    <tr>\n",
       "      <th>Bulgaria</th>\n",
       "      <td>0.045828</td>\n",
       "      <td>0.001215</td>\n",
       "      <td>0.026512</td>\n",
       "      <td>577829902.0</td>\n",
       "      <td>4183916.0</td>\n",
       "      <td>577829902.0</td>\n",
       "      <td>0</td>\n",
       "    </tr>\n",
       "  </tbody>\n",
       "</table>\n",
       "</div>"
      ],
      "text/plain": [
       "               Valor_K    Desvio Coef_variacion      Cant_test Cant_muertes cant_confirmados Target\n",
       "Pais                                                                                               \n",
       "Italy         0.101635  0.003067       0.030179  17709273303.0   39956999.0    17709273303.0      1\n",
       "Argentina      0.05359  0.001899        0.03543   2744585551.0   23067660.0     2744585551.0      1\n",
       "China          0.02274  0.002548       0.112053    250000000.0    2595192.0      250000000.0      1\n",
       "Peru          0.084959  0.001696        0.01996   1016456855.0   56526283.0     1016456855.0      1\n",
       "Mexico        0.089325  0.001201       0.013443   2012285135.0   69410987.0     2012285135.0      1\n",
       "South Africa  0.055841  0.001331       0.023827   3666688798.0   17829803.0     3666688798.0      0\n",
       "Andorra       0.038291   0.00296       0.077303      6694711.0      46052.0        6694711.0      0\n",
       "Thailand      0.168292   0.01188       0.070594   1774386928.0     641171.0     1774386928.0      0\n",
       "Ukraine       0.077396  0.002166        0.02798   2314150716.0   12263207.0     2314150716.0      0\n",
       "Bulgaria      0.045828  0.001215       0.026512    577829902.0    4183916.0      577829902.0      0"
      ]
     },
     "execution_count": 316,
     "metadata": {},
     "output_type": "execute_result"
    }
   ],
   "source": [
    "# A continuación podemos ver como queda la tabla con el indice País\n",
    "tabla_resultados_estrategia_2"
   ]
  },
  {
   "cell_type": "code",
   "execution_count": 317,
   "metadata": {},
   "outputs": [],
   "source": [
    "# Calculamos el promedio de las muertes, haciendo cantidad de muertes/cantidad de confirmados\n",
    "tabla_resultados_estrategia_2['prom_muertes']=tabla_resultados_estrategia_2['Cant_muertes']/tabla_resultados_estrategia_2['cant_confirmados']"
   ]
  },
  {
   "cell_type": "code",
   "execution_count": 318,
   "metadata": {},
   "outputs": [
    {
     "data": {
      "text/html": [
       "<div>\n",
       "<style scoped>\n",
       "    .dataframe tbody tr th:only-of-type {\n",
       "        vertical-align: middle;\n",
       "    }\n",
       "\n",
       "    .dataframe tbody tr th {\n",
       "        vertical-align: top;\n",
       "    }\n",
       "\n",
       "    .dataframe thead th {\n",
       "        text-align: right;\n",
       "    }\n",
       "</style>\n",
       "<table border=\"1\" class=\"dataframe\">\n",
       "  <thead>\n",
       "    <tr style=\"text-align: right;\">\n",
       "      <th></th>\n",
       "      <th>Valor_K</th>\n",
       "      <th>Desvio</th>\n",
       "      <th>Coef_variacion</th>\n",
       "      <th>Cant_test</th>\n",
       "      <th>Cant_muertes</th>\n",
       "      <th>cant_confirmados</th>\n",
       "      <th>Target</th>\n",
       "      <th>prom_muertes</th>\n",
       "    </tr>\n",
       "    <tr>\n",
       "      <th>Pais</th>\n",
       "      <th></th>\n",
       "      <th></th>\n",
       "      <th></th>\n",
       "      <th></th>\n",
       "      <th></th>\n",
       "      <th></th>\n",
       "      <th></th>\n",
       "      <th></th>\n",
       "    </tr>\n",
       "  </thead>\n",
       "  <tbody>\n",
       "    <tr>\n",
       "      <th>Italy</th>\n",
       "      <td>0.101635</td>\n",
       "      <td>0.003067</td>\n",
       "      <td>0.030179</td>\n",
       "      <td>17709273303.0</td>\n",
       "      <td>39956999.0</td>\n",
       "      <td>17709273303.0</td>\n",
       "      <td>1</td>\n",
       "      <td>0.002256</td>\n",
       "    </tr>\n",
       "    <tr>\n",
       "      <th>Argentina</th>\n",
       "      <td>0.05359</td>\n",
       "      <td>0.001899</td>\n",
       "      <td>0.03543</td>\n",
       "      <td>2744585551.0</td>\n",
       "      <td>23067660.0</td>\n",
       "      <td>2744585551.0</td>\n",
       "      <td>1</td>\n",
       "      <td>0.008405</td>\n",
       "    </tr>\n",
       "    <tr>\n",
       "      <th>China</th>\n",
       "      <td>0.02274</td>\n",
       "      <td>0.002548</td>\n",
       "      <td>0.112053</td>\n",
       "      <td>250000000.0</td>\n",
       "      <td>2595192.0</td>\n",
       "      <td>250000000.0</td>\n",
       "      <td>1</td>\n",
       "      <td>0.010381</td>\n",
       "    </tr>\n",
       "    <tr>\n",
       "      <th>Peru</th>\n",
       "      <td>0.084959</td>\n",
       "      <td>0.001696</td>\n",
       "      <td>0.01996</td>\n",
       "      <td>1016456855.0</td>\n",
       "      <td>56526283.0</td>\n",
       "      <td>1016456855.0</td>\n",
       "      <td>1</td>\n",
       "      <td>0.055611</td>\n",
       "    </tr>\n",
       "    <tr>\n",
       "      <th>Mexico</th>\n",
       "      <td>0.089325</td>\n",
       "      <td>0.001201</td>\n",
       "      <td>0.013443</td>\n",
       "      <td>2012285135.0</td>\n",
       "      <td>69410987.0</td>\n",
       "      <td>2012285135.0</td>\n",
       "      <td>1</td>\n",
       "      <td>0.034494</td>\n",
       "    </tr>\n",
       "    <tr>\n",
       "      <th>South Africa</th>\n",
       "      <td>0.055841</td>\n",
       "      <td>0.001331</td>\n",
       "      <td>0.023827</td>\n",
       "      <td>3666688798.0</td>\n",
       "      <td>17829803.0</td>\n",
       "      <td>3666688798.0</td>\n",
       "      <td>0</td>\n",
       "      <td>0.004863</td>\n",
       "    </tr>\n",
       "    <tr>\n",
       "      <th>Andorra</th>\n",
       "      <td>0.038291</td>\n",
       "      <td>0.00296</td>\n",
       "      <td>0.077303</td>\n",
       "      <td>6694711.0</td>\n",
       "      <td>46052.0</td>\n",
       "      <td>6694711.0</td>\n",
       "      <td>0</td>\n",
       "      <td>0.006879</td>\n",
       "    </tr>\n",
       "    <tr>\n",
       "      <th>Thailand</th>\n",
       "      <td>0.168292</td>\n",
       "      <td>0.01188</td>\n",
       "      <td>0.070594</td>\n",
       "      <td>1774386928.0</td>\n",
       "      <td>641171.0</td>\n",
       "      <td>1774386928.0</td>\n",
       "      <td>0</td>\n",
       "      <td>0.000361</td>\n",
       "    </tr>\n",
       "    <tr>\n",
       "      <th>Ukraine</th>\n",
       "      <td>0.077396</td>\n",
       "      <td>0.002166</td>\n",
       "      <td>0.02798</td>\n",
       "      <td>2314150716.0</td>\n",
       "      <td>12263207.0</td>\n",
       "      <td>2314150716.0</td>\n",
       "      <td>0</td>\n",
       "      <td>0.005299</td>\n",
       "    </tr>\n",
       "    <tr>\n",
       "      <th>Bulgaria</th>\n",
       "      <td>0.045828</td>\n",
       "      <td>0.001215</td>\n",
       "      <td>0.026512</td>\n",
       "      <td>577829902.0</td>\n",
       "      <td>4183916.0</td>\n",
       "      <td>577829902.0</td>\n",
       "      <td>0</td>\n",
       "      <td>0.007241</td>\n",
       "    </tr>\n",
       "  </tbody>\n",
       "</table>\n",
       "</div>"
      ],
      "text/plain": [
       "               Valor_K    Desvio Coef_variacion      Cant_test Cant_muertes cant_confirmados Target prom_muertes\n",
       "Pais                                                                                                            \n",
       "Italy         0.101635  0.003067       0.030179  17709273303.0   39956999.0    17709273303.0      1     0.002256\n",
       "Argentina      0.05359  0.001899        0.03543   2744585551.0   23067660.0     2744585551.0      1     0.008405\n",
       "China          0.02274  0.002548       0.112053    250000000.0    2595192.0      250000000.0      1     0.010381\n",
       "Peru          0.084959  0.001696        0.01996   1016456855.0   56526283.0     1016456855.0      1     0.055611\n",
       "Mexico        0.089325  0.001201       0.013443   2012285135.0   69410987.0     2012285135.0      1     0.034494\n",
       "South Africa  0.055841  0.001331       0.023827   3666688798.0   17829803.0     3666688798.0      0     0.004863\n",
       "Andorra       0.038291   0.00296       0.077303      6694711.0      46052.0        6694711.0      0     0.006879\n",
       "Thailand      0.168292   0.01188       0.070594   1774386928.0     641171.0     1774386928.0      0     0.000361\n",
       "Ukraine       0.077396  0.002166        0.02798   2314150716.0   12263207.0     2314150716.0      0     0.005299\n",
       "Bulgaria      0.045828  0.001215       0.026512    577829902.0    4183916.0      577829902.0      0     0.007241"
      ]
     },
     "execution_count": 318,
     "metadata": {},
     "output_type": "execute_result"
    }
   ],
   "source": [
    "# Visualizamos esta nueva columna en nuestro dataframe\n",
    "pd.DataFrame(tabla_resultados_estrategia_2)"
   ]
  },
  {
   "cell_type": "code",
   "execution_count": 319,
   "metadata": {},
   "outputs": [
    {
     "data": {
      "text/plain": [
       "(10, 7)"
      ]
     },
     "execution_count": 319,
     "metadata": {},
     "output_type": "execute_result"
    }
   ],
   "source": [
    "# Vamos a implementar el modelo\n",
    "X = np.array(tabla_resultados_estrategia_2.drop(['Target'],1))\n",
    "y = np.array(tabla_resultados_estrategia_2['Target']).astype('int')\n",
    "X.shape"
   ]
  },
  {
   "cell_type": "code",
   "execution_count": 320,
   "metadata": {},
   "outputs": [
    {
     "data": {
      "text/plain": [
       "LogisticRegression()"
      ]
     },
     "execution_count": 320,
     "metadata": {},
     "output_type": "execute_result"
    }
   ],
   "source": [
    "#Ajustamos el modelo en train y test\n",
    "model = linear_model.LogisticRegression()\n",
    "model.fit(X,y)"
   ]
  },
  {
   "cell_type": "code",
   "execution_count": 321,
   "metadata": {},
   "outputs": [],
   "source": [
    "predictions = model.predict(X)\n",
    "predictions_proba = model.predict_proba(X)"
   ]
  },
  {
   "cell_type": "code",
   "execution_count": 322,
   "metadata": {},
   "outputs": [
    {
     "name": "stdout",
     "output_type": "stream",
     "text": [
      "Area bajo la curva: 0.88\n"
     ]
    }
   ],
   "source": [
    "#Area bajo la curva\n",
    "Auc=roc_auc_score(y, pd.DataFrame(predictions_proba)[1])\n",
    "print('Area bajo la curva:',Auc)"
   ]
  },
  {
   "cell_type": "code",
   "execution_count": 323,
   "metadata": {},
   "outputs": [
    {
     "name": "stdout",
     "output_type": "stream",
     "text": [
      "Sin entrenar: ROC AUC=0.500\n",
      "Regresión Logística: ROC AUC=0.880\n"
     ]
    },
    {
     "data": {
      "image/png": "[encoded data removed]",
      "text/plain": [
       "<Figure size 432x288 with 1 Axes>"
      ]
     },
     "metadata": {
      "needs_background": "light"
     },
     "output_type": "display_data"
    }
   ],
   "source": [
    "ns_probs = [0 for _ in range(len(y))]\n",
    "# Entrenamos nuestro modelo de reg log\n",
    "\n",
    "lr_probs = model.predict_proba(X)\n",
    "# Nos quedamos con las probabilidades de la clase positiva (la probabilidad de 1)\n",
    "lr_probs = lr_probs[:, 1]\n",
    "# Calculamos el AUC\n",
    "ns_auc = roc_auc_score(y, ns_probs)\n",
    "lr_auc = roc_auc_score(y, lr_probs)\n",
    "# Imprimimos en pantalla\n",
    "print('Sin entrenar: ROC AUC=%.3f' % (ns_auc))\n",
    "print('Regresión Logística: ROC AUC=%.3f' % (lr_auc))\n",
    "# Calculamos las curvas ROC\n",
    "ns_fpr, ns_tpr, _ = roc_curve(y, ns_probs)\n",
    "lr_fpr, lr_tpr, _ = roc_curve(y, lr_probs)\n",
    "# Pintamos las curvas ROC\n",
    "pyplot.plot(ns_fpr, ns_tpr, linestyle='--', label='Sin entrenar')\n",
    "pyplot.plot(lr_fpr, lr_tpr, marker='.', label='Regresión Logística')\n",
    "# Etiquetas de los ejes\n",
    "pyplot.xlabel('Tasa de Falsos Positivos')\n",
    "pyplot.ylabel('Tasa de Verdaderos Positivos')\n",
    "pyplot.legend()\n",
    "pyplot.show()"
   ]
  },
  {
   "cell_type": "code",
   "execution_count": 324,
   "metadata": {},
   "outputs": [
    {
     "data": {
      "image/png": "[encoded data removed]",
      "text/plain": [
       "<Figure size 432x288 with 1 Axes>"
      ]
     },
     "metadata": {
      "needs_background": "light"
     },
     "output_type": "display_data"
    }
   ],
   "source": [
    "# Vamos a graficar el calculo de las feature importance\n",
    "importance = model.coef_[0]\n",
    "# plot feature importance\n",
    "pyplot.bar([x for x in range(len(importance))], importance)\n",
    "pyplot.show()"
   ]
  },
  {
   "cell_type": "code",
   "execution_count": 325,
   "metadata": {},
   "outputs": [
    {
     "data": {
      "text/html": [
       "<div>\n",
       "<style scoped>\n",
       "    .dataframe tbody tr th:only-of-type {\n",
       "        vertical-align: middle;\n",
       "    }\n",
       "\n",
       "    .dataframe tbody tr th {\n",
       "        vertical-align: top;\n",
       "    }\n",
       "\n",
       "    .dataframe thead th {\n",
       "        text-align: right;\n",
       "    }\n",
       "</style>\n",
       "<table border=\"1\" class=\"dataframe\">\n",
       "  <thead>\n",
       "    <tr style=\"text-align: right;\">\n",
       "      <th></th>\n",
       "      <th>Attribute</th>\n",
       "      <th>Importance</th>\n",
       "    </tr>\n",
       "  </thead>\n",
       "  <tbody>\n",
       "    <tr>\n",
       "      <th>0</th>\n",
       "      <td>Valor_K</td>\n",
       "      <td>-8.161333e-17</td>\n",
       "    </tr>\n",
       "    <tr>\n",
       "      <th>1</th>\n",
       "      <td>Desvio</td>\n",
       "      <td>-6.481427e-18</td>\n",
       "    </tr>\n",
       "    <tr>\n",
       "      <th>2</th>\n",
       "      <td>Coef_variacion</td>\n",
       "      <td>-3.011499e-17</td>\n",
       "    </tr>\n",
       "    <tr>\n",
       "      <th>3</th>\n",
       "      <td>Cant_test</td>\n",
       "      <td>-2.256555e-11</td>\n",
       "    </tr>\n",
       "    <tr>\n",
       "      <th>4</th>\n",
       "      <td>Cant_muertes</td>\n",
       "      <td>4.981186e-08</td>\n",
       "    </tr>\n",
       "    <tr>\n",
       "      <th>5</th>\n",
       "      <td>cant_confirmados</td>\n",
       "      <td>-2.256555e-11</td>\n",
       "    </tr>\n",
       "    <tr>\n",
       "      <th>6</th>\n",
       "      <td>prom_muertes</td>\n",
       "      <td>3.485825e-17</td>\n",
       "    </tr>\n",
       "  </tbody>\n",
       "</table>\n",
       "</div>"
      ],
      "text/plain": [
       "          Attribute    Importance\n",
       "0           Valor_K -8.161333e-17\n",
       "1            Desvio -6.481427e-18\n",
       "2    Coef_variacion -3.011499e-17\n",
       "3         Cant_test -2.256555e-11\n",
       "4      Cant_muertes  4.981186e-08\n",
       "5  cant_confirmados -2.256555e-11\n",
       "6      prom_muertes  3.485825e-17"
      ]
     },
     "execution_count": 325,
     "metadata": {},
     "output_type": "execute_result"
    }
   ],
   "source": [
    "# Y a continuacion podemos ver cada atributo con su respectiva importance\n",
    "importances = pd.DataFrame(data={\n",
    "    'Attribute': tabla_resultados_estrategia_2[['Valor_K', 'Desvio', 'Coef_variacion', 'Cant_test', 'Cant_muertes',\n",
    "       'cant_confirmados', 'prom_muertes']].columns,\n",
    "    'Importance': model.coef_[0]\n",
    "})\n",
    "importances"
   ]
  },
  {
   "cell_type": "code",
   "execution_count": 327,
   "metadata": {},
   "outputs": [
    {
     "data": {
      "image/png": "[encoded data removed]",
      "text/plain": [
       "<Figure size 432x288 with 1 Axes>"
      ]
     },
     "metadata": {
      "needs_background": "light"
     },
     "output_type": "display_data"
    }
   ],
   "source": [
    "# Vamos a graficarlo, viendo que el atributo que aporta mayor informacion es la cantidad de muertes.\n",
    "plt.bar(x=importances['Attribute'], height=importances['Importance'], color='#087E8B')\n",
    "plt.title('Variables mas imprortantes', size=20)\n",
    "plt.xticks(rotation='vertical')\n",
    "plt.show()"
   ]
  },
  {
   "cell_type": "markdown",
   "metadata": {},
   "source": [
    "# INVESTIGACION - INFORME"
   ]
  },
  {
   "cell_type": "markdown",
   "metadata": {},
   "source": [
    "El informe final se encuentra en un documento pdf aparte, llamado LauraPognanteProyecto4_informe.pdf\n",
    "Repo Github: https://github.com/lalipognante/informefinal"
   ]
  },
  {
   "cell_type": "markdown",
   "metadata": {},
   "source": [
    "Plantea nuevas preguntas en base al trabajo que hiciste y en las que se pueda ahondar"
   ]
  },
  {
   "cell_type": "markdown",
   "metadata": {},
   "source": [
    "Elabora un informe con todo lo que hiciste"
   ]
  },
  {
   "cell_type": "markdown",
   "metadata": {},
   "source": [
    "Debes explicar qué te gustaría probar, por qué y cómo lo harías. Si tienes referencias (por ejemplo, un artículo que hayas encontrado, capítulo de libro, etc.) debes mencionarlas."
   ]
  },
  {
   "cell_type": "markdown",
   "metadata": {},
   "source": [
    "Debes comentar también qué resultados esperas encontrar. Por ejemplo, puedes implementar una prueba rápida y mostrar resultados preliminares, para ver si estás correctamente orientado."
   ]
  },
  {
   "cell_type": "code",
   "execution_count": null,
   "metadata": {},
   "outputs": [],
   "source": []
  }
 ],
 "metadata": {
  "colab": {
   "name": "proyecto 4.ipynb",
   "provenance": []
  },
  "kernelspec": {
   "display_name": "Python 3 (ipykernel)",
   "language": "python",
   "name": "python3"
  },
  "language_info": {
   "codemirror_mode": {
    "name": "ipython",
    "version": 3
   },
   "file_extension": ".py",
   "mimetype": "text/x-python",
   "name": "python",
   "nbconvert_exporter": "python",
   "pygments_lexer": "ipython3",
   "version": "3.9.7"
  }
 },
 "nbformat": 4,
 "nbformat_minor": 4
}
